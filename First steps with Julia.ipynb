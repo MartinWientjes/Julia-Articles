{
 "cells": [
  {
   "cell_type": "code",
   "execution_count": 1,
   "metadata": {
    "collapsed": true
   },
   "outputs": [],
   "source": [
    "# this is a comment i Julia\n",
    "# in Julia everything is an Expression "
   ]
  },
  {
   "cell_type": "code",
   "execution_count": 2,
   "metadata": {
    "collapsed": false
   },
   "outputs": [
    {
     "data": {
      "text/plain": [
       "5"
      ]
     },
     "execution_count": 2,
     "metadata": {},
     "output_type": "execute_result"
    }
   ],
   "source": [
    "2 + 3"
   ]
  },
  {
   "cell_type": "code",
   "execution_count": 3,
   "metadata": {
    "collapsed": false
   },
   "outputs": [
    {
     "data": {
      "text/plain": [
       "Int64"
      ]
     },
     "execution_count": 3,
     "metadata": {},
     "output_type": "execute_result"
    }
   ],
   "source": [
    "# variables don't have to be explicitely typed\n",
    "a = 2\n",
    "typeof(a)"
   ]
  },
  {
   "cell_type": "code",
   "execution_count": 4,
   "metadata": {
    "collapsed": false
   },
   "outputs": [
    {
     "data": {
      "text/plain": [
       "\"Harris\""
      ]
     },
     "execution_count": 4,
     "metadata": {},
     "output_type": "execute_result"
    }
   ],
   "source": [
    "# Julia supports ASCII strings\n",
    "str = \"Harris\""
   ]
  },
  {
   "cell_type": "code",
   "execution_count": 5,
   "metadata": {
    "collapsed": false
   },
   "outputs": [
    {
     "data": {
      "text/plain": [
       "ASCIIString"
      ]
     },
     "execution_count": 5,
     "metadata": {},
     "output_type": "execute_result"
    }
   ],
   "source": [
    "typeof(str)"
   ]
  },
  {
   "cell_type": "code",
   "execution_count": 6,
   "metadata": {
    "collapsed": false
   },
   "outputs": [
    {
     "data": {
      "text/plain": [
       "\"öäüß\""
      ]
     },
     "execution_count": 6,
     "metadata": {},
     "output_type": "execute_result"
    }
   ],
   "source": [
    "# and UTF8 / UTF16 strings\n",
    "str2 = \"öäüß\""
   ]
  },
  {
   "cell_type": "code",
   "execution_count": 7,
   "metadata": {
    "collapsed": false
   },
   "outputs": [
    {
     "data": {
      "text/plain": [
       "UTF8String"
      ]
     },
     "execution_count": 7,
     "metadata": {},
     "output_type": "execute_result"
    }
   ],
   "source": [
    "typeof(str2)"
   ]
  },
  {
   "cell_type": "code",
   "execution_count": 8,
   "metadata": {
    "collapsed": false
   },
   "outputs": [
    {
     "name": "stdout",
     "output_type": "stream",
     "text": [
      "ö\n",
      "ä\n",
      "ü\n",
      "ß\n"
     ]
    }
   ],
   "source": [
    "# both string types are immutable \n",
    "# and their individual characters should not be accessed by index\n",
    "# better use the iterator\n",
    "for chr in str2\n",
    "    println(chr)\n",
    "end"
   ]
  },
  {
   "cell_type": "code",
   "execution_count": 9,
   "metadata": {
    "collapsed": false
   },
   "outputs": [
    {
     "data": {
      "text/plain": [
       "UTF8String"
      ]
     },
     "execution_count": 9,
     "metadata": {},
     "output_type": "execute_result"
    }
   ],
   "source": [
    "typeof(str2)"
   ]
  },
  {
   "cell_type": "code",
   "execution_count": 10,
   "metadata": {
    "collapsed": false
   },
   "outputs": [
    {
     "data": {
      "text/plain": [
       "(1,\"VALUE\")"
      ]
     },
     "execution_count": 10,
     "metadata": {},
     "output_type": "execute_result"
    }
   ],
   "source": [
    "# This is a 'tuple'\n",
    "a_tuple = (1,\"VALUE\")"
   ]
  },
  {
   "cell_type": "code",
   "execution_count": 11,
   "metadata": {
    "collapsed": false
   },
   "outputs": [
    {
     "data": {
      "text/plain": [
       "Tuple{Int64,ASCIIString}"
      ]
     },
     "execution_count": 11,
     "metadata": {},
     "output_type": "execute_result"
    }
   ],
   "source": [
    "typeof(a_tuple)"
   ]
  },
  {
   "cell_type": "code",
   "execution_count": 12,
   "metadata": {
    "collapsed": false
   },
   "outputs": [
    {
     "data": {
      "text/plain": [
       "5-element Array{Int64,1}:\n",
       " 0\n",
       " 1\n",
       " 2\n",
       " 3\n",
       " 4"
      ]
     },
     "execution_count": 12,
     "metadata": {},
     "output_type": "execute_result"
    }
   ],
   "source": [
    "# arrays are easy to create\n",
    "array = [0,1,2,3,4]"
   ]
  },
  {
   "cell_type": "code",
   "execution_count": 13,
   "metadata": {
    "collapsed": false
   },
   "outputs": [
    {
     "data": {
      "text/plain": [
       "0"
      ]
     },
     "execution_count": 13,
     "metadata": {},
     "output_type": "execute_result"
    }
   ],
   "source": [
    "# and their index starts with 1!\n",
    "array[1]"
   ]
  },
  {
   "cell_type": "code",
   "execution_count": 14,
   "metadata": {
    "collapsed": false
   },
   "outputs": [
    {
     "data": {
      "text/plain": [
       "10-element StepRange{Int64,Int64}:\n",
       " 1,3,5,7,9,11,13,15,17,19"
      ]
     },
     "execution_count": 14,
     "metadata": {},
     "output_type": "execute_result"
    }
   ],
   "source": [
    "# Julia can also generate arrays by following certain conditions\n",
    "# Here we define a range from 1 to 20 with step 2 (this is an expression, too)\n",
    "generated_array = 1:2:20"
   ]
  },
  {
   "cell_type": "code",
   "execution_count": 15,
   "metadata": {
    "collapsed": false
   },
   "outputs": [
    {
     "data": {
      "text/plain": [
       "5"
      ]
     },
     "execution_count": 15,
     "metadata": {},
     "output_type": "execute_result"
    }
   ],
   "source": [
    "generated_array[3]"
   ]
  },
  {
   "cell_type": "code",
   "execution_count": 16,
   "metadata": {
    "collapsed": false
   },
   "outputs": [
    {
     "data": {
      "text/plain": [
       "10-element Array{Int64,1}:\n",
       "  1\n",
       "  2\n",
       "  3\n",
       "  4\n",
       "  5\n",
       "  6\n",
       "  7\n",
       "  8\n",
       "  9\n",
       " 10"
      ]
     },
     "execution_count": 16,
     "metadata": {},
     "output_type": "execute_result"
    }
   ],
   "source": [
    "# this is another way to create arrays by using 'comprehensions'\n",
    "another_array = [arr for arr in 1:10]"
   ]
  },
  {
   "cell_type": "code",
   "execution_count": 17,
   "metadata": {
    "collapsed": false
   },
   "outputs": [
    {
     "data": {
      "text/plain": [
       "3x4 Array{Int64,2}:\n",
       " 1   2   3   4\n",
       " 5   6   7   8\n",
       " 9  10  11  12"
      ]
     },
     "execution_count": 17,
     "metadata": {},
     "output_type": "execute_result"
    }
   ],
   "source": [
    "# Crreating matrices is very easy and can be done by using semicolons as separators between rows\n",
    "matrix = [1 2 3 4; \n",
    "          5 6 7 8; \n",
    "          9 10 11 12]"
   ]
  },
  {
   "cell_type": "code",
   "execution_count": 18,
   "metadata": {
    "collapsed": false
   },
   "outputs": [
    {
     "name": "stdout",
     "output_type": "stream",
     "text": [
      "Hello, world!\n"
     ]
    }
   ],
   "source": [
    "# Of course, Julia supports Conditionals like if..then..else\n",
    "if 2 > 3\n",
    "    println(\"WAT?\")\n",
    "elseif 2 < 2\n",
    "    println(\"WOOT?\")\n",
    "else\n",
    "    println(\"Hello, world!\")\n",
    "end"
   ]
  },
  {
   "cell_type": "code",
   "execution_count": 19,
   "metadata": {
    "collapsed": false
   },
   "outputs": [
    {
     "data": {
      "text/plain": [
       "false"
      ]
     },
     "execution_count": 19,
     "metadata": {},
     "output_type": "execute_result"
    }
   ],
   "source": [
    "# ternary operator is also supported\n",
    "a = 2 > 3 ? true : false "
   ]
  },
  {
   "cell_type": "code",
   "execution_count": 20,
   "metadata": {
    "collapsed": false
   },
   "outputs": [
    {
     "name": "stdout",
     "output_type": "stream",
     "text": [
      "Value is 1\n",
      "Value is 2\n",
      "Value is 3\n",
      "Value is 4\n",
      "Value is 5\n",
      "Value is 6\n",
      "Value is 7\n",
      "Value is 8\n",
      "Value is 9\n",
      "Value is 10\n"
     ]
    }
   ],
   "source": [
    "# Julia's for-loop is very flexible and powerful\n",
    "for x in 1:10\n",
    "    println(\"Value is $x\") # here we interpolate the string value\n",
    "end"
   ]
  },
  {
   "cell_type": "code",
   "execution_count": 21,
   "metadata": {
    "collapsed": false
   },
   "outputs": [
    {
     "name": "stdout",
     "output_type": "stream",
     "text": [
      "2: looping over\n",
      "3: looping over\n",
      "4: looping over\n",
      "5: looping over\n",
      "6: looping over\n",
      "7: looping over\n",
      "8: looping over\n",
      "9: looping over\n",
      "10: looping over\n"
     ]
    }
   ],
   "source": [
    "# and while loops too\n",
    "a = 1\n",
    "b = 10\n",
    "    \n",
    "while a < b\n",
    "  a += 1\n",
    "  println(\"$a: looping over\")\n",
    "end"
   ]
  },
  {
   "cell_type": "code",
   "execution_count": 22,
   "metadata": {
    "collapsed": false
   },
   "outputs": [
    {
     "name": "stdout",
     "output_type": "stream",
     "text": [
      "(i,v) = (1,1)\n",
      "(i,v) = (2,2)\n",
      "(i,v) = (3,3)\n",
      "(i,v) = (4,4)\n",
      "(i,v) = (5,5)\n",
      "(i,v) = (6,6)\n",
      "(i,v) = (7,7)\n",
      "(i,v) = (8,8)\n",
      "(i,v) = (9,9)\n",
      "(i,v) = (10,10)\n"
     ]
    }
   ],
   "source": [
    "# Julia's structures are very easy to access.\n",
    "# Here we use 'enumerate' to return not only the current value\n",
    "# but also the index itself\n",
    "# The returned value we call a 'tuple' and we show it via @show macro\n",
    "for (i, v) in enumerate(1:10)\n",
    "    @show (i, v)\n",
    "end"
   ]
  },
  {
   "cell_type": "code",
   "execution_count": null,
   "metadata": {
    "collapsed": false
   },
   "outputs": [],
   "source": [
    "# To access the Julia documentation just prepend a question mark before the term your're searching for"
   ]
  },
  {
   "cell_type": "code",
   "execution_count": 23,
   "metadata": {
    "collapsed": false
   },
   "outputs": [
    {
     "name": "stdout",
     "output_type": "stream",
     "text": [
      "search: "
     ]
    },
    {
     "data": {
      "text/latex": [
       "\\begin{verbatim}\n",
       "..  println(x)\n",
       "\n",
       "Print (using :func:`print`) ``x`` followed by a newline.\n",
       "\\end{verbatim}\n"
      ],
      "text/markdown": [
       "```rst\n",
       "..  println(x)\n",
       "\n",
       "Print (using :func:`print`) ``x`` followed by a newline.\n",
       "```\n"
      ],
      "text/plain": [
       "```rst\n",
       "..  println(x)\n",
       "\n",
       "Print (using :func:`print`) ``x`` followed by a newline.\n",
       "```\n"
      ]
     },
     "execution_count": 23,
     "metadata": {},
     "output_type": "execute_result"
    },
    {
     "name": "stdout",
     "output_type": "stream",
     "text": [
      "println print_with_color print print_joined print_escaped\n",
      "\n"
     ]
    }
   ],
   "source": [
    "?println"
   ]
  },
  {
   "cell_type": "code",
   "execution_count": 24,
   "metadata": {
    "collapsed": false
   },
   "outputs": [
    {
     "data": {
      "text/plain": [
       "doubleIt (generic function with 1 method)"
      ]
     },
     "execution_count": 24,
     "metadata": {},
     "output_type": "execute_result"
    }
   ],
   "source": [
    "# functions are first-class objects\n",
    "# Values are passed-by-reference\n",
    "function doubleIt(num)\n",
    "    num * 2\n",
    "end"
   ]
  },
  {
   "cell_type": "code",
   "execution_count": 25,
   "metadata": {
    "collapsed": false
   },
   "outputs": [
    {
     "data": {
      "text/plain": [
       "10"
      ]
     },
     "execution_count": 25,
     "metadata": {},
     "output_type": "execute_result"
    }
   ],
   "source": [
    "doubleIt(5)"
   ]
  },
  {
   "cell_type": "code",
   "execution_count": 26,
   "metadata": {
    "collapsed": false
   },
   "outputs": [
    {
     "data": {
      "text/plain": [
       "doubleItWithRet (generic function with 1 method)"
      ]
     },
     "execution_count": 26,
     "metadata": {},
     "output_type": "execute_result"
    }
   ],
   "source": [
    "# you don't have to use the return statement \n",
    "# because Julia automatically returns the result of the last expression in a function\n",
    "# Remember: in Julia everything is an expression \n",
    "function doubleItWithRet(num)\n",
    "    return num * 2\n",
    "end"
   ]
  },
  {
   "cell_type": "code",
   "execution_count": 27,
   "metadata": {
    "collapsed": false
   },
   "outputs": [
    {
     "data": {
      "text/plain": [
       "10"
      ]
     },
     "execution_count": 27,
     "metadata": {},
     "output_type": "execute_result"
    }
   ],
   "source": [
    "doubleItWithRet(5)"
   ]
  },
  {
   "cell_type": "code",
   "execution_count": 28,
   "metadata": {
    "collapsed": false
   },
   "outputs": [
    {
     "data": {
      "text/plain": [
       "doubleIt (generic function with 1 method)"
      ]
     },
     "execution_count": 28,
     "metadata": {},
     "output_type": "execute_result"
    }
   ],
   "source": [
    "# a function can also be written this way\n",
    "# just like a variable definition\n",
    "# but this applies only to short functions containing one expression\n",
    "doubleIt(num) = num * 2"
   ]
  },
  {
   "cell_type": "code",
   "execution_count": 29,
   "metadata": {
    "collapsed": false
   },
   "outputs": [
    {
     "data": {
      "text/plain": [
       "doubleIt (generic function with 2 methods)"
      ]
     },
     "execution_count": 29,
     "metadata": {},
     "output_type": "execute_result"
    }
   ],
   "source": [
    "# you can be more specific and provide the parameter type information to Julia compiler\n",
    "# Julia can deduce the type but it's often better to give this information in advance to \n",
    "# help the compiler generate more efficient code\n",
    "# Julia uses LLVM to generate native code\n",
    "doubleIt(num::Float64) = num * 2"
   ]
  },
  {
   "cell_type": "code",
   "execution_count": 30,
   "metadata": {
    "collapsed": false
   },
   "outputs": [
    {
     "data": {
      "text/plain": [
       "91.0"
      ]
     },
     "execution_count": 30,
     "metadata": {},
     "output_type": "execute_result"
    }
   ],
   "source": [
    "# now our \"doubleIt\" function can consume Int64 and Float64 values (which, of course, are not of the same type)\n",
    "doubleIt(45.5)"
   ]
  },
  {
   "cell_type": "code",
   "execution_count": 31,
   "metadata": {
    "collapsed": false
   },
   "outputs": [
    {
     "data": {
      "text/plain": [
       "returnAFun (generic function with 1 method)"
      ]
     },
     "execution_count": 31,
     "metadata": {},
     "output_type": "execute_result"
    }
   ],
   "source": [
    "# Functions can be returned\n",
    "function returnAFun()\n",
    "    aValue = 0\n",
    "    return ((a) -> a += a) # we return a function that expects a single argument\n",
    "end"
   ]
  },
  {
   "cell_type": "code",
   "execution_count": 32,
   "metadata": {
    "collapsed": false
   },
   "outputs": [
    {
     "data": {
      "text/plain": [
       "(anonymous function)"
      ]
     },
     "execution_count": 32,
     "metadata": {},
     "output_type": "execute_result"
    }
   ],
   "source": [
    "returned_func = returnAFun()"
   ]
  },
  {
   "cell_type": "code",
   "execution_count": 33,
   "metadata": {
    "collapsed": false
   },
   "outputs": [
    {
     "name": "stdout",
     "output_type": "stream",
     "text": [
      "Value is 20\n"
     ]
    }
   ],
   "source": [
    "value = returned_func(10)\n",
    "println(\"Value is $value\")"
   ]
  },
  {
   "cell_type": "code",
   "execution_count": 34,
   "metadata": {
    "collapsed": false
   },
   "outputs": [
    {
     "data": {
      "text/plain": [
       "consumeAFun (generic function with 1 method)"
      ]
     },
     "execution_count": 34,
     "metadata": {},
     "output_type": "execute_result"
    }
   ],
   "source": [
    "# Julia supports higher-order functions\n",
    "function consumeAFun(func)\n",
    "    func(5)\n",
    "end"
   ]
  },
  {
   "cell_type": "code",
   "execution_count": 35,
   "metadata": {
    "collapsed": false
   },
   "outputs": [
    {
     "data": {
      "text/plain": [
       "(anonymous function)"
      ]
     },
     "execution_count": 35,
     "metadata": {},
     "output_type": "execute_result"
    }
   ],
   "source": [
    "# here we define a function (it's quite similar to 'lambdas' in Python, for example) \n",
    "toBeConsumed_ = (a) -> a * a"
   ]
  },
  {
   "cell_type": "code",
   "execution_count": 36,
   "metadata": {
    "collapsed": false
   },
   "outputs": [
    {
     "data": {
      "text/plain": [
       "25"
      ]
     },
     "execution_count": 36,
     "metadata": {},
     "output_type": "execute_result"
    }
   ],
   "source": [
    "consumeAFun(toBeConsumed_)"
   ]
  },
  {
   "cell_type": "code",
   "execution_count": 37,
   "metadata": {
    "collapsed": false
   },
   "outputs": [
    {
     "data": {
      "text/plain": [
       "(anonymous function)"
      ]
     },
     "execution_count": 37,
     "metadata": {},
     "output_type": "execute_result"
    }
   ],
   "source": [
    "# Functions can be anonymous...\n",
    "# ...and they also can accept arbitrary amounts of arguments\n",
    "# Just use the \"splat\" operator ... as a suffix\n",
    "anonymous_func = function(manyargs...)\n",
    "    println(\"Argument Type is: \" * string(typeof(manyargs))) # here we use 'string' to convert returned value to a string\n",
    "    for arg in manyargs\n",
    "        println(\"Argument: $arg\")\n",
    "    end\n",
    "end"
   ]
  },
  {
   "cell_type": "code",
   "execution_count": 38,
   "metadata": {
    "collapsed": false
   },
   "outputs": [
    {
     "name": "stdout",
     "output_type": "stream",
     "text": [
      "Argument Type is: Tuple{Int64,Int64,Int64,Int64,Int64,Int64}\n",
      "Argument: 1\n",
      "Argument: 2\n",
      "Argument: 3\n",
      "Argument: 4\n",
      "Argument: 5\n",
      "Argument: 6\n"
     ]
    }
   ],
   "source": [
    "anonymous_func(1,2,3,4,5,6)"
   ]
  },
  {
   "cell_type": "code",
   "execution_count": 39,
   "metadata": {
    "collapsed": false
   },
   "outputs": [
    {
     "data": {
      "text/html": [
       "2 methods for generic function <b>doubleIt</b>:<ul><li> doubleIt(num::<b>Float64</b>) at In[29]:5<li> doubleIt(num) at In[28]:4</ul>"
      ],
      "text/plain": [
       "# 2 methods for generic function \"doubleIt\":\n",
       "doubleIt(num::Float64) at In[29]:5\n",
       "doubleIt(num) at In[28]:4"
      ]
     },
     "execution_count": 39,
     "metadata": {},
     "output_type": "execute_result"
    }
   ],
   "source": [
    "# Julia uses \"mutiple dispatch\" to call the most precise version of a function\n",
    "# By using methods we can explore the available function definitions.\n",
    "methods(doubleIt)"
   ]
  },
  {
   "cell_type": "code",
   "execution_count": null,
   "metadata": {
    "collapsed": true
   },
   "outputs": [],
   "source": [
    "# In other languages, especially the object-oriented ones, \n",
    "# a 'method' is a functions belonging to a certain instance of a class\n",
    "# In Julia a 'method' belongs to a function\n",
    "# Methods in Julia are different 'versions' of the same function \n",
    "# which have different signatures "
   ]
  },
  {
   "cell_type": "code",
   "execution_count": 40,
   "metadata": {
    "collapsed": false
   },
   "outputs": [],
   "source": [
    "# Julia has no excessive class support like Java, C#, C++ etc.\n",
    "# Instead it provides a simple type hierarchy without deep nesting\n",
    "\n",
    "#Here we define an abstract class \n",
    "# Unlike in other OO-languages abstract classes don't have fields \n",
    "# and concrete types can't further be subtyped\n",
    "\n",
    "abstract Device\n",
    "\n",
    "# We subclass from Device by creating a new concrete type 'Computer'\n",
    "type Computer <: Device\n",
    "    name::AbstractString\n",
    "    price::Float64\n",
    "    peripherals::Array{AbstractString}\n",
    "end\n",
    "\n",
    "# To create an immutable type we simply replace 'type' with immutable\n",
    "immutable iPad <: Device\n",
    "    name::AbstractString\n",
    "    price::Float64\n",
    "end\n",
    "\n",
    "# We can set some defaults for the type constructor, too\n",
    "immutable iPhone <: Device\n",
    "    name::AbstractString\n",
    "    price::Float64\n",
    "    iPhone(name=\"iPhone 6\",price=700.00) = new(name,price)\n",
    "end\n"
   ]
  },
  {
   "cell_type": "code",
   "execution_count": 41,
   "metadata": {
    "collapsed": false
   },
   "outputs": [
    {
     "data": {
      "text/plain": [
       "iPhone(\"iPhone 6\",700.0)"
      ]
     },
     "execution_count": 41,
     "metadata": {},
     "output_type": "execute_result"
    }
   ],
   "source": [
    "iphone = iPhone()"
   ]
  },
  {
   "cell_type": "code",
   "execution_count": 42,
   "metadata": {
    "collapsed": false
   },
   "outputs": [
    {
     "data": {
      "text/plain": [
       "\"iPhone 6\""
      ]
     },
     "execution_count": 42,
     "metadata": {},
     "output_type": "execute_result"
    }
   ],
   "source": [
    "iphone.name"
   ]
  },
  {
   "cell_type": "code",
   "execution_count": 43,
   "metadata": {
    "collapsed": false
   },
   "outputs": [
    {
     "ename": "LoadError",
     "evalue": "LoadError: type iPhone is immutable\nwhile loading In[43], in expression starting on line 2",
     "output_type": "error",
     "traceback": [
      "LoadError: type iPhone is immutable\nwhile loading In[43], in expression starting on line 2",
      "",
      " [inlined code] from essentials.jl:114"
     ]
    }
   ],
   "source": [
    "# because we declared iPhone type to be immutable no changes are allowed\n",
    "iphone.name = \"iPhone 5\""
   ]
  },
  {
   "cell_type": "code",
   "execution_count": 44,
   "metadata": {
    "collapsed": false
   },
   "outputs": [
    {
     "data": {
      "text/plain": [
       "Computer(\"DELL\",1000.0,AbstractString[\"mice\",\"printer\"])"
      ]
     },
     "execution_count": 44,
     "metadata": {},
     "output_type": "execute_result"
    }
   ],
   "source": [
    "computer = Computer(\"DELL\",1000.00,[\"mice\",\"printer\"])"
   ]
  },
  {
   "cell_type": "code",
   "execution_count": 45,
   "metadata": {
    "collapsed": false
   },
   "outputs": [
    {
     "data": {
      "text/plain": [
       "\"Lenovo\""
      ]
     },
     "execution_count": 45,
     "metadata": {},
     "output_type": "execute_result"
    }
   ],
   "source": [
    "# The type 'Computer' is not immutable so changes are allowed\n",
    "computer.name = \"Lenovo\""
   ]
  },
  {
   "cell_type": "code",
   "execution_count": 46,
   "metadata": {
    "collapsed": false
   },
   "outputs": [
    {
     "name": "stdout",
     "output_type": "stream",
     "text": [
      "\n",
      "define double @julia_doubleIt_2202(double) {\n",
      "top:\n",
      "  %1 = fmul double %0, 2.000000e+00\n",
      "  ret double %1\n",
      "}\n"
     ]
    }
   ],
   "source": [
    "# we can easily inspect the generated LLVM code\n",
    "# the commands with a preceding @ are called 'macros'\n",
    "@code_llvm doubleIt(45.5)"
   ]
  },
  {
   "cell_type": "code",
   "execution_count": 47,
   "metadata": {
    "collapsed": false
   },
   "outputs": [
    {
     "name": "stdout",
     "output_type": "stream",
     "text": [
      "\t.text\n",
      "Filename: In[29]\n",
      "Source line: 5\n",
      "\tpushq\t%rbp\n",
      "\tmovq\t%rsp, %rbp\n",
      "Source line: 5\n",
      "\taddsd\t%xmm0, %xmm0\n",
      "\tpopq\t%rbp\n",
      "\tret\n"
     ]
    }
   ],
   "source": [
    "# or even the final, machine code\n",
    "@code_native doubleIt(45.5)"
   ]
  },
  {
   "cell_type": "code",
   "execution_count": 48,
   "metadata": {
    "collapsed": false
   },
   "outputs": [
    {
     "name": "stdout",
     "output_type": "stream",
     "text": [
      "  0.003504 seconds (456"
     ]
    },
    {
     "data": {
      "text/plain": [
       "20"
      ]
     },
     "execution_count": 48,
     "metadata": {},
     "output_type": "execute_result"
    },
    {
     "name": "stdout",
     "output_type": "stream",
     "text": [
      " allocations: 56.759 KB)\n"
     ]
    }
   ],
   "source": [
    "# if you want to know how long it takes to execute a piece of code just prepend the @time macro\n",
    "@time doubleIt(10)"
   ]
  },
  {
   "cell_type": "code",
   "execution_count": 49,
   "metadata": {
    "collapsed": false
   },
   "outputs": [],
   "source": [
    "# We can create our own macros, too.\n",
    "# We define a macro with 'macro' keyword and\n",
    "# declare the code block which will be expanded later\n",
    "# by using 'quote'-'end' markers\n",
    "# Don't forget to prepend $ before the inserted code (variable, expression etc.)\n",
    "# Without $ Julia wouldn't expand the given code\n",
    "\n",
    "macro injectIt(func)\n",
    "    quote\n",
    "        $func\n",
    "    end\n",
    "end"
   ]
  },
  {
   "cell_type": "code",
   "execution_count": 50,
   "metadata": {
    "collapsed": false
   },
   "outputs": [
    {
     "data": {
      "text/plain": [
       "5"
      ]
     },
     "execution_count": 50,
     "metadata": {},
     "output_type": "execute_result"
    }
   ],
   "source": [
    "function addition(a::Int64,b::Int64)\n",
    "    a + b\n",
    "end\n",
    "\n",
    "@injectIt addition(2,3)"
   ]
  },
  {
   "cell_type": "code",
   "execution_count": 51,
   "metadata": {
    "collapsed": false
   },
   "outputs": [
    {
     "data": {
      "text/plain": [
       "funcgen (generic function with 1 method)"
      ]
     },
     "execution_count": 51,
     "metadata": {},
     "output_type": "execute_result"
    }
   ],
   "source": [
    "# Julia is a 'homoiconic' language\n",
    "# this means that it treats its code and data the same way\n",
    "# With Julia one can access the AST (abstract syntax tree) directly\n",
    "# This provides powerful instruments for metaprogramming (e.g. code that generates code)\n",
    "\n",
    "# Here we define a function that will act as a \"function generator\".\n",
    "# We iterate over a loop and generate a new piece of code that will be immediately \n",
    "# inserted into our running code. This means that during the execution of \"funcgen\"\n",
    "# the same program will get a few more functions \"injected\". Therefore the\n",
    "# 'return value' of 'funcgen' is the 'expansion' of our running program: it expands into\n",
    "# new functions prefixed with 'mult_'. The amount of these new function depends on the \n",
    "# argument 'num' we provide to 'funcgen'\n",
    "#\n",
    "# The important part here is the macro @eval which reads the following code \n",
    "\n",
    "function funcgen(num::Int64)\n",
    "    for count in 1:num\n",
    "        println(\"Generating function no. $count\")\n",
    "        @eval function $(symbol(string(\"mult_\",count)))(par::Int64)\n",
    "                par * $count\n",
    "             end\n",
    "    end\n",
    "end"
   ]
  },
  {
   "cell_type": "code",
   "execution_count": 52,
   "metadata": {
    "collapsed": false
   },
   "outputs": [
    {
     "name": "stdout",
     "output_type": "stream",
     "text": [
      "Generating function no. 1\n",
      "Generating function no. 2\n",
      "Generating function no. 3\n",
      "Generating function no. 4\n",
      "Generating function no. 5\n",
      "Generating function no. 6\n",
      "Generating function no. 7\n",
      "Generating function no. 8\n",
      "Generating function no. 9\n",
      "Generating function no. 10\n"
     ]
    }
   ],
   "source": [
    "# Here, our function generator creates 10 new mult_-functions. \n",
    "funcgen(10)"
   ]
  },
  {
   "cell_type": "code",
   "execution_count": 53,
   "metadata": {
    "collapsed": false
   },
   "outputs": [
    {
     "data": {
      "text/plain": [
       "10"
      ]
     },
     "execution_count": 53,
     "metadata": {},
     "output_type": "execute_result"
    }
   ],
   "source": [
    "# we execute one of them to check if the newly generated code is OK\n",
    "mult_2(5)"
   ]
  },
  {
   "cell_type": "code",
   "execution_count": 54,
   "metadata": {
    "collapsed": false
   },
   "outputs": [
    {
     "name": "stderr",
     "output_type": "stream",
     "text": [
      "WARNING: using DataFrames.array in module Main conflicts with an existing identifier.\n",
      "WARNING: Base.String is deprecated, use AbstractString instead.\n",
      "  likely near C:\\Users\\Harris\\.julia\\v0.5\\RDatasets\\src\\dataset.jl:1\n",
      "WARNING: Base.String is deprecated, use AbstractString instead.\n",
      "  likely near C:\\Users\\Harris\\.julia\\v0.5\\RDatasets\\src\\dataset.jl:1\n",
      "WARNING: Base.String is deprecated, use AbstractString instead.\n",
      "  likely near C:\\Users\\Harris\\.julia\\v0.5\\RDatasets\\src\\datasets.jl:1\n"
     ]
    }
   ],
   "source": [
    "# Julia's ecosystem contains many useful packages\n",
    "# Here we load some of them\n",
    "using DataFrames # A Julia implementation of DataFrames similar to R or Python\n",
    "using RDatasets # this package is a port from R\n",
    "using PyPlot    # this one is from Python"
   ]
  },
  {
   "cell_type": "code",
   "execution_count": null,
   "metadata": {
    "collapsed": true
   },
   "outputs": [],
   "source": [
    "# to update local package list use:\n",
    "# Pkg.update()\n",
    "# to initialize a new local package repository use:\n",
    "# Pkg.init() # this is automatically done when calling Pkg.update() for the first time\n",
    "# to add a new package use:\n",
    "# Pkg.add(PACKAGE_NAME_IN_DOUBLE_QUOTES)\n",
    "# to build a new package from source use:\n",
    "# Pkg.build(PACKAGE_NAME_IN_DOUBLE_QUOTES)"
   ]
  },
  {
   "cell_type": "code",
   "execution_count": 55,
   "metadata": {
    "collapsed": false
   },
   "outputs": [
    {
     "data": {
      "text/html": [
       "<table class=\"data-frame\"><tr><th></th><th>SepalLength</th><th>SepalWidth</th><th>PetalLength</th><th>PetalWidth</th><th>Species</th></tr><tr><th>1</th><td>5.1</td><td>3.5</td><td>1.4</td><td>0.2</td><td>setosa</td></tr><tr><th>2</th><td>4.9</td><td>3.0</td><td>1.4</td><td>0.2</td><td>setosa</td></tr><tr><th>3</th><td>4.7</td><td>3.2</td><td>1.3</td><td>0.2</td><td>setosa</td></tr><tr><th>4</th><td>4.6</td><td>3.1</td><td>1.5</td><td>0.2</td><td>setosa</td></tr><tr><th>5</th><td>5.0</td><td>3.6</td><td>1.4</td><td>0.2</td><td>setosa</td></tr><tr><th>6</th><td>5.4</td><td>3.9</td><td>1.7</td><td>0.4</td><td>setosa</td></tr><tr><th>7</th><td>4.6</td><td>3.4</td><td>1.4</td><td>0.3</td><td>setosa</td></tr><tr><th>8</th><td>5.0</td><td>3.4</td><td>1.5</td><td>0.2</td><td>setosa</td></tr><tr><th>9</th><td>4.4</td><td>2.9</td><td>1.4</td><td>0.2</td><td>setosa</td></tr><tr><th>10</th><td>4.9</td><td>3.1</td><td>1.5</td><td>0.1</td><td>setosa</td></tr><tr><th>11</th><td>5.4</td><td>3.7</td><td>1.5</td><td>0.2</td><td>setosa</td></tr><tr><th>12</th><td>4.8</td><td>3.4</td><td>1.6</td><td>0.2</td><td>setosa</td></tr><tr><th>13</th><td>4.8</td><td>3.0</td><td>1.4</td><td>0.1</td><td>setosa</td></tr><tr><th>14</th><td>4.3</td><td>3.0</td><td>1.1</td><td>0.1</td><td>setosa</td></tr><tr><th>15</th><td>5.8</td><td>4.0</td><td>1.2</td><td>0.2</td><td>setosa</td></tr><tr><th>16</th><td>5.7</td><td>4.4</td><td>1.5</td><td>0.4</td><td>setosa</td></tr><tr><th>17</th><td>5.4</td><td>3.9</td><td>1.3</td><td>0.4</td><td>setosa</td></tr><tr><th>18</th><td>5.1</td><td>3.5</td><td>1.4</td><td>0.3</td><td>setosa</td></tr><tr><th>19</th><td>5.7</td><td>3.8</td><td>1.7</td><td>0.3</td><td>setosa</td></tr><tr><th>20</th><td>5.1</td><td>3.8</td><td>1.5</td><td>0.3</td><td>setosa</td></tr><tr><th>21</th><td>5.4</td><td>3.4</td><td>1.7</td><td>0.2</td><td>setosa</td></tr><tr><th>22</th><td>5.1</td><td>3.7</td><td>1.5</td><td>0.4</td><td>setosa</td></tr><tr><th>23</th><td>4.6</td><td>3.6</td><td>1.0</td><td>0.2</td><td>setosa</td></tr><tr><th>24</th><td>5.1</td><td>3.3</td><td>1.7</td><td>0.5</td><td>setosa</td></tr><tr><th>25</th><td>4.8</td><td>3.4</td><td>1.9</td><td>0.2</td><td>setosa</td></tr><tr><th>26</th><td>5.0</td><td>3.0</td><td>1.6</td><td>0.2</td><td>setosa</td></tr><tr><th>27</th><td>5.0</td><td>3.4</td><td>1.6</td><td>0.4</td><td>setosa</td></tr><tr><th>28</th><td>5.2</td><td>3.5</td><td>1.5</td><td>0.2</td><td>setosa</td></tr><tr><th>29</th><td>5.2</td><td>3.4</td><td>1.4</td><td>0.2</td><td>setosa</td></tr><tr><th>30</th><td>4.7</td><td>3.2</td><td>1.6</td><td>0.2</td><td>setosa</td></tr><tr><th>&vellip;</th><td>&vellip;</td><td>&vellip;</td><td>&vellip;</td><td>&vellip;</td><td>&vellip;</td></tr></table>"
      ],
      "text/plain": [
       "150x5 DataFrames.DataFrame\n",
       "| Row | SepalLength | SepalWidth | PetalLength | PetalWidth | Species     |\n",
       "|-----|-------------|------------|-------------|------------|-------------|\n",
       "| 1   | 5.1         | 3.5        | 1.4         | 0.2        | \"setosa\"    |\n",
       "| 2   | 4.9         | 3.0        | 1.4         | 0.2        | \"setosa\"    |\n",
       "| 3   | 4.7         | 3.2        | 1.3         | 0.2        | \"setosa\"    |\n",
       "| 4   | 4.6         | 3.1        | 1.5         | 0.2        | \"setosa\"    |\n",
       "| 5   | 5.0         | 3.6        | 1.4         | 0.2        | \"setosa\"    |\n",
       "| 6   | 5.4         | 3.9        | 1.7         | 0.4        | \"setosa\"    |\n",
       "| 7   | 4.6         | 3.4        | 1.4         | 0.3        | \"setosa\"    |\n",
       "| 8   | 5.0         | 3.4        | 1.5         | 0.2        | \"setosa\"    |\n",
       "| 9   | 4.4         | 2.9        | 1.4         | 0.2        | \"setosa\"    |\n",
       "| 10  | 4.9         | 3.1        | 1.5         | 0.1        | \"setosa\"    |\n",
       "| 11  | 5.4         | 3.7        | 1.5         | 0.2        | \"setosa\"    |\n",
       "⋮\n",
       "| 139 | 6.0         | 3.0        | 4.8         | 1.8        | \"virginica\" |\n",
       "| 140 | 6.9         | 3.1        | 5.4         | 2.1        | \"virginica\" |\n",
       "| 141 | 6.7         | 3.1        | 5.6         | 2.4        | \"virginica\" |\n",
       "| 142 | 6.9         | 3.1        | 5.1         | 2.3        | \"virginica\" |\n",
       "| 143 | 5.8         | 2.7        | 5.1         | 1.9        | \"virginica\" |\n",
       "| 144 | 6.8         | 3.2        | 5.9         | 2.3        | \"virginica\" |\n",
       "| 145 | 6.7         | 3.3        | 5.7         | 2.5        | \"virginica\" |\n",
       "| 146 | 6.7         | 3.0        | 5.2         | 2.3        | \"virginica\" |\n",
       "| 147 | 6.3         | 2.5        | 5.0         | 1.9        | \"virginica\" |\n",
       "| 148 | 6.5         | 3.0        | 5.2         | 2.0        | \"virginica\" |\n",
       "| 149 | 6.2         | 3.4        | 5.4         | 2.3        | \"virginica\" |\n",
       "| 150 | 5.9         | 3.0        | 5.1         | 1.8        | \"virginica\" |"
      ]
     },
     "execution_count": 55,
     "metadata": {},
     "output_type": "execute_result"
    }
   ],
   "source": [
    "# This is how we load a dataset from RDatasets package\n",
    "# RDatasets brings many predefined datasets\n",
    "iris = dataset(\"datasets\", \"iris\")"
   ]
  },
  {
   "cell_type": "code",
   "execution_count": 56,
   "metadata": {
    "collapsed": false
   },
   "outputs": [
    {
     "data": {
      "text/html": [
       "<table class=\"data-frame\"><tr><th></th><th>Package</th><th>Dataset</th><th>Title</th><th>Rows</th><th>Columns</th></tr><tr><th>1</th><td>COUNT</td><td>affairs</td><td>affairs</td><td>601</td><td>18</td></tr><tr><th>2</th><td>COUNT</td><td>azdrg112</td><td>azdrg112</td><td>1798</td><td>4</td></tr><tr><th>3</th><td>COUNT</td><td>azpro</td><td>azpro</td><td>3589</td><td>6</td></tr><tr><th>4</th><td>COUNT</td><td>badhealth</td><td>badhealth</td><td>1127</td><td>3</td></tr><tr><th>5</th><td>COUNT</td><td>fasttrakg</td><td>fasttrakg</td><td>15</td><td>9</td></tr><tr><th>6</th><td>COUNT</td><td>lbw</td><td>lbw</td><td>189</td><td>10</td></tr><tr><th>7</th><td>COUNT</td><td>lbwgrp</td><td>lbwgrp</td><td>6</td><td>7</td></tr><tr><th>8</th><td>COUNT</td><td>loomis</td><td>loomis</td><td>410</td><td>11</td></tr><tr><th>9</th><td>COUNT</td><td>mdvis</td><td>mdvis</td><td>2227</td><td>13</td></tr><tr><th>10</th><td>COUNT</td><td>medpar</td><td>medpar</td><td>1495</td><td>10</td></tr><tr><th>11</th><td>COUNT</td><td>rwm</td><td>rwm</td><td>27326</td><td>4</td></tr><tr><th>12</th><td>COUNT</td><td>rwm5yr</td><td>rwm5yr</td><td>19609</td><td>17</td></tr><tr><th>13</th><td>COUNT</td><td>ships</td><td>ships</td><td>40</td><td>7</td></tr><tr><th>14</th><td>COUNT</td><td>titanic</td><td>titanic</td><td>1316</td><td>4</td></tr><tr><th>15</th><td>COUNT</td><td>titanicgrp</td><td>titanicgrp</td><td>12</td><td>5</td></tr><tr><th>16</th><td>Ecdat</td><td>Accident</td><td>Ship Accidents</td><td>40</td><td>5</td></tr><tr><th>17</th><td>Ecdat</td><td>Airline</td><td>Cost for U.S. Airlines</td><td>90</td><td>6</td></tr><tr><th>18</th><td>Ecdat</td><td>Airq</td><td>Air Quality for Californian Metropolitan Areas</td><td>30</td><td>6</td></tr><tr><th>19</th><td>Ecdat</td><td>Benefits</td><td>Unemployement of Blue Collar Workers</td><td>4877</td><td>18</td></tr><tr><th>20</th><td>Ecdat</td><td>Bids</td><td>Bids Received By U.S. Firms</td><td>126</td><td>12</td></tr><tr><th>21</th><td>Ecdat</td><td>BudgetFood</td><td>Budget Share of Food for Spanish Households</td><td>23972</td><td>6</td></tr><tr><th>22</th><td>Ecdat</td><td>BudgetItaly</td><td>Budget Shares for Italian Households</td><td>1729</td><td>11</td></tr><tr><th>23</th><td>Ecdat</td><td>BudgetUK</td><td>Budget Shares of British Households</td><td>1519</td><td>10</td></tr><tr><th>24</th><td>Ecdat</td><td>Bwages</td><td>Wages in Belgium</td><td>1472</td><td>4</td></tr><tr><th>25</th><td>Ecdat</td><td>CPSch3</td><td>Earnings from the Current Population Survey</td><td>11130</td><td>3</td></tr><tr><th>26</th><td>Ecdat</td><td>Capm</td><td>Stock Market Data</td><td>516</td><td>5</td></tr><tr><th>27</th><td>Ecdat</td><td>Car</td><td>Stated Preferences for Car Choice</td><td>4654</td><td>70</td></tr><tr><th>28</th><td>Ecdat</td><td>Caschool</td><td>The California Test Score Data Set</td><td>420</td><td>17</td></tr><tr><th>29</th><td>Ecdat</td><td>Catsup</td><td>Choice of Brand for Catsup</td><td>2798</td><td>14</td></tr><tr><th>30</th><td>Ecdat</td><td>Cigar</td><td>Cigarette Consumption</td><td>1380</td><td>9</td></tr><tr><th>&vellip;</th><td>&vellip;</td><td>&vellip;</td><td>&vellip;</td><td>&vellip;</td><td>&vellip;</td></tr></table>"
      ],
      "text/plain": [
       "733x5 DataFrames.DataFrame\n",
       "| Row | Package | Dataset        | Title                                  |\n",
       "|-----|---------|----------------|----------------------------------------|\n",
       "| 1   | \"COUNT\" | \"affairs\"      | \"affairs\"                              |\n",
       "| 2   | \"COUNT\" | \"azdrg112\"     | \"azdrg112\"                             |\n",
       "| 3   | \"COUNT\" | \"azpro\"        | \"azpro\"                                |\n",
       "| 4   | \"COUNT\" | \"badhealth\"    | \"badhealth\"                            |\n",
       "| 5   | \"COUNT\" | \"fasttrakg\"    | \"fasttrakg\"                            |\n",
       "| 6   | \"COUNT\" | \"lbw\"          | \"lbw\"                                  |\n",
       "| 7   | \"COUNT\" | \"lbwgrp\"       | \"lbwgrp\"                               |\n",
       "| 8   | \"COUNT\" | \"loomis\"       | \"loomis\"                               |\n",
       "| 9   | \"COUNT\" | \"mdvis\"        | \"mdvis\"                                |\n",
       "| 10  | \"COUNT\" | \"medpar\"       | \"medpar\"                               |\n",
       "| 11  | \"COUNT\" | \"rwm\"          | \"rwm\"                                  |\n",
       "⋮\n",
       "| 722 | \"vcd\"   | \"Punishment\"   | \"Corporal Punishment Data\"             |\n",
       "| 723 | \"vcd\"   | \"RepVict\"      | \"Repeat Victimization Data\"            |\n",
       "| 724 | \"vcd\"   | \"Saxony\"       | \"Families in Saxony\"                   |\n",
       "| 725 | \"vcd\"   | \"SexualFun\"    | \"Sex is Fun\"                           |\n",
       "| 726 | \"vcd\"   | \"SpaceShuttle\" | \"Space Shuttle O-ring Failures\"        |\n",
       "| 727 | \"vcd\"   | \"Suicide\"      | \"Suicide Rates in Germany\"             |\n",
       "| 728 | \"vcd\"   | \"Trucks\"       | \"Truck Accidents Data\"                 |\n",
       "| 729 | \"vcd\"   | \"UKSoccer\"     | \"UK Soccer Scores\"                     |\n",
       "| 730 | \"vcd\"   | \"VisualAcuity\" | \"Visual Acuity in Left and Right Eyes\" |\n",
       "| 731 | \"vcd\"   | \"VonBort\"      | \"Von Bortkiewicz Horse Kicks Data\"     |\n",
       "| 732 | \"vcd\"   | \"WeldonDice\"   | \"Weldon's Dice Data\"                   |\n",
       "| 733 | \"vcd\"   | \"WomenQueue\"   | \"Women in Queues\"                      |\n",
       "\n",
       "| Row | Rows  | Columns |\n",
       "|-----|-------|---------|\n",
       "| 1   | 601   | 18      |\n",
       "| 2   | 1798  | 4       |\n",
       "| 3   | 3589  | 6       |\n",
       "| 4   | 1127  | 3       |\n",
       "| 5   | 15    | 9       |\n",
       "| 6   | 189   | 10      |\n",
       "| 7   | 6     | 7       |\n",
       "| 8   | 410   | 11      |\n",
       "| 9   | 2227  | 13      |\n",
       "| 10  | 1495  | 10      |\n",
       "| 11  | 27326 | 4       |\n",
       "⋮\n",
       "| 722 | 36    | 5       |\n",
       "| 723 | 8     | 9       |\n",
       "| 724 | 13    | 2       |\n",
       "| 725 | 4     | 5       |\n",
       "| 726 | 24    | 6       |\n",
       "| 727 | 306   | 6       |\n",
       "| 728 | 24    | 5       |\n",
       "| 729 | 5     | 6       |\n",
       "| 730 | 32    | 4       |\n",
       "| 731 | 280   | 4       |\n",
       "| 732 | 11    | 2       |\n",
       "| 733 | 11    | 2       |"
      ]
     },
     "execution_count": 56,
     "metadata": {},
     "output_type": "execute_result"
    }
   ],
   "source": [
    "# We get the complete list by calling 'datasets'\n",
    "RDatasets.datasets()"
   ]
  },
  {
   "cell_type": "code",
   "execution_count": 57,
   "metadata": {
    "collapsed": false
   },
   "outputs": [
    {
     "data": {
      "text/html": [
       "<table class=\"data-frame\"><tr><th></th><th>SepalLength</th><th>SepalWidth</th><th>PetalLength</th><th>PetalWidth</th><th>Species</th></tr><tr><th>1</th><td>5.1</td><td>3.5</td><td>1.4</td><td>0.2</td><td>setosa</td></tr><tr><th>2</th><td>4.9</td><td>3.0</td><td>1.4</td><td>0.2</td><td>setosa</td></tr><tr><th>3</th><td>4.7</td><td>3.2</td><td>1.3</td><td>0.2</td><td>setosa</td></tr><tr><th>4</th><td>4.6</td><td>3.1</td><td>1.5</td><td>0.2</td><td>setosa</td></tr><tr><th>5</th><td>5.0</td><td>3.6</td><td>1.4</td><td>0.2</td><td>setosa</td></tr><tr><th>6</th><td>5.4</td><td>3.9</td><td>1.7</td><td>0.4</td><td>setosa</td></tr></table>"
      ],
      "text/plain": [
       "6x5 DataFrames.DataFrame\n",
       "| Row | SepalLength | SepalWidth | PetalLength | PetalWidth | Species  |\n",
       "|-----|-------------|------------|-------------|------------|----------|\n",
       "| 1   | 5.1         | 3.5        | 1.4         | 0.2        | \"setosa\" |\n",
       "| 2   | 4.9         | 3.0        | 1.4         | 0.2        | \"setosa\" |\n",
       "| 3   | 4.7         | 3.2        | 1.3         | 0.2        | \"setosa\" |\n",
       "| 4   | 4.6         | 3.1        | 1.5         | 0.2        | \"setosa\" |\n",
       "| 5   | 5.0         | 3.6        | 1.4         | 0.2        | \"setosa\" |\n",
       "| 6   | 5.4         | 3.9        | 1.7         | 0.4        | \"setosa\" |"
      ]
     },
     "execution_count": 57,
     "metadata": {},
     "output_type": "execute_result"
    }
   ],
   "source": [
    "# With RDatasets we can work almost like in R environment\n",
    "RDatasets.head(iris)"
   ]
  },
  {
   "cell_type": "code",
   "execution_count": 58,
   "metadata": {
    "collapsed": false
   },
   "outputs": [
    {
     "data": {
      "text/html": [
       "<table class=\"data-frame\"><tr><th></th><th>Species</th><th>x1</th></tr><tr><th>1</th><td>setosa</td><td>50</td></tr><tr><th>2</th><td>versicolor</td><td>50</td></tr><tr><th>3</th><td>virginica</td><td>50</td></tr></table>"
      ],
      "text/plain": [
       "3x2 DataFrames.DataFrame\n",
       "| Row | Species      | x1 |\n",
       "|-----|--------------|----|\n",
       "| 1   | \"setosa\"     | 50 |\n",
       "| 2   | \"versicolor\" | 50 |\n",
       "| 3   | \"virginica\"  | 50 |"
      ]
     },
     "execution_count": 58,
     "metadata": {},
     "output_type": "execute_result"
    }
   ],
   "source": [
    "# Here we group the species by their name \n",
    "# We use the 5-th row from the original dataset and count them by 'nrow'\n",
    "by(iris, 5, nrow)"
   ]
  },
  {
   "cell_type": "code",
   "execution_count": 59,
   "metadata": {
    "collapsed": false
   },
   "outputs": [
    {
     "data": {
      "text/html": [
       "<table class=\"data-frame\"><tr><th></th><th>Class</th><th>Sex</th><th>Age</th><th>Survived</th><th>Freq</th></tr><tr><th>1</th><td>1st</td><td>Male</td><td>Child</td><td>No</td><td>0</td></tr><tr><th>2</th><td>2nd</td><td>Male</td><td>Child</td><td>No</td><td>0</td></tr><tr><th>3</th><td>3rd</td><td>Male</td><td>Child</td><td>No</td><td>35</td></tr><tr><th>4</th><td>Crew</td><td>Male</td><td>Child</td><td>No</td><td>0</td></tr><tr><th>5</th><td>1st</td><td>Female</td><td>Child</td><td>No</td><td>0</td></tr><tr><th>6</th><td>2nd</td><td>Female</td><td>Child</td><td>No</td><td>0</td></tr><tr><th>7</th><td>3rd</td><td>Female</td><td>Child</td><td>No</td><td>17</td></tr><tr><th>8</th><td>Crew</td><td>Female</td><td>Child</td><td>No</td><td>0</td></tr><tr><th>9</th><td>1st</td><td>Male</td><td>Adult</td><td>No</td><td>118</td></tr><tr><th>10</th><td>2nd</td><td>Male</td><td>Adult</td><td>No</td><td>154</td></tr><tr><th>11</th><td>3rd</td><td>Male</td><td>Adult</td><td>No</td><td>387</td></tr><tr><th>12</th><td>Crew</td><td>Male</td><td>Adult</td><td>No</td><td>670</td></tr><tr><th>13</th><td>1st</td><td>Female</td><td>Adult</td><td>No</td><td>4</td></tr><tr><th>14</th><td>2nd</td><td>Female</td><td>Adult</td><td>No</td><td>13</td></tr><tr><th>15</th><td>3rd</td><td>Female</td><td>Adult</td><td>No</td><td>89</td></tr><tr><th>16</th><td>Crew</td><td>Female</td><td>Adult</td><td>No</td><td>3</td></tr><tr><th>17</th><td>1st</td><td>Male</td><td>Child</td><td>Yes</td><td>5</td></tr><tr><th>18</th><td>2nd</td><td>Male</td><td>Child</td><td>Yes</td><td>11</td></tr><tr><th>19</th><td>3rd</td><td>Male</td><td>Child</td><td>Yes</td><td>13</td></tr><tr><th>20</th><td>Crew</td><td>Male</td><td>Child</td><td>Yes</td><td>0</td></tr><tr><th>21</th><td>1st</td><td>Female</td><td>Child</td><td>Yes</td><td>1</td></tr><tr><th>22</th><td>2nd</td><td>Female</td><td>Child</td><td>Yes</td><td>13</td></tr><tr><th>23</th><td>3rd</td><td>Female</td><td>Child</td><td>Yes</td><td>14</td></tr><tr><th>24</th><td>Crew</td><td>Female</td><td>Child</td><td>Yes</td><td>0</td></tr><tr><th>25</th><td>1st</td><td>Male</td><td>Adult</td><td>Yes</td><td>57</td></tr><tr><th>26</th><td>2nd</td><td>Male</td><td>Adult</td><td>Yes</td><td>14</td></tr><tr><th>27</th><td>3rd</td><td>Male</td><td>Adult</td><td>Yes</td><td>75</td></tr><tr><th>28</th><td>Crew</td><td>Male</td><td>Adult</td><td>Yes</td><td>192</td></tr><tr><th>29</th><td>1st</td><td>Female</td><td>Adult</td><td>Yes</td><td>140</td></tr><tr><th>30</th><td>2nd</td><td>Female</td><td>Adult</td><td>Yes</td><td>80</td></tr><tr><th>&vellip;</th><td>&vellip;</td><td>&vellip;</td><td>&vellip;</td><td>&vellip;</td><td>&vellip;</td></tr></table>"
      ],
      "text/plain": [
       "32x5 DataFrames.DataFrame\n",
       "| Row | Class  | Sex      | Age     | Survived | Freq |\n",
       "|-----|--------|----------|---------|----------|------|\n",
       "| 1   | \"1st\"  | \"Male\"   | \"Child\" | \"No\"     | 0    |\n",
       "| 2   | \"2nd\"  | \"Male\"   | \"Child\" | \"No\"     | 0    |\n",
       "| 3   | \"3rd\"  | \"Male\"   | \"Child\" | \"No\"     | 35   |\n",
       "| 4   | \"Crew\" | \"Male\"   | \"Child\" | \"No\"     | 0    |\n",
       "| 5   | \"1st\"  | \"Female\" | \"Child\" | \"No\"     | 0    |\n",
       "| 6   | \"2nd\"  | \"Female\" | \"Child\" | \"No\"     | 0    |\n",
       "| 7   | \"3rd\"  | \"Female\" | \"Child\" | \"No\"     | 17   |\n",
       "| 8   | \"Crew\" | \"Female\" | \"Child\" | \"No\"     | 0    |\n",
       "| 9   | \"1st\"  | \"Male\"   | \"Adult\" | \"No\"     | 118  |\n",
       "| 10  | \"2nd\"  | \"Male\"   | \"Adult\" | \"No\"     | 154  |\n",
       "| 11  | \"3rd\"  | \"Male\"   | \"Adult\" | \"No\"     | 387  |\n",
       "⋮\n",
       "| 21  | \"1st\"  | \"Female\" | \"Child\" | \"Yes\"    | 1    |\n",
       "| 22  | \"2nd\"  | \"Female\" | \"Child\" | \"Yes\"    | 13   |\n",
       "| 23  | \"3rd\"  | \"Female\" | \"Child\" | \"Yes\"    | 14   |\n",
       "| 24  | \"Crew\" | \"Female\" | \"Child\" | \"Yes\"    | 0    |\n",
       "| 25  | \"1st\"  | \"Male\"   | \"Adult\" | \"Yes\"    | 57   |\n",
       "| 26  | \"2nd\"  | \"Male\"   | \"Adult\" | \"Yes\"    | 14   |\n",
       "| 27  | \"3rd\"  | \"Male\"   | \"Adult\" | \"Yes\"    | 75   |\n",
       "| 28  | \"Crew\" | \"Male\"   | \"Adult\" | \"Yes\"    | 192  |\n",
       "| 29  | \"1st\"  | \"Female\" | \"Adult\" | \"Yes\"    | 140  |\n",
       "| 30  | \"2nd\"  | \"Female\" | \"Adult\" | \"Yes\"    | 80   |\n",
       "| 31  | \"3rd\"  | \"Female\" | \"Adult\" | \"Yes\"    | 76   |\n",
       "| 32  | \"Crew\" | \"Female\" | \"Adult\" | \"Yes\"    | 20   |"
      ]
     },
     "execution_count": 59,
     "metadata": {},
     "output_type": "execute_result"
    }
   ],
   "source": [
    "# Here's another well-known dataset: titanic\n",
    "titanic = dataset(\"datasets\",\"titanic\")"
   ]
  },
  {
   "cell_type": "code",
   "execution_count": 60,
   "metadata": {
    "collapsed": false
   },
   "outputs": [
    {
     "data": {
      "text/html": [
       "<table class=\"data-frame\"><tr><th></th><th>Age</th><th>x1</th></tr><tr><th>1</th><td>Adult</td><td>16</td></tr><tr><th>2</th><td>Child</td><td>16</td></tr></table>"
      ],
      "text/plain": [
       "2x2 DataFrames.DataFrame\n",
       "| Row | Age     | x1 |\n",
       "|-----|---------|----|\n",
       "| 1   | \"Adult\" | 16 |\n",
       "| 2   | \"Child\" | 16 |"
      ]
     },
     "execution_count": 60,
     "metadata": {},
     "output_type": "execute_result"
    }
   ],
   "source": [
    "by(titanic,3,nrow)"
   ]
  },
  {
   "cell_type": "code",
   "execution_count": 61,
   "metadata": {
    "collapsed": false
   },
   "outputs": [
    {
     "data": {
      "text/plain": [
       "DataFrames.GroupedDataFrame  8 groups with keys: [1,2]\n",
       "First Group:\n",
       "4x5 DataFrames.SubDataFrame{Array{Int64,1}}\n",
       "| Row | Class | Sex      | Age     | Survived | Freq |\n",
       "|-----|-------|----------|---------|----------|------|\n",
       "| 1   | \"1st\" | \"Female\" | \"Child\" | \"No\"     | 0    |\n",
       "| 2   | \"1st\" | \"Female\" | \"Adult\" | \"No\"     | 4    |\n",
       "| 3   | \"1st\" | \"Female\" | \"Child\" | \"Yes\"    | 1    |\n",
       "| 4   | \"1st\" | \"Female\" | \"Adult\" | \"Yes\"    | 140  |\n",
       "⋮\n",
       "Last Group:\n",
       "4x5 DataFrames.SubDataFrame{Array{Int64,1}}\n",
       "| Row | Class  | Sex    | Age     | Survived | Freq |\n",
       "|-----|--------|--------|---------|----------|------|\n",
       "| 1   | \"Crew\" | \"Male\" | \"Child\" | \"No\"     | 0    |\n",
       "| 2   | \"Crew\" | \"Male\" | \"Adult\" | \"No\"     | 670  |\n",
       "| 3   | \"Crew\" | \"Male\" | \"Child\" | \"Yes\"    | 0    |\n",
       "| 4   | \"Crew\" | \"Male\" | \"Adult\" | \"Yes\"    | 192  |"
      ]
     },
     "execution_count": 61,
     "metadata": {},
     "output_type": "execute_result"
    }
   ],
   "source": [
    "groupby(titanic,[1,2])"
   ]
  },
  {
   "cell_type": "code",
   "execution_count": 62,
   "metadata": {
    "collapsed": false
   },
   "outputs": [
    {
     "data": {
      "text/plain": [
       "11-element DataArrays.DataArray{Int64,1}:\n",
       "  1  \n",
       "  2  \n",
       "  3  \n",
       "  4  \n",
       "  5  \n",
       "  6  \n",
       "  7  \n",
       "   NA\n",
       "  8  \n",
       "  9  \n",
       " 10  "
      ]
     },
     "execution_count": 62,
     "metadata": {},
     "output_type": "execute_result"
    }
   ],
   "source": [
    "# DataArrays are similar to standard arrays \n",
    "# Additionally they accept NA values\n",
    "da = @data [1,2,3,4,5,6,7,NA,8,9,10]"
   ]
  },
  {
   "cell_type": "code",
   "execution_count": 63,
   "metadata": {
    "collapsed": false
   },
   "outputs": [
    {
     "data": {
      "text/html": [
       "<table class=\"data-frame\"><tr><th></th><th>ID</th><th>FirstName</th><th>LastName</th><th>EMail</th></tr><tr><th>1</th><td>1</td><td>John</td><td>Doe</td><td>john.doe@email.com</td></tr><tr><th>2</th><td>2</td><td>Mary</td><td>Clarkson</td><td>mary.clarkson@email.com</td></tr><tr><th>3</th><td>3</td><td>Christopher</td><td>Wishbone</td><td>chris.wishbone@email.com</td></tr><tr><th>4</th><td>4</td><td>Max</td><td>Reynolds</td><td>max.reynolds@email.com</td></tr></table>"
      ],
      "text/plain": [
       "4x4 DataFrames.DataFrame\n",
       "| Row | ID | FirstName     | LastName   | EMail                      |\n",
       "|-----|----|---------------|------------|----------------------------|\n",
       "| 1   | 1  | \"John\"        | \"Doe\"      | \"john.doe@email.com\"       |\n",
       "| 2   | 2  | \"Mary\"        | \"Clarkson\" | \"mary.clarkson@email.com\"  |\n",
       "| 3   | 3  | \"Christopher\" | \"Wishbone\" | \"chris.wishbone@email.com\" |\n",
       "| 4   | 4  | \"Max\"         | \"Reynolds\" | \"max.reynolds@email.com\"   |"
      ]
     },
     "execution_count": 63,
     "metadata": {},
     "output_type": "execute_result"
    }
   ],
   "source": [
    "# DataFrames represent tabular structures and behave like their counterparts in R and Python\n",
    "df = DataFrame(ID = 1:4, \n",
    "                FirstName = [\"John\",\"Mary\",\"Christopher\",\"Max\"],\n",
    "                LastName = [\"Doe\",\"Clarkson\",\"Wishbone\",\"Reynolds\"], \n",
    "                EMail = [\"john.doe@email.com\",\"mary.clarkson@email.com\",\"chris.wishbone@email.com\",\"max.reynolds@email.com\"])"
   ]
  },
  {
   "cell_type": "code",
   "execution_count": 64,
   "metadata": {
    "collapsed": false
   },
   "outputs": [
    {
     "data": {
      "text/plain": [
       "4-element Array{Any,1}:\n",
       " [1,2,3,4]                                                                                                      \n",
       " ASCIIString[\"John\",\"Mary\",\"Christopher\",\"Max\"]                                                                 \n",
       " ASCIIString[\"Doe\",\"Clarkson\",\"Wishbone\",\"Reynolds\"]                                                            \n",
       " ASCIIString[\"john.doe@email.com\",\"mary.clarkson@email.com\",\"chris.wishbone@email.com\",\"max.reynolds@email.com\"]"
      ]
     },
     "execution_count": 64,
     "metadata": {},
     "output_type": "execute_result"
    }
   ],
   "source": [
    "# Like in R and Python we can easily get out some useful information about the data structure\n",
    "df.columns"
   ]
  },
  {
   "cell_type": "code",
   "execution_count": 65,
   "metadata": {
    "collapsed": false
   },
   "outputs": [
    {
     "name": "stdout",
     "output_type": "stream",
     "text": [
      "ID\n",
      "Min      1.0\n",
      "1st Qu.  1.75\n",
      "Median   2.5\n",
      "Mean     2.5\n",
      "3rd Qu.  3.25\n",
      "Max      4.0\n",
      "NAs      0\n",
      "NA%      0.0%\n",
      "\n",
      "FirstName\n",
      "Length  4"
     ]
    }
   ],
   "source": [
    "describe(df)"
   ]
  },
  {
   "cell_type": "code",
   "execution_count": 66,
   "metadata": {
    "collapsed": false
   },
   "outputs": [
    {
     "name": "stdout",
     "output_type": "stream",
     "text": [
      "\n",
      "Type    ASCIIString\n",
      "NAs     0\n",
      "NA%     0.0%\n",
      "Unique  4\n",
      "\n",
      "LastName\n",
      "Length  4\n",
      "Type    ASCIIString\n",
      "NAs     0\n",
      "NA%     0.0%\n",
      "Unique  4\n",
      "\n",
      "EMail\n",
      "Length  4\n",
      "Type    ASCIIString\n",
      "NAs     0\n",
      "NA%     0.0%\n",
      "Unique  4\n",
      "\n",
      "4x4 DataFrames.DataFrame\n",
      "| Row | ID | FirstName     | LastName   | EMail                      |\n",
      "|-----|----|---------------|------------|----------------------------|\n",
      "| 1   | 1  | \"John\"        | \"Doe\"      | \"john.doe@email.com\"       |\n",
      "| 2   | 2  | \"Mary\"        | \"Clarkson\" | \"mary.clarkson@email.com\"  |\n",
      "| 3   | 3  | \"Christopher\" | \"Wishbone\" | \"chris.wishbone@email.com\" |\n",
      "| 4   | 4  | \"Max\"         | \"Reynolds\" | \"max.reynolds@email.com\"   |"
     ]
    }
   ],
   "source": [
    "# Just like with any other \"standard\" Julia type we can use 'show' to list the internals\n",
    "show(df)"
   ]
  },
  {
   "cell_type": "code",
   "execution_count": 67,
   "metadata": {
    "collapsed": false
   },
   "outputs": [],
   "source": [
    "# Gadfly is Julia's own implementation for handling graphics\n",
    "using Gadfly"
   ]
  },
  {
   "cell_type": "code",
   "execution_count": 68,
   "metadata": {
    "collapsed": false
   },
   "outputs": [
    {
     "data": {
      "image/svg+xml": [
       "<?xml version=\"1.0\" encoding=\"UTF-8\"?>\n",
       "<svg xmlns=\"http://www.w3.org/2000/svg\"\n",
       "     xmlns:xlink=\"http://www.w3.org/1999/xlink\"\n",
       "     xmlns:gadfly=\"http://www.gadflyjl.org/ns\"\n",
       "     version=\"1.2\"\n",
       "     width=\"141.42mm\" height=\"100mm\" viewBox=\"0 0 141.42 100\"\n",
       "     stroke=\"none\"\n",
       "     fill=\"#000000\"\n",
       "     stroke-width=\"0.3\"\n",
       "     font-size=\"3.88\"\n",
       ">\n",
       "<g class=\"plotroot xscalable yscalable\" id=\"img-89c00513-1\">\n",
       "  <g font-size=\"3.88\" font-family=\"'PT Sans','Helvetica Neue','Helvetica',sans-serif\" fill=\"#564A55\" stroke=\"#000000\" stroke-opacity=\"0.000\" id=\"img-89c00513-2\">\n",
       "    <text x=\"76.29\" y=\"88.39\" text-anchor=\"middle\" dy=\"0.6em\">x</text>\n",
       "  </g>\n",
       "  <g class=\"guide xlabels\" font-size=\"2.82\" font-family=\"'PT Sans Caption','Helvetica Neue','Helvetica',sans-serif\" fill=\"#6C606B\" id=\"img-89c00513-3\">\n",
       "    <text x=\"18.15\" y=\"81.72\" text-anchor=\"middle\" dy=\"0.6em\">0</text>\n",
       "    <text x=\"41.41\" y=\"81.72\" text-anchor=\"middle\" dy=\"0.6em\">5</text>\n",
       "    <text x=\"64.66\" y=\"81.72\" text-anchor=\"middle\" dy=\"0.6em\">10</text>\n",
       "    <text x=\"87.91\" y=\"81.72\" text-anchor=\"middle\" dy=\"0.6em\">15</text>\n",
       "    <text x=\"111.17\" y=\"81.72\" text-anchor=\"middle\" dy=\"0.6em\">20</text>\n",
       "    <text x=\"134.42\" y=\"81.72\" text-anchor=\"middle\" dy=\"0.6em\">25</text>\n",
       "  </g>\n",
       "<g clip-path=\"url(#img-89c00513-4)\">\n",
       "  <g id=\"img-89c00513-5\">\n",
       "    <g pointer-events=\"visible\" opacity=\"1\" fill=\"#000000\" fill-opacity=\"0.000\" stroke=\"#000000\" stroke-opacity=\"0.000\" class=\"guide background\" id=\"img-89c00513-6\">\n",
       "      <rect x=\"16.15\" y=\"5\" width=\"120.27\" height=\"75.72\"/>\n",
       "    </g>\n",
       "    <g class=\"guide ygridlines xfixed\" stroke-dasharray=\"0.5,0.5\" stroke-width=\"0.2\" stroke=\"#D0D0E0\" id=\"img-89c00513-7\">\n",
       "      <path fill=\"none\" d=\"M16.15,78.72 L 136.42 78.72\"/>\n",
       "      <path fill=\"none\" d=\"M16.15,60.79 L 136.42 60.79\"/>\n",
       "      <path fill=\"none\" d=\"M16.15,42.86 L 136.42 42.86\"/>\n",
       "      <path fill=\"none\" d=\"M16.15,24.93 L 136.42 24.93\"/>\n",
       "      <path fill=\"none\" d=\"M16.15,7 L 136.42 7\"/>\n",
       "    </g>\n",
       "    <g class=\"guide xgridlines yfixed\" stroke-dasharray=\"0.5,0.5\" stroke-width=\"0.2\" stroke=\"#D0D0E0\" id=\"img-89c00513-8\">\n",
       "      <path fill=\"none\" d=\"M18.15,5 L 18.15 80.72\"/>\n",
       "      <path fill=\"none\" d=\"M41.41,5 L 41.41 80.72\"/>\n",
       "      <path fill=\"none\" d=\"M64.66,5 L 64.66 80.72\"/>\n",
       "      <path fill=\"none\" d=\"M87.91,5 L 87.91 80.72\"/>\n",
       "      <path fill=\"none\" d=\"M111.17,5 L 111.17 80.72\"/>\n",
       "      <path fill=\"none\" d=\"M134.42,5 L 134.42 80.72\"/>\n",
       "    </g>\n",
       "    <g class=\"plotpanel\" id=\"img-89c00513-9\">\n",
       "      <g class=\"geometry\" stroke=\"#000000\" stroke-opacity=\"0.000\" fill=\"#4C404B\" font-size=\"2.82\" font-family=\"'PT Sans Caption','Helvetica Neue','Helvetica',sans-serif\" id=\"img-89c00513-10\">\n",
       "        <text x=\"24.75\" y=\"66.52\" text-anchor=\"middle\" dy=\"0.35em\" visibility=\"hidden\">one</text>\n",
       "        <text x=\"54.35\" y=\"23.79\" text-anchor=\"middle\" dy=\"0.35em\" visibility=\"visible\">two</text>\n",
       "        <text x=\"128.19\" y=\"73.69\" text-anchor=\"middle\" dy=\"0.35em\" visibility=\"visible\">three</text>\n",
       "        <text x=\"39.18\" y=\"68.5\" text-anchor=\"middle\" dy=\"0.35em\" visibility=\"visible\">four</text>\n",
       "        <text x=\"14.59\" y=\"65.4\" text-anchor=\"middle\" dy=\"0.35em\" visibility=\"hidden\">five</text>\n",
       "      </g>\n",
       "      <g class=\"geometry\" id=\"img-89c00513-11\">\n",
       "        <g class=\"color_RGBA{Float32}(0.0f0,0.74736935f0,1.0f0,1.0f0)\" stroke=\"#FFFFFF\" stroke-width=\"0.3\" fill=\"#00BFFF\" id=\"img-89c00513-12\">\n",
       "          <use xlink:href=\"#img-89c00513-13\" x=\"22.8\" y=\"68.85\"/>\n",
       "          <use xlink:href=\"#img-89c00513-13\" x=\"50.71\" y=\"23.14\"/>\n",
       "          <use xlink:href=\"#img-89c00513-13\" x=\"125.12\" y=\"76.03\"/>\n",
       "          <use xlink:href=\"#img-89c00513-13\" x=\"41.41\" y=\"66.16\"/>\n",
       "          <use xlink:href=\"#img-89c00513-13\" x=\"18.15\" y=\"65.27\"/>\n",
       "        </g>\n",
       "      </g>\n",
       "    </g>\n",
       "  </g>\n",
       "</g>\n",
       "  <g class=\"guide ylabels\" font-size=\"2.82\" font-family=\"'PT Sans Caption','Helvetica Neue','Helvetica',sans-serif\" fill=\"#6C606B\" id=\"img-89c00513-14\">\n",
       "    <text x=\"15.15\" y=\"78.72\" text-anchor=\"end\" dy=\"0.35em\">0</text>\n",
       "    <text x=\"15.15\" y=\"60.79\" text-anchor=\"end\" dy=\"0.35em\">20</text>\n",
       "    <text x=\"15.15\" y=\"42.86\" text-anchor=\"end\" dy=\"0.35em\">40</text>\n",
       "    <text x=\"15.15\" y=\"24.93\" text-anchor=\"end\" dy=\"0.35em\">60</text>\n",
       "    <text x=\"15.15\" y=\"7\" text-anchor=\"end\" dy=\"0.35em\">80</text>\n",
       "  </g>\n",
       "  <g font-size=\"3.88\" font-family=\"'PT Sans','Helvetica Neue','Helvetica',sans-serif\" fill=\"#564A55\" stroke=\"#000000\" stroke-opacity=\"0.000\" id=\"img-89c00513-15\">\n",
       "    <text x=\"8.81\" y=\"42.86\" text-anchor=\"end\" dy=\"0.35em\">y</text>\n",
       "  </g>\n",
       "</g>\n",
       "<defs>\n",
       "  <clipPath id=\"img-89c00513-4\">\n",
       "  <path d=\"M16.15,5 L 136.42 5 136.42 80.72 16.15 80.72\" />\n",
       "</clipPath>\n",
       "  <g id=\"img-89c00513-13\">\n",
       "    <circle cx=\"0\" cy=\"0\" r=\"0.9\"/>\n",
       "  </g>\n",
       "</defs>\n",
       "</svg>\n"
      ],
      "text/html": [
       "<?xml version=\"1.0\" encoding=\"UTF-8\"?>\n",
       "<svg xmlns=\"http://www.w3.org/2000/svg\"\n",
       "     xmlns:xlink=\"http://www.w3.org/1999/xlink\"\n",
       "     xmlns:gadfly=\"http://www.gadflyjl.org/ns\"\n",
       "     version=\"1.2\"\n",
       "     width=\"141.42mm\" height=\"100mm\" viewBox=\"0 0 141.42 100\"\n",
       "     stroke=\"none\"\n",
       "     fill=\"#000000\"\n",
       "     stroke-width=\"0.3\"\n",
       "     font-size=\"3.88\"\n",
       "\n",
       "     id=\"img-9bbbe706\">\n",
       "<g class=\"plotroot xscalable yscalable\" id=\"img-9bbbe706-1\">\n",
       "  <g font-size=\"3.88\" font-family=\"'PT Sans','Helvetica Neue','Helvetica',sans-serif\" fill=\"#564A55\" stroke=\"#000000\" stroke-opacity=\"0.000\" id=\"img-9bbbe706-2\">\n",
       "    <text x=\"76.29\" y=\"88.39\" text-anchor=\"middle\" dy=\"0.6em\">x</text>\n",
       "  </g>\n",
       "  <g class=\"guide xlabels\" font-size=\"2.82\" font-family=\"'PT Sans Caption','Helvetica Neue','Helvetica',sans-serif\" fill=\"#6C606B\" id=\"img-9bbbe706-3\">\n",
       "    <text x=\"-121.37\" y=\"84.39\" text-anchor=\"middle\" gadfly:scale=\"1.0\" visibility=\"hidden\">-30</text>\n",
       "    <text x=\"-98.12\" y=\"84.39\" text-anchor=\"middle\" gadfly:scale=\"1.0\" visibility=\"hidden\">-25</text>\n",
       "    <text x=\"-74.86\" y=\"84.39\" text-anchor=\"middle\" gadfly:scale=\"1.0\" visibility=\"hidden\">-20</text>\n",
       "    <text x=\"-51.61\" y=\"84.39\" text-anchor=\"middle\" gadfly:scale=\"1.0\" visibility=\"hidden\">-15</text>\n",
       "    <text x=\"-28.36\" y=\"84.39\" text-anchor=\"middle\" gadfly:scale=\"1.0\" visibility=\"hidden\">-10</text>\n",
       "    <text x=\"-5.1\" y=\"84.39\" text-anchor=\"middle\" gadfly:scale=\"1.0\" visibility=\"hidden\">-5</text>\n",
       "    <text x=\"18.15\" y=\"84.39\" text-anchor=\"middle\" gadfly:scale=\"1.0\" visibility=\"visible\">0</text>\n",
       "    <text x=\"41.41\" y=\"84.39\" text-anchor=\"middle\" gadfly:scale=\"1.0\" visibility=\"visible\">5</text>\n",
       "    <text x=\"64.66\" y=\"84.39\" text-anchor=\"middle\" gadfly:scale=\"1.0\" visibility=\"visible\">10</text>\n",
       "    <text x=\"87.91\" y=\"84.39\" text-anchor=\"middle\" gadfly:scale=\"1.0\" visibility=\"visible\">15</text>\n",
       "    <text x=\"111.17\" y=\"84.39\" text-anchor=\"middle\" gadfly:scale=\"1.0\" visibility=\"visible\">20</text>\n",
       "    <text x=\"134.42\" y=\"84.39\" text-anchor=\"middle\" gadfly:scale=\"1.0\" visibility=\"visible\">25</text>\n",
       "    <text x=\"157.68\" y=\"84.39\" text-anchor=\"middle\" gadfly:scale=\"1.0\" visibility=\"hidden\">30</text>\n",
       "    <text x=\"180.93\" y=\"84.39\" text-anchor=\"middle\" gadfly:scale=\"1.0\" visibility=\"hidden\">35</text>\n",
       "    <text x=\"204.18\" y=\"84.39\" text-anchor=\"middle\" gadfly:scale=\"1.0\" visibility=\"hidden\">40</text>\n",
       "    <text x=\"227.44\" y=\"84.39\" text-anchor=\"middle\" gadfly:scale=\"1.0\" visibility=\"hidden\">45</text>\n",
       "    <text x=\"250.69\" y=\"84.39\" text-anchor=\"middle\" gadfly:scale=\"1.0\" visibility=\"hidden\">50</text>\n",
       "    <text x=\"273.94\" y=\"84.39\" text-anchor=\"middle\" gadfly:scale=\"1.0\" visibility=\"hidden\">55</text>\n",
       "    <text x=\"-98.12\" y=\"84.39\" text-anchor=\"middle\" gadfly:scale=\"10.0\" visibility=\"hidden\">-25</text>\n",
       "    <text x=\"-93.47\" y=\"84.39\" text-anchor=\"middle\" gadfly:scale=\"10.0\" visibility=\"hidden\">-24</text>\n",
       "    <text x=\"-88.81\" y=\"84.39\" text-anchor=\"middle\" gadfly:scale=\"10.0\" visibility=\"hidden\">-23</text>\n",
       "    <text x=\"-84.16\" y=\"84.39\" text-anchor=\"middle\" gadfly:scale=\"10.0\" visibility=\"hidden\">-22</text>\n",
       "    <text x=\"-79.51\" y=\"84.39\" text-anchor=\"middle\" gadfly:scale=\"10.0\" visibility=\"hidden\">-21</text>\n",
       "    <text x=\"-74.86\" y=\"84.39\" text-anchor=\"middle\" gadfly:scale=\"10.0\" visibility=\"hidden\">-20</text>\n",
       "    <text x=\"-70.21\" y=\"84.39\" text-anchor=\"middle\" gadfly:scale=\"10.0\" visibility=\"hidden\">-19</text>\n",
       "    <text x=\"-65.56\" y=\"84.39\" text-anchor=\"middle\" gadfly:scale=\"10.0\" visibility=\"hidden\">-18</text>\n",
       "    <text x=\"-60.91\" y=\"84.39\" text-anchor=\"middle\" gadfly:scale=\"10.0\" visibility=\"hidden\">-17</text>\n",
       "    <text x=\"-56.26\" y=\"84.39\" text-anchor=\"middle\" gadfly:scale=\"10.0\" visibility=\"hidden\">-16</text>\n",
       "    <text x=\"-51.61\" y=\"84.39\" text-anchor=\"middle\" gadfly:scale=\"10.0\" visibility=\"hidden\">-15</text>\n",
       "    <text x=\"-46.96\" y=\"84.39\" text-anchor=\"middle\" gadfly:scale=\"10.0\" visibility=\"hidden\">-14</text>\n",
       "    <text x=\"-42.31\" y=\"84.39\" text-anchor=\"middle\" gadfly:scale=\"10.0\" visibility=\"hidden\">-13</text>\n",
       "    <text x=\"-37.66\" y=\"84.39\" text-anchor=\"middle\" gadfly:scale=\"10.0\" visibility=\"hidden\">-12</text>\n",
       "    <text x=\"-33.01\" y=\"84.39\" text-anchor=\"middle\" gadfly:scale=\"10.0\" visibility=\"hidden\">-11</text>\n",
       "    <text x=\"-28.36\" y=\"84.39\" text-anchor=\"middle\" gadfly:scale=\"10.0\" visibility=\"hidden\">-10</text>\n",
       "    <text x=\"-23.7\" y=\"84.39\" text-anchor=\"middle\" gadfly:scale=\"10.0\" visibility=\"hidden\">-9</text>\n",
       "    <text x=\"-19.05\" y=\"84.39\" text-anchor=\"middle\" gadfly:scale=\"10.0\" visibility=\"hidden\">-8</text>\n",
       "    <text x=\"-14.4\" y=\"84.39\" text-anchor=\"middle\" gadfly:scale=\"10.0\" visibility=\"hidden\">-7</text>\n",
       "    <text x=\"-9.75\" y=\"84.39\" text-anchor=\"middle\" gadfly:scale=\"10.0\" visibility=\"hidden\">-6</text>\n",
       "    <text x=\"-5.1\" y=\"84.39\" text-anchor=\"middle\" gadfly:scale=\"10.0\" visibility=\"hidden\">-5</text>\n",
       "    <text x=\"-0.45\" y=\"84.39\" text-anchor=\"middle\" gadfly:scale=\"10.0\" visibility=\"hidden\">-4</text>\n",
       "    <text x=\"4.2\" y=\"84.39\" text-anchor=\"middle\" gadfly:scale=\"10.0\" visibility=\"hidden\">-3</text>\n",
       "    <text x=\"8.85\" y=\"84.39\" text-anchor=\"middle\" gadfly:scale=\"10.0\" visibility=\"hidden\">-2</text>\n",
       "    <text x=\"13.5\" y=\"84.39\" text-anchor=\"middle\" gadfly:scale=\"10.0\" visibility=\"hidden\">-1</text>\n",
       "    <text x=\"18.15\" y=\"84.39\" text-anchor=\"middle\" gadfly:scale=\"10.0\" visibility=\"hidden\">0</text>\n",
       "    <text x=\"22.8\" y=\"84.39\" text-anchor=\"middle\" gadfly:scale=\"10.0\" visibility=\"hidden\">1</text>\n",
       "    <text x=\"27.45\" y=\"84.39\" text-anchor=\"middle\" gadfly:scale=\"10.0\" visibility=\"hidden\">2</text>\n",
       "    <text x=\"32.1\" y=\"84.39\" text-anchor=\"middle\" gadfly:scale=\"10.0\" visibility=\"hidden\">3</text>\n",
       "    <text x=\"36.76\" y=\"84.39\" text-anchor=\"middle\" gadfly:scale=\"10.0\" visibility=\"hidden\">4</text>\n",
       "    <text x=\"41.41\" y=\"84.39\" text-anchor=\"middle\" gadfly:scale=\"10.0\" visibility=\"hidden\">5</text>\n",
       "    <text x=\"46.06\" y=\"84.39\" text-anchor=\"middle\" gadfly:scale=\"10.0\" visibility=\"hidden\">6</text>\n",
       "    <text x=\"50.71\" y=\"84.39\" text-anchor=\"middle\" gadfly:scale=\"10.0\" visibility=\"hidden\">7</text>\n",
       "    <text x=\"55.36\" y=\"84.39\" text-anchor=\"middle\" gadfly:scale=\"10.0\" visibility=\"hidden\">8</text>\n",
       "    <text x=\"60.01\" y=\"84.39\" text-anchor=\"middle\" gadfly:scale=\"10.0\" visibility=\"hidden\">9</text>\n",
       "    <text x=\"64.66\" y=\"84.39\" text-anchor=\"middle\" gadfly:scale=\"10.0\" visibility=\"hidden\">10</text>\n",
       "    <text x=\"69.31\" y=\"84.39\" text-anchor=\"middle\" gadfly:scale=\"10.0\" visibility=\"hidden\">11</text>\n",
       "    <text x=\"73.96\" y=\"84.39\" text-anchor=\"middle\" gadfly:scale=\"10.0\" visibility=\"hidden\">12</text>\n",
       "    <text x=\"78.61\" y=\"84.39\" text-anchor=\"middle\" gadfly:scale=\"10.0\" visibility=\"hidden\">13</text>\n",
       "    <text x=\"83.26\" y=\"84.39\" text-anchor=\"middle\" gadfly:scale=\"10.0\" visibility=\"hidden\">14</text>\n",
       "    <text x=\"87.91\" y=\"84.39\" text-anchor=\"middle\" gadfly:scale=\"10.0\" visibility=\"hidden\">15</text>\n",
       "    <text x=\"92.56\" y=\"84.39\" text-anchor=\"middle\" gadfly:scale=\"10.0\" visibility=\"hidden\">16</text>\n",
       "    <text x=\"97.22\" y=\"84.39\" text-anchor=\"middle\" gadfly:scale=\"10.0\" visibility=\"hidden\">17</text>\n",
       "    <text x=\"101.87\" y=\"84.39\" text-anchor=\"middle\" gadfly:scale=\"10.0\" visibility=\"hidden\">18</text>\n",
       "    <text x=\"106.52\" y=\"84.39\" text-anchor=\"middle\" gadfly:scale=\"10.0\" visibility=\"hidden\">19</text>\n",
       "    <text x=\"111.17\" y=\"84.39\" text-anchor=\"middle\" gadfly:scale=\"10.0\" visibility=\"hidden\">20</text>\n",
       "    <text x=\"115.82\" y=\"84.39\" text-anchor=\"middle\" gadfly:scale=\"10.0\" visibility=\"hidden\">21</text>\n",
       "    <text x=\"120.47\" y=\"84.39\" text-anchor=\"middle\" gadfly:scale=\"10.0\" visibility=\"hidden\">22</text>\n",
       "    <text x=\"125.12\" y=\"84.39\" text-anchor=\"middle\" gadfly:scale=\"10.0\" visibility=\"hidden\">23</text>\n",
       "    <text x=\"129.77\" y=\"84.39\" text-anchor=\"middle\" gadfly:scale=\"10.0\" visibility=\"hidden\">24</text>\n",
       "    <text x=\"134.42\" y=\"84.39\" text-anchor=\"middle\" gadfly:scale=\"10.0\" visibility=\"hidden\">25</text>\n",
       "    <text x=\"139.07\" y=\"84.39\" text-anchor=\"middle\" gadfly:scale=\"10.0\" visibility=\"hidden\">26</text>\n",
       "    <text x=\"143.72\" y=\"84.39\" text-anchor=\"middle\" gadfly:scale=\"10.0\" visibility=\"hidden\">27</text>\n",
       "    <text x=\"148.37\" y=\"84.39\" text-anchor=\"middle\" gadfly:scale=\"10.0\" visibility=\"hidden\">28</text>\n",
       "    <text x=\"153.02\" y=\"84.39\" text-anchor=\"middle\" gadfly:scale=\"10.0\" visibility=\"hidden\">29</text>\n",
       "    <text x=\"157.68\" y=\"84.39\" text-anchor=\"middle\" gadfly:scale=\"10.0\" visibility=\"hidden\">30</text>\n",
       "    <text x=\"162.33\" y=\"84.39\" text-anchor=\"middle\" gadfly:scale=\"10.0\" visibility=\"hidden\">31</text>\n",
       "    <text x=\"166.98\" y=\"84.39\" text-anchor=\"middle\" gadfly:scale=\"10.0\" visibility=\"hidden\">32</text>\n",
       "    <text x=\"171.63\" y=\"84.39\" text-anchor=\"middle\" gadfly:scale=\"10.0\" visibility=\"hidden\">33</text>\n",
       "    <text x=\"176.28\" y=\"84.39\" text-anchor=\"middle\" gadfly:scale=\"10.0\" visibility=\"hidden\">34</text>\n",
       "    <text x=\"180.93\" y=\"84.39\" text-anchor=\"middle\" gadfly:scale=\"10.0\" visibility=\"hidden\">35</text>\n",
       "    <text x=\"185.58\" y=\"84.39\" text-anchor=\"middle\" gadfly:scale=\"10.0\" visibility=\"hidden\">36</text>\n",
       "    <text x=\"190.23\" y=\"84.39\" text-anchor=\"middle\" gadfly:scale=\"10.0\" visibility=\"hidden\">37</text>\n",
       "    <text x=\"194.88\" y=\"84.39\" text-anchor=\"middle\" gadfly:scale=\"10.0\" visibility=\"hidden\">38</text>\n",
       "    <text x=\"199.53\" y=\"84.39\" text-anchor=\"middle\" gadfly:scale=\"10.0\" visibility=\"hidden\">39</text>\n",
       "    <text x=\"204.18\" y=\"84.39\" text-anchor=\"middle\" gadfly:scale=\"10.0\" visibility=\"hidden\">40</text>\n",
       "    <text x=\"208.83\" y=\"84.39\" text-anchor=\"middle\" gadfly:scale=\"10.0\" visibility=\"hidden\">41</text>\n",
       "    <text x=\"213.48\" y=\"84.39\" text-anchor=\"middle\" gadfly:scale=\"10.0\" visibility=\"hidden\">42</text>\n",
       "    <text x=\"218.13\" y=\"84.39\" text-anchor=\"middle\" gadfly:scale=\"10.0\" visibility=\"hidden\">43</text>\n",
       "    <text x=\"222.79\" y=\"84.39\" text-anchor=\"middle\" gadfly:scale=\"10.0\" visibility=\"hidden\">44</text>\n",
       "    <text x=\"227.44\" y=\"84.39\" text-anchor=\"middle\" gadfly:scale=\"10.0\" visibility=\"hidden\">45</text>\n",
       "    <text x=\"232.09\" y=\"84.39\" text-anchor=\"middle\" gadfly:scale=\"10.0\" visibility=\"hidden\">46</text>\n",
       "    <text x=\"236.74\" y=\"84.39\" text-anchor=\"middle\" gadfly:scale=\"10.0\" visibility=\"hidden\">47</text>\n",
       "    <text x=\"241.39\" y=\"84.39\" text-anchor=\"middle\" gadfly:scale=\"10.0\" visibility=\"hidden\">48</text>\n",
       "    <text x=\"246.04\" y=\"84.39\" text-anchor=\"middle\" gadfly:scale=\"10.0\" visibility=\"hidden\">49</text>\n",
       "    <text x=\"250.69\" y=\"84.39\" text-anchor=\"middle\" gadfly:scale=\"10.0\" visibility=\"hidden\">50</text>\n",
       "    <text x=\"-98.12\" y=\"84.39\" text-anchor=\"middle\" gadfly:scale=\"0.5\" visibility=\"hidden\">-25</text>\n",
       "    <text x=\"18.15\" y=\"84.39\" text-anchor=\"middle\" gadfly:scale=\"0.5\" visibility=\"hidden\">0</text>\n",
       "    <text x=\"134.42\" y=\"84.39\" text-anchor=\"middle\" gadfly:scale=\"0.5\" visibility=\"hidden\">25</text>\n",
       "    <text x=\"250.69\" y=\"84.39\" text-anchor=\"middle\" gadfly:scale=\"0.5\" visibility=\"hidden\">50</text>\n",
       "    <text x=\"-102.77\" y=\"84.39\" text-anchor=\"middle\" gadfly:scale=\"5.0\" visibility=\"hidden\">-26</text>\n",
       "    <text x=\"-93.47\" y=\"84.39\" text-anchor=\"middle\" gadfly:scale=\"5.0\" visibility=\"hidden\">-24</text>\n",
       "    <text x=\"-84.16\" y=\"84.39\" text-anchor=\"middle\" gadfly:scale=\"5.0\" visibility=\"hidden\">-22</text>\n",
       "    <text x=\"-74.86\" y=\"84.39\" text-anchor=\"middle\" gadfly:scale=\"5.0\" visibility=\"hidden\">-20</text>\n",
       "    <text x=\"-65.56\" y=\"84.39\" text-anchor=\"middle\" gadfly:scale=\"5.0\" visibility=\"hidden\">-18</text>\n",
       "    <text x=\"-56.26\" y=\"84.39\" text-anchor=\"middle\" gadfly:scale=\"5.0\" visibility=\"hidden\">-16</text>\n",
       "    <text x=\"-46.96\" y=\"84.39\" text-anchor=\"middle\" gadfly:scale=\"5.0\" visibility=\"hidden\">-14</text>\n",
       "    <text x=\"-37.66\" y=\"84.39\" text-anchor=\"middle\" gadfly:scale=\"5.0\" visibility=\"hidden\">-12</text>\n",
       "    <text x=\"-28.36\" y=\"84.39\" text-anchor=\"middle\" gadfly:scale=\"5.0\" visibility=\"hidden\">-10</text>\n",
       "    <text x=\"-19.05\" y=\"84.39\" text-anchor=\"middle\" gadfly:scale=\"5.0\" visibility=\"hidden\">-8</text>\n",
       "    <text x=\"-9.75\" y=\"84.39\" text-anchor=\"middle\" gadfly:scale=\"5.0\" visibility=\"hidden\">-6</text>\n",
       "    <text x=\"-0.45\" y=\"84.39\" text-anchor=\"middle\" gadfly:scale=\"5.0\" visibility=\"hidden\">-4</text>\n",
       "    <text x=\"8.85\" y=\"84.39\" text-anchor=\"middle\" gadfly:scale=\"5.0\" visibility=\"hidden\">-2</text>\n",
       "    <text x=\"18.15\" y=\"84.39\" text-anchor=\"middle\" gadfly:scale=\"5.0\" visibility=\"hidden\">0</text>\n",
       "    <text x=\"27.45\" y=\"84.39\" text-anchor=\"middle\" gadfly:scale=\"5.0\" visibility=\"hidden\">2</text>\n",
       "    <text x=\"36.76\" y=\"84.39\" text-anchor=\"middle\" gadfly:scale=\"5.0\" visibility=\"hidden\">4</text>\n",
       "    <text x=\"46.06\" y=\"84.39\" text-anchor=\"middle\" gadfly:scale=\"5.0\" visibility=\"hidden\">6</text>\n",
       "    <text x=\"55.36\" y=\"84.39\" text-anchor=\"middle\" gadfly:scale=\"5.0\" visibility=\"hidden\">8</text>\n",
       "    <text x=\"64.66\" y=\"84.39\" text-anchor=\"middle\" gadfly:scale=\"5.0\" visibility=\"hidden\">10</text>\n",
       "    <text x=\"73.96\" y=\"84.39\" text-anchor=\"middle\" gadfly:scale=\"5.0\" visibility=\"hidden\">12</text>\n",
       "    <text x=\"83.26\" y=\"84.39\" text-anchor=\"middle\" gadfly:scale=\"5.0\" visibility=\"hidden\">14</text>\n",
       "    <text x=\"92.56\" y=\"84.39\" text-anchor=\"middle\" gadfly:scale=\"5.0\" visibility=\"hidden\">16</text>\n",
       "    <text x=\"101.87\" y=\"84.39\" text-anchor=\"middle\" gadfly:scale=\"5.0\" visibility=\"hidden\">18</text>\n",
       "    <text x=\"111.17\" y=\"84.39\" text-anchor=\"middle\" gadfly:scale=\"5.0\" visibility=\"hidden\">20</text>\n",
       "    <text x=\"120.47\" y=\"84.39\" text-anchor=\"middle\" gadfly:scale=\"5.0\" visibility=\"hidden\">22</text>\n",
       "    <text x=\"129.77\" y=\"84.39\" text-anchor=\"middle\" gadfly:scale=\"5.0\" visibility=\"hidden\">24</text>\n",
       "    <text x=\"139.07\" y=\"84.39\" text-anchor=\"middle\" gadfly:scale=\"5.0\" visibility=\"hidden\">26</text>\n",
       "    <text x=\"148.37\" y=\"84.39\" text-anchor=\"middle\" gadfly:scale=\"5.0\" visibility=\"hidden\">28</text>\n",
       "    <text x=\"157.68\" y=\"84.39\" text-anchor=\"middle\" gadfly:scale=\"5.0\" visibility=\"hidden\">30</text>\n",
       "    <text x=\"166.98\" y=\"84.39\" text-anchor=\"middle\" gadfly:scale=\"5.0\" visibility=\"hidden\">32</text>\n",
       "    <text x=\"176.28\" y=\"84.39\" text-anchor=\"middle\" gadfly:scale=\"5.0\" visibility=\"hidden\">34</text>\n",
       "    <text x=\"185.58\" y=\"84.39\" text-anchor=\"middle\" gadfly:scale=\"5.0\" visibility=\"hidden\">36</text>\n",
       "    <text x=\"194.88\" y=\"84.39\" text-anchor=\"middle\" gadfly:scale=\"5.0\" visibility=\"hidden\">38</text>\n",
       "    <text x=\"204.18\" y=\"84.39\" text-anchor=\"middle\" gadfly:scale=\"5.0\" visibility=\"hidden\">40</text>\n",
       "    <text x=\"213.48\" y=\"84.39\" text-anchor=\"middle\" gadfly:scale=\"5.0\" visibility=\"hidden\">42</text>\n",
       "    <text x=\"222.79\" y=\"84.39\" text-anchor=\"middle\" gadfly:scale=\"5.0\" visibility=\"hidden\">44</text>\n",
       "    <text x=\"232.09\" y=\"84.39\" text-anchor=\"middle\" gadfly:scale=\"5.0\" visibility=\"hidden\">46</text>\n",
       "    <text x=\"241.39\" y=\"84.39\" text-anchor=\"middle\" gadfly:scale=\"5.0\" visibility=\"hidden\">48</text>\n",
       "    <text x=\"250.69\" y=\"84.39\" text-anchor=\"middle\" gadfly:scale=\"5.0\" visibility=\"hidden\">50</text>\n",
       "  </g>\n",
       "<g clip-path=\"url(#img-9bbbe706-4)\">\n",
       "  <g id=\"img-9bbbe706-5\">\n",
       "    <g pointer-events=\"visible\" opacity=\"1\" fill=\"#000000\" fill-opacity=\"0.000\" stroke=\"#000000\" stroke-opacity=\"0.000\" class=\"guide background\" id=\"img-9bbbe706-6\">\n",
       "      <rect x=\"16.15\" y=\"5\" width=\"120.27\" height=\"75.72\"/>\n",
       "    </g>\n",
       "    <g class=\"guide ygridlines xfixed\" stroke-dasharray=\"0.5,0.5\" stroke-width=\"0.2\" stroke=\"#D0D0E0\" id=\"img-9bbbe706-7\">\n",
       "      <path fill=\"none\" d=\"M16.15,168.36 L 136.42 168.36\" gadfly:scale=\"1.0\" visibility=\"hidden\"/>\n",
       "      <path fill=\"none\" d=\"M16.15,150.43 L 136.42 150.43\" gadfly:scale=\"1.0\" visibility=\"hidden\"/>\n",
       "      <path fill=\"none\" d=\"M16.15,132.5 L 136.42 132.5\" gadfly:scale=\"1.0\" visibility=\"hidden\"/>\n",
       "      <path fill=\"none\" d=\"M16.15,114.57 L 136.42 114.57\" gadfly:scale=\"1.0\" visibility=\"hidden\"/>\n",
       "      <path fill=\"none\" d=\"M16.15,96.64 L 136.42 96.64\" gadfly:scale=\"1.0\" visibility=\"hidden\"/>\n",
       "      <path fill=\"none\" d=\"M16.15,78.72 L 136.42 78.72\" gadfly:scale=\"1.0\" visibility=\"visible\"/>\n",
       "      <path fill=\"none\" d=\"M16.15,60.79 L 136.42 60.79\" gadfly:scale=\"1.0\" visibility=\"visible\"/>\n",
       "      <path fill=\"none\" d=\"M16.15,42.86 L 136.42 42.86\" gadfly:scale=\"1.0\" visibility=\"visible\"/>\n",
       "      <path fill=\"none\" d=\"M16.15,24.93 L 136.42 24.93\" gadfly:scale=\"1.0\" visibility=\"visible\"/>\n",
       "      <path fill=\"none\" d=\"M16.15,7 L 136.42 7\" gadfly:scale=\"1.0\" visibility=\"visible\"/>\n",
       "      <path fill=\"none\" d=\"M16.15,-10.93 L 136.42 -10.93\" gadfly:scale=\"1.0\" visibility=\"hidden\"/>\n",
       "      <path fill=\"none\" d=\"M16.15,-28.86 L 136.42 -28.86\" gadfly:scale=\"1.0\" visibility=\"hidden\"/>\n",
       "      <path fill=\"none\" d=\"M16.15,-46.79 L 136.42 -46.79\" gadfly:scale=\"1.0\" visibility=\"hidden\"/>\n",
       "      <path fill=\"none\" d=\"M16.15,-64.72 L 136.42 -64.72\" gadfly:scale=\"1.0\" visibility=\"hidden\"/>\n",
       "      <path fill=\"none\" d=\"M16.15,-82.64 L 136.42 -82.64\" gadfly:scale=\"1.0\" visibility=\"hidden\"/>\n",
       "      <path fill=\"none\" d=\"M16.15,150.43 L 136.42 150.43\" gadfly:scale=\"10.0\" visibility=\"hidden\"/>\n",
       "      <path fill=\"none\" d=\"M16.15,145.95 L 136.42 145.95\" gadfly:scale=\"10.0\" visibility=\"hidden\"/>\n",
       "      <path fill=\"none\" d=\"M16.15,141.47 L 136.42 141.47\" gadfly:scale=\"10.0\" visibility=\"hidden\"/>\n",
       "      <path fill=\"none\" d=\"M16.15,136.98 L 136.42 136.98\" gadfly:scale=\"10.0\" visibility=\"hidden\"/>\n",
       "      <path fill=\"none\" d=\"M16.15,132.5 L 136.42 132.5\" gadfly:scale=\"10.0\" visibility=\"hidden\"/>\n",
       "      <path fill=\"none\" d=\"M16.15,128.02 L 136.42 128.02\" gadfly:scale=\"10.0\" visibility=\"hidden\"/>\n",
       "      <path fill=\"none\" d=\"M16.15,123.54 L 136.42 123.54\" gadfly:scale=\"10.0\" visibility=\"hidden\"/>\n",
       "      <path fill=\"none\" d=\"M16.15,119.05 L 136.42 119.05\" gadfly:scale=\"10.0\" visibility=\"hidden\"/>\n",
       "      <path fill=\"none\" d=\"M16.15,114.57 L 136.42 114.57\" gadfly:scale=\"10.0\" visibility=\"hidden\"/>\n",
       "      <path fill=\"none\" d=\"M16.15,110.09 L 136.42 110.09\" gadfly:scale=\"10.0\" visibility=\"hidden\"/>\n",
       "      <path fill=\"none\" d=\"M16.15,105.61 L 136.42 105.61\" gadfly:scale=\"10.0\" visibility=\"hidden\"/>\n",
       "      <path fill=\"none\" d=\"M16.15,101.13 L 136.42 101.13\" gadfly:scale=\"10.0\" visibility=\"hidden\"/>\n",
       "      <path fill=\"none\" d=\"M16.15,96.64 L 136.42 96.64\" gadfly:scale=\"10.0\" visibility=\"hidden\"/>\n",
       "      <path fill=\"none\" d=\"M16.15,92.16 L 136.42 92.16\" gadfly:scale=\"10.0\" visibility=\"hidden\"/>\n",
       "      <path fill=\"none\" d=\"M16.15,87.68 L 136.42 87.68\" gadfly:scale=\"10.0\" visibility=\"hidden\"/>\n",
       "      <path fill=\"none\" d=\"M16.15,83.2 L 136.42 83.2\" gadfly:scale=\"10.0\" visibility=\"hidden\"/>\n",
       "      <path fill=\"none\" d=\"M16.15,78.72 L 136.42 78.72\" gadfly:scale=\"10.0\" visibility=\"hidden\"/>\n",
       "      <path fill=\"none\" d=\"M16.15,74.23 L 136.42 74.23\" gadfly:scale=\"10.0\" visibility=\"hidden\"/>\n",
       "      <path fill=\"none\" d=\"M16.15,69.75 L 136.42 69.75\" gadfly:scale=\"10.0\" visibility=\"hidden\"/>\n",
       "      <path fill=\"none\" d=\"M16.15,65.27 L 136.42 65.27\" gadfly:scale=\"10.0\" visibility=\"hidden\"/>\n",
       "      <path fill=\"none\" d=\"M16.15,60.79 L 136.42 60.79\" gadfly:scale=\"10.0\" visibility=\"hidden\"/>\n",
       "      <path fill=\"none\" d=\"M16.15,56.3 L 136.42 56.3\" gadfly:scale=\"10.0\" visibility=\"hidden\"/>\n",
       "      <path fill=\"none\" d=\"M16.15,51.82 L 136.42 51.82\" gadfly:scale=\"10.0\" visibility=\"hidden\"/>\n",
       "      <path fill=\"none\" d=\"M16.15,47.34 L 136.42 47.34\" gadfly:scale=\"10.0\" visibility=\"hidden\"/>\n",
       "      <path fill=\"none\" d=\"M16.15,42.86 L 136.42 42.86\" gadfly:scale=\"10.0\" visibility=\"hidden\"/>\n",
       "      <path fill=\"none\" d=\"M16.15,38.38 L 136.42 38.38\" gadfly:scale=\"10.0\" visibility=\"hidden\"/>\n",
       "      <path fill=\"none\" d=\"M16.15,33.89 L 136.42 33.89\" gadfly:scale=\"10.0\" visibility=\"hidden\"/>\n",
       "      <path fill=\"none\" d=\"M16.15,29.41 L 136.42 29.41\" gadfly:scale=\"10.0\" visibility=\"hidden\"/>\n",
       "      <path fill=\"none\" d=\"M16.15,24.93 L 136.42 24.93\" gadfly:scale=\"10.0\" visibility=\"hidden\"/>\n",
       "      <path fill=\"none\" d=\"M16.15,20.45 L 136.42 20.45\" gadfly:scale=\"10.0\" visibility=\"hidden\"/>\n",
       "      <path fill=\"none\" d=\"M16.15,15.96 L 136.42 15.96\" gadfly:scale=\"10.0\" visibility=\"hidden\"/>\n",
       "      <path fill=\"none\" d=\"M16.15,11.48 L 136.42 11.48\" gadfly:scale=\"10.0\" visibility=\"hidden\"/>\n",
       "      <path fill=\"none\" d=\"M16.15,7 L 136.42 7\" gadfly:scale=\"10.0\" visibility=\"hidden\"/>\n",
       "      <path fill=\"none\" d=\"M16.15,2.52 L 136.42 2.52\" gadfly:scale=\"10.0\" visibility=\"hidden\"/>\n",
       "      <path fill=\"none\" d=\"M16.15,-1.96 L 136.42 -1.96\" gadfly:scale=\"10.0\" visibility=\"hidden\"/>\n",
       "      <path fill=\"none\" d=\"M16.15,-6.45 L 136.42 -6.45\" gadfly:scale=\"10.0\" visibility=\"hidden\"/>\n",
       "      <path fill=\"none\" d=\"M16.15,-10.93 L 136.42 -10.93\" gadfly:scale=\"10.0\" visibility=\"hidden\"/>\n",
       "      <path fill=\"none\" d=\"M16.15,-15.41 L 136.42 -15.41\" gadfly:scale=\"10.0\" visibility=\"hidden\"/>\n",
       "      <path fill=\"none\" d=\"M16.15,-19.89 L 136.42 -19.89\" gadfly:scale=\"10.0\" visibility=\"hidden\"/>\n",
       "      <path fill=\"none\" d=\"M16.15,-24.38 L 136.42 -24.38\" gadfly:scale=\"10.0\" visibility=\"hidden\"/>\n",
       "      <path fill=\"none\" d=\"M16.15,-28.86 L 136.42 -28.86\" gadfly:scale=\"10.0\" visibility=\"hidden\"/>\n",
       "      <path fill=\"none\" d=\"M16.15,-33.34 L 136.42 -33.34\" gadfly:scale=\"10.0\" visibility=\"hidden\"/>\n",
       "      <path fill=\"none\" d=\"M16.15,-37.82 L 136.42 -37.82\" gadfly:scale=\"10.0\" visibility=\"hidden\"/>\n",
       "      <path fill=\"none\" d=\"M16.15,-42.3 L 136.42 -42.3\" gadfly:scale=\"10.0\" visibility=\"hidden\"/>\n",
       "      <path fill=\"none\" d=\"M16.15,-46.79 L 136.42 -46.79\" gadfly:scale=\"10.0\" visibility=\"hidden\"/>\n",
       "      <path fill=\"none\" d=\"M16.15,-51.27 L 136.42 -51.27\" gadfly:scale=\"10.0\" visibility=\"hidden\"/>\n",
       "      <path fill=\"none\" d=\"M16.15,-55.75 L 136.42 -55.75\" gadfly:scale=\"10.0\" visibility=\"hidden\"/>\n",
       "      <path fill=\"none\" d=\"M16.15,-60.23 L 136.42 -60.23\" gadfly:scale=\"10.0\" visibility=\"hidden\"/>\n",
       "      <path fill=\"none\" d=\"M16.15,-64.72 L 136.42 -64.72\" gadfly:scale=\"10.0\" visibility=\"hidden\"/>\n",
       "      <path fill=\"none\" d=\"M16.15,168.36 L 136.42 168.36\" gadfly:scale=\"0.5\" visibility=\"hidden\"/>\n",
       "      <path fill=\"none\" d=\"M16.15,78.72 L 136.42 78.72\" gadfly:scale=\"0.5\" visibility=\"hidden\"/>\n",
       "      <path fill=\"none\" d=\"M16.15,-10.93 L 136.42 -10.93\" gadfly:scale=\"0.5\" visibility=\"hidden\"/>\n",
       "      <path fill=\"none\" d=\"M16.15,-100.57 L 136.42 -100.57\" gadfly:scale=\"0.5\" visibility=\"hidden\"/>\n",
       "      <path fill=\"none\" d=\"M16.15,150.43 L 136.42 150.43\" gadfly:scale=\"5.0\" visibility=\"hidden\"/>\n",
       "      <path fill=\"none\" d=\"M16.15,145.95 L 136.42 145.95\" gadfly:scale=\"5.0\" visibility=\"hidden\"/>\n",
       "      <path fill=\"none\" d=\"M16.15,141.47 L 136.42 141.47\" gadfly:scale=\"5.0\" visibility=\"hidden\"/>\n",
       "      <path fill=\"none\" d=\"M16.15,136.98 L 136.42 136.98\" gadfly:scale=\"5.0\" visibility=\"hidden\"/>\n",
       "      <path fill=\"none\" d=\"M16.15,132.5 L 136.42 132.5\" gadfly:scale=\"5.0\" visibility=\"hidden\"/>\n",
       "      <path fill=\"none\" d=\"M16.15,128.02 L 136.42 128.02\" gadfly:scale=\"5.0\" visibility=\"hidden\"/>\n",
       "      <path fill=\"none\" d=\"M16.15,123.54 L 136.42 123.54\" gadfly:scale=\"5.0\" visibility=\"hidden\"/>\n",
       "      <path fill=\"none\" d=\"M16.15,119.05 L 136.42 119.05\" gadfly:scale=\"5.0\" visibility=\"hidden\"/>\n",
       "      <path fill=\"none\" d=\"M16.15,114.57 L 136.42 114.57\" gadfly:scale=\"5.0\" visibility=\"hidden\"/>\n",
       "      <path fill=\"none\" d=\"M16.15,110.09 L 136.42 110.09\" gadfly:scale=\"5.0\" visibility=\"hidden\"/>\n",
       "      <path fill=\"none\" d=\"M16.15,105.61 L 136.42 105.61\" gadfly:scale=\"5.0\" visibility=\"hidden\"/>\n",
       "      <path fill=\"none\" d=\"M16.15,101.13 L 136.42 101.13\" gadfly:scale=\"5.0\" visibility=\"hidden\"/>\n",
       "      <path fill=\"none\" d=\"M16.15,96.64 L 136.42 96.64\" gadfly:scale=\"5.0\" visibility=\"hidden\"/>\n",
       "      <path fill=\"none\" d=\"M16.15,92.16 L 136.42 92.16\" gadfly:scale=\"5.0\" visibility=\"hidden\"/>\n",
       "      <path fill=\"none\" d=\"M16.15,87.68 L 136.42 87.68\" gadfly:scale=\"5.0\" visibility=\"hidden\"/>\n",
       "      <path fill=\"none\" d=\"M16.15,83.2 L 136.42 83.2\" gadfly:scale=\"5.0\" visibility=\"hidden\"/>\n",
       "      <path fill=\"none\" d=\"M16.15,78.72 L 136.42 78.72\" gadfly:scale=\"5.0\" visibility=\"hidden\"/>\n",
       "      <path fill=\"none\" d=\"M16.15,74.23 L 136.42 74.23\" gadfly:scale=\"5.0\" visibility=\"hidden\"/>\n",
       "      <path fill=\"none\" d=\"M16.15,69.75 L 136.42 69.75\" gadfly:scale=\"5.0\" visibility=\"hidden\"/>\n",
       "      <path fill=\"none\" d=\"M16.15,65.27 L 136.42 65.27\" gadfly:scale=\"5.0\" visibility=\"hidden\"/>\n",
       "      <path fill=\"none\" d=\"M16.15,60.79 L 136.42 60.79\" gadfly:scale=\"5.0\" visibility=\"hidden\"/>\n",
       "      <path fill=\"none\" d=\"M16.15,56.3 L 136.42 56.3\" gadfly:scale=\"5.0\" visibility=\"hidden\"/>\n",
       "      <path fill=\"none\" d=\"M16.15,51.82 L 136.42 51.82\" gadfly:scale=\"5.0\" visibility=\"hidden\"/>\n",
       "      <path fill=\"none\" d=\"M16.15,47.34 L 136.42 47.34\" gadfly:scale=\"5.0\" visibility=\"hidden\"/>\n",
       "      <path fill=\"none\" d=\"M16.15,42.86 L 136.42 42.86\" gadfly:scale=\"5.0\" visibility=\"hidden\"/>\n",
       "      <path fill=\"none\" d=\"M16.15,38.38 L 136.42 38.38\" gadfly:scale=\"5.0\" visibility=\"hidden\"/>\n",
       "      <path fill=\"none\" d=\"M16.15,33.89 L 136.42 33.89\" gadfly:scale=\"5.0\" visibility=\"hidden\"/>\n",
       "      <path fill=\"none\" d=\"M16.15,29.41 L 136.42 29.41\" gadfly:scale=\"5.0\" visibility=\"hidden\"/>\n",
       "      <path fill=\"none\" d=\"M16.15,24.93 L 136.42 24.93\" gadfly:scale=\"5.0\" visibility=\"hidden\"/>\n",
       "      <path fill=\"none\" d=\"M16.15,20.45 L 136.42 20.45\" gadfly:scale=\"5.0\" visibility=\"hidden\"/>\n",
       "      <path fill=\"none\" d=\"M16.15,15.96 L 136.42 15.96\" gadfly:scale=\"5.0\" visibility=\"hidden\"/>\n",
       "      <path fill=\"none\" d=\"M16.15,11.48 L 136.42 11.48\" gadfly:scale=\"5.0\" visibility=\"hidden\"/>\n",
       "      <path fill=\"none\" d=\"M16.15,7 L 136.42 7\" gadfly:scale=\"5.0\" visibility=\"hidden\"/>\n",
       "      <path fill=\"none\" d=\"M16.15,2.52 L 136.42 2.52\" gadfly:scale=\"5.0\" visibility=\"hidden\"/>\n",
       "      <path fill=\"none\" d=\"M16.15,-1.96 L 136.42 -1.96\" gadfly:scale=\"5.0\" visibility=\"hidden\"/>\n",
       "      <path fill=\"none\" d=\"M16.15,-6.45 L 136.42 -6.45\" gadfly:scale=\"5.0\" visibility=\"hidden\"/>\n",
       "      <path fill=\"none\" d=\"M16.15,-10.93 L 136.42 -10.93\" gadfly:scale=\"5.0\" visibility=\"hidden\"/>\n",
       "      <path fill=\"none\" d=\"M16.15,-15.41 L 136.42 -15.41\" gadfly:scale=\"5.0\" visibility=\"hidden\"/>\n",
       "      <path fill=\"none\" d=\"M16.15,-19.89 L 136.42 -19.89\" gadfly:scale=\"5.0\" visibility=\"hidden\"/>\n",
       "      <path fill=\"none\" d=\"M16.15,-24.38 L 136.42 -24.38\" gadfly:scale=\"5.0\" visibility=\"hidden\"/>\n",
       "      <path fill=\"none\" d=\"M16.15,-28.86 L 136.42 -28.86\" gadfly:scale=\"5.0\" visibility=\"hidden\"/>\n",
       "      <path fill=\"none\" d=\"M16.15,-33.34 L 136.42 -33.34\" gadfly:scale=\"5.0\" visibility=\"hidden\"/>\n",
       "      <path fill=\"none\" d=\"M16.15,-37.82 L 136.42 -37.82\" gadfly:scale=\"5.0\" visibility=\"hidden\"/>\n",
       "      <path fill=\"none\" d=\"M16.15,-42.3 L 136.42 -42.3\" gadfly:scale=\"5.0\" visibility=\"hidden\"/>\n",
       "      <path fill=\"none\" d=\"M16.15,-46.79 L 136.42 -46.79\" gadfly:scale=\"5.0\" visibility=\"hidden\"/>\n",
       "      <path fill=\"none\" d=\"M16.15,-51.27 L 136.42 -51.27\" gadfly:scale=\"5.0\" visibility=\"hidden\"/>\n",
       "      <path fill=\"none\" d=\"M16.15,-55.75 L 136.42 -55.75\" gadfly:scale=\"5.0\" visibility=\"hidden\"/>\n",
       "      <path fill=\"none\" d=\"M16.15,-60.23 L 136.42 -60.23\" gadfly:scale=\"5.0\" visibility=\"hidden\"/>\n",
       "      <path fill=\"none\" d=\"M16.15,-64.72 L 136.42 -64.72\" gadfly:scale=\"5.0\" visibility=\"hidden\"/>\n",
       "    </g>\n",
       "    <g class=\"guide xgridlines yfixed\" stroke-dasharray=\"0.5,0.5\" stroke-width=\"0.2\" stroke=\"#D0D0E0\" id=\"img-9bbbe706-8\">\n",
       "      <path fill=\"none\" d=\"M-121.37,5 L -121.37 80.72\" gadfly:scale=\"1.0\" visibility=\"hidden\"/>\n",
       "      <path fill=\"none\" d=\"M-98.12,5 L -98.12 80.72\" gadfly:scale=\"1.0\" visibility=\"hidden\"/>\n",
       "      <path fill=\"none\" d=\"M-74.86,5 L -74.86 80.72\" gadfly:scale=\"1.0\" visibility=\"hidden\"/>\n",
       "      <path fill=\"none\" d=\"M-51.61,5 L -51.61 80.72\" gadfly:scale=\"1.0\" visibility=\"hidden\"/>\n",
       "      <path fill=\"none\" d=\"M-28.36,5 L -28.36 80.72\" gadfly:scale=\"1.0\" visibility=\"hidden\"/>\n",
       "      <path fill=\"none\" d=\"M-5.1,5 L -5.1 80.72\" gadfly:scale=\"1.0\" visibility=\"hidden\"/>\n",
       "      <path fill=\"none\" d=\"M18.15,5 L 18.15 80.72\" gadfly:scale=\"1.0\" visibility=\"visible\"/>\n",
       "      <path fill=\"none\" d=\"M41.41,5 L 41.41 80.72\" gadfly:scale=\"1.0\" visibility=\"visible\"/>\n",
       "      <path fill=\"none\" d=\"M64.66,5 L 64.66 80.72\" gadfly:scale=\"1.0\" visibility=\"visible\"/>\n",
       "      <path fill=\"none\" d=\"M87.91,5 L 87.91 80.72\" gadfly:scale=\"1.0\" visibility=\"visible\"/>\n",
       "      <path fill=\"none\" d=\"M111.17,5 L 111.17 80.72\" gadfly:scale=\"1.0\" visibility=\"visible\"/>\n",
       "      <path fill=\"none\" d=\"M134.42,5 L 134.42 80.72\" gadfly:scale=\"1.0\" visibility=\"visible\"/>\n",
       "      <path fill=\"none\" d=\"M157.68,5 L 157.68 80.72\" gadfly:scale=\"1.0\" visibility=\"hidden\"/>\n",
       "      <path fill=\"none\" d=\"M180.93,5 L 180.93 80.72\" gadfly:scale=\"1.0\" visibility=\"hidden\"/>\n",
       "      <path fill=\"none\" d=\"M204.18,5 L 204.18 80.72\" gadfly:scale=\"1.0\" visibility=\"hidden\"/>\n",
       "      <path fill=\"none\" d=\"M227.44,5 L 227.44 80.72\" gadfly:scale=\"1.0\" visibility=\"hidden\"/>\n",
       "      <path fill=\"none\" d=\"M250.69,5 L 250.69 80.72\" gadfly:scale=\"1.0\" visibility=\"hidden\"/>\n",
       "      <path fill=\"none\" d=\"M273.94,5 L 273.94 80.72\" gadfly:scale=\"1.0\" visibility=\"hidden\"/>\n",
       "      <path fill=\"none\" d=\"M-98.12,5 L -98.12 80.72\" gadfly:scale=\"10.0\" visibility=\"hidden\"/>\n",
       "      <path fill=\"none\" d=\"M-93.47,5 L -93.47 80.72\" gadfly:scale=\"10.0\" visibility=\"hidden\"/>\n",
       "      <path fill=\"none\" d=\"M-88.81,5 L -88.81 80.72\" gadfly:scale=\"10.0\" visibility=\"hidden\"/>\n",
       "      <path fill=\"none\" d=\"M-84.16,5 L -84.16 80.72\" gadfly:scale=\"10.0\" visibility=\"hidden\"/>\n",
       "      <path fill=\"none\" d=\"M-79.51,5 L -79.51 80.72\" gadfly:scale=\"10.0\" visibility=\"hidden\"/>\n",
       "      <path fill=\"none\" d=\"M-74.86,5 L -74.86 80.72\" gadfly:scale=\"10.0\" visibility=\"hidden\"/>\n",
       "      <path fill=\"none\" d=\"M-70.21,5 L -70.21 80.72\" gadfly:scale=\"10.0\" visibility=\"hidden\"/>\n",
       "      <path fill=\"none\" d=\"M-65.56,5 L -65.56 80.72\" gadfly:scale=\"10.0\" visibility=\"hidden\"/>\n",
       "      <path fill=\"none\" d=\"M-60.91,5 L -60.91 80.72\" gadfly:scale=\"10.0\" visibility=\"hidden\"/>\n",
       "      <path fill=\"none\" d=\"M-56.26,5 L -56.26 80.72\" gadfly:scale=\"10.0\" visibility=\"hidden\"/>\n",
       "      <path fill=\"none\" d=\"M-51.61,5 L -51.61 80.72\" gadfly:scale=\"10.0\" visibility=\"hidden\"/>\n",
       "      <path fill=\"none\" d=\"M-46.96,5 L -46.96 80.72\" gadfly:scale=\"10.0\" visibility=\"hidden\"/>\n",
       "      <path fill=\"none\" d=\"M-42.31,5 L -42.31 80.72\" gadfly:scale=\"10.0\" visibility=\"hidden\"/>\n",
       "      <path fill=\"none\" d=\"M-37.66,5 L -37.66 80.72\" gadfly:scale=\"10.0\" visibility=\"hidden\"/>\n",
       "      <path fill=\"none\" d=\"M-33.01,5 L -33.01 80.72\" gadfly:scale=\"10.0\" visibility=\"hidden\"/>\n",
       "      <path fill=\"none\" d=\"M-28.36,5 L -28.36 80.72\" gadfly:scale=\"10.0\" visibility=\"hidden\"/>\n",
       "      <path fill=\"none\" d=\"M-23.7,5 L -23.7 80.72\" gadfly:scale=\"10.0\" visibility=\"hidden\"/>\n",
       "      <path fill=\"none\" d=\"M-19.05,5 L -19.05 80.72\" gadfly:scale=\"10.0\" visibility=\"hidden\"/>\n",
       "      <path fill=\"none\" d=\"M-14.4,5 L -14.4 80.72\" gadfly:scale=\"10.0\" visibility=\"hidden\"/>\n",
       "      <path fill=\"none\" d=\"M-9.75,5 L -9.75 80.72\" gadfly:scale=\"10.0\" visibility=\"hidden\"/>\n",
       "      <path fill=\"none\" d=\"M-5.1,5 L -5.1 80.72\" gadfly:scale=\"10.0\" visibility=\"hidden\"/>\n",
       "      <path fill=\"none\" d=\"M-0.45,5 L -0.45 80.72\" gadfly:scale=\"10.0\" visibility=\"hidden\"/>\n",
       "      <path fill=\"none\" d=\"M4.2,5 L 4.2 80.72\" gadfly:scale=\"10.0\" visibility=\"hidden\"/>\n",
       "      <path fill=\"none\" d=\"M8.85,5 L 8.85 80.72\" gadfly:scale=\"10.0\" visibility=\"hidden\"/>\n",
       "      <path fill=\"none\" d=\"M13.5,5 L 13.5 80.72\" gadfly:scale=\"10.0\" visibility=\"hidden\"/>\n",
       "      <path fill=\"none\" d=\"M18.15,5 L 18.15 80.72\" gadfly:scale=\"10.0\" visibility=\"hidden\"/>\n",
       "      <path fill=\"none\" d=\"M22.8,5 L 22.8 80.72\" gadfly:scale=\"10.0\" visibility=\"hidden\"/>\n",
       "      <path fill=\"none\" d=\"M27.45,5 L 27.45 80.72\" gadfly:scale=\"10.0\" visibility=\"hidden\"/>\n",
       "      <path fill=\"none\" d=\"M32.1,5 L 32.1 80.72\" gadfly:scale=\"10.0\" visibility=\"hidden\"/>\n",
       "      <path fill=\"none\" d=\"M36.76,5 L 36.76 80.72\" gadfly:scale=\"10.0\" visibility=\"hidden\"/>\n",
       "      <path fill=\"none\" d=\"M41.41,5 L 41.41 80.72\" gadfly:scale=\"10.0\" visibility=\"hidden\"/>\n",
       "      <path fill=\"none\" d=\"M46.06,5 L 46.06 80.72\" gadfly:scale=\"10.0\" visibility=\"hidden\"/>\n",
       "      <path fill=\"none\" d=\"M50.71,5 L 50.71 80.72\" gadfly:scale=\"10.0\" visibility=\"hidden\"/>\n",
       "      <path fill=\"none\" d=\"M55.36,5 L 55.36 80.72\" gadfly:scale=\"10.0\" visibility=\"hidden\"/>\n",
       "      <path fill=\"none\" d=\"M60.01,5 L 60.01 80.72\" gadfly:scale=\"10.0\" visibility=\"hidden\"/>\n",
       "      <path fill=\"none\" d=\"M64.66,5 L 64.66 80.72\" gadfly:scale=\"10.0\" visibility=\"hidden\"/>\n",
       "      <path fill=\"none\" d=\"M69.31,5 L 69.31 80.72\" gadfly:scale=\"10.0\" visibility=\"hidden\"/>\n",
       "      <path fill=\"none\" d=\"M73.96,5 L 73.96 80.72\" gadfly:scale=\"10.0\" visibility=\"hidden\"/>\n",
       "      <path fill=\"none\" d=\"M78.61,5 L 78.61 80.72\" gadfly:scale=\"10.0\" visibility=\"hidden\"/>\n",
       "      <path fill=\"none\" d=\"M83.26,5 L 83.26 80.72\" gadfly:scale=\"10.0\" visibility=\"hidden\"/>\n",
       "      <path fill=\"none\" d=\"M87.91,5 L 87.91 80.72\" gadfly:scale=\"10.0\" visibility=\"hidden\"/>\n",
       "      <path fill=\"none\" d=\"M92.56,5 L 92.56 80.72\" gadfly:scale=\"10.0\" visibility=\"hidden\"/>\n",
       "      <path fill=\"none\" d=\"M97.22,5 L 97.22 80.72\" gadfly:scale=\"10.0\" visibility=\"hidden\"/>\n",
       "      <path fill=\"none\" d=\"M101.87,5 L 101.87 80.72\" gadfly:scale=\"10.0\" visibility=\"hidden\"/>\n",
       "      <path fill=\"none\" d=\"M106.52,5 L 106.52 80.72\" gadfly:scale=\"10.0\" visibility=\"hidden\"/>\n",
       "      <path fill=\"none\" d=\"M111.17,5 L 111.17 80.72\" gadfly:scale=\"10.0\" visibility=\"hidden\"/>\n",
       "      <path fill=\"none\" d=\"M115.82,5 L 115.82 80.72\" gadfly:scale=\"10.0\" visibility=\"hidden\"/>\n",
       "      <path fill=\"none\" d=\"M120.47,5 L 120.47 80.72\" gadfly:scale=\"10.0\" visibility=\"hidden\"/>\n",
       "      <path fill=\"none\" d=\"M125.12,5 L 125.12 80.72\" gadfly:scale=\"10.0\" visibility=\"hidden\"/>\n",
       "      <path fill=\"none\" d=\"M129.77,5 L 129.77 80.72\" gadfly:scale=\"10.0\" visibility=\"hidden\"/>\n",
       "      <path fill=\"none\" d=\"M134.42,5 L 134.42 80.72\" gadfly:scale=\"10.0\" visibility=\"hidden\"/>\n",
       "      <path fill=\"none\" d=\"M139.07,5 L 139.07 80.72\" gadfly:scale=\"10.0\" visibility=\"hidden\"/>\n",
       "      <path fill=\"none\" d=\"M143.72,5 L 143.72 80.72\" gadfly:scale=\"10.0\" visibility=\"hidden\"/>\n",
       "      <path fill=\"none\" d=\"M148.37,5 L 148.37 80.72\" gadfly:scale=\"10.0\" visibility=\"hidden\"/>\n",
       "      <path fill=\"none\" d=\"M153.02,5 L 153.02 80.72\" gadfly:scale=\"10.0\" visibility=\"hidden\"/>\n",
       "      <path fill=\"none\" d=\"M157.68,5 L 157.68 80.72\" gadfly:scale=\"10.0\" visibility=\"hidden\"/>\n",
       "      <path fill=\"none\" d=\"M162.33,5 L 162.33 80.72\" gadfly:scale=\"10.0\" visibility=\"hidden\"/>\n",
       "      <path fill=\"none\" d=\"M166.98,5 L 166.98 80.72\" gadfly:scale=\"10.0\" visibility=\"hidden\"/>\n",
       "      <path fill=\"none\" d=\"M171.63,5 L 171.63 80.72\" gadfly:scale=\"10.0\" visibility=\"hidden\"/>\n",
       "      <path fill=\"none\" d=\"M176.28,5 L 176.28 80.72\" gadfly:scale=\"10.0\" visibility=\"hidden\"/>\n",
       "      <path fill=\"none\" d=\"M180.93,5 L 180.93 80.72\" gadfly:scale=\"10.0\" visibility=\"hidden\"/>\n",
       "      <path fill=\"none\" d=\"M185.58,5 L 185.58 80.72\" gadfly:scale=\"10.0\" visibility=\"hidden\"/>\n",
       "      <path fill=\"none\" d=\"M190.23,5 L 190.23 80.72\" gadfly:scale=\"10.0\" visibility=\"hidden\"/>\n",
       "      <path fill=\"none\" d=\"M194.88,5 L 194.88 80.72\" gadfly:scale=\"10.0\" visibility=\"hidden\"/>\n",
       "      <path fill=\"none\" d=\"M199.53,5 L 199.53 80.72\" gadfly:scale=\"10.0\" visibility=\"hidden\"/>\n",
       "      <path fill=\"none\" d=\"M204.18,5 L 204.18 80.72\" gadfly:scale=\"10.0\" visibility=\"hidden\"/>\n",
       "      <path fill=\"none\" d=\"M208.83,5 L 208.83 80.72\" gadfly:scale=\"10.0\" visibility=\"hidden\"/>\n",
       "      <path fill=\"none\" d=\"M213.48,5 L 213.48 80.72\" gadfly:scale=\"10.0\" visibility=\"hidden\"/>\n",
       "      <path fill=\"none\" d=\"M218.13,5 L 218.13 80.72\" gadfly:scale=\"10.0\" visibility=\"hidden\"/>\n",
       "      <path fill=\"none\" d=\"M222.79,5 L 222.79 80.72\" gadfly:scale=\"10.0\" visibility=\"hidden\"/>\n",
       "      <path fill=\"none\" d=\"M227.44,5 L 227.44 80.72\" gadfly:scale=\"10.0\" visibility=\"hidden\"/>\n",
       "      <path fill=\"none\" d=\"M232.09,5 L 232.09 80.72\" gadfly:scale=\"10.0\" visibility=\"hidden\"/>\n",
       "      <path fill=\"none\" d=\"M236.74,5 L 236.74 80.72\" gadfly:scale=\"10.0\" visibility=\"hidden\"/>\n",
       "      <path fill=\"none\" d=\"M241.39,5 L 241.39 80.72\" gadfly:scale=\"10.0\" visibility=\"hidden\"/>\n",
       "      <path fill=\"none\" d=\"M246.04,5 L 246.04 80.72\" gadfly:scale=\"10.0\" visibility=\"hidden\"/>\n",
       "      <path fill=\"none\" d=\"M250.69,5 L 250.69 80.72\" gadfly:scale=\"10.0\" visibility=\"hidden\"/>\n",
       "      <path fill=\"none\" d=\"M-98.12,5 L -98.12 80.72\" gadfly:scale=\"0.5\" visibility=\"hidden\"/>\n",
       "      <path fill=\"none\" d=\"M18.15,5 L 18.15 80.72\" gadfly:scale=\"0.5\" visibility=\"hidden\"/>\n",
       "      <path fill=\"none\" d=\"M134.42,5 L 134.42 80.72\" gadfly:scale=\"0.5\" visibility=\"hidden\"/>\n",
       "      <path fill=\"none\" d=\"M250.69,5 L 250.69 80.72\" gadfly:scale=\"0.5\" visibility=\"hidden\"/>\n",
       "      <path fill=\"none\" d=\"M-102.77,5 L -102.77 80.72\" gadfly:scale=\"5.0\" visibility=\"hidden\"/>\n",
       "      <path fill=\"none\" d=\"M-93.47,5 L -93.47 80.72\" gadfly:scale=\"5.0\" visibility=\"hidden\"/>\n",
       "      <path fill=\"none\" d=\"M-84.16,5 L -84.16 80.72\" gadfly:scale=\"5.0\" visibility=\"hidden\"/>\n",
       "      <path fill=\"none\" d=\"M-74.86,5 L -74.86 80.72\" gadfly:scale=\"5.0\" visibility=\"hidden\"/>\n",
       "      <path fill=\"none\" d=\"M-65.56,5 L -65.56 80.72\" gadfly:scale=\"5.0\" visibility=\"hidden\"/>\n",
       "      <path fill=\"none\" d=\"M-56.26,5 L -56.26 80.72\" gadfly:scale=\"5.0\" visibility=\"hidden\"/>\n",
       "      <path fill=\"none\" d=\"M-46.96,5 L -46.96 80.72\" gadfly:scale=\"5.0\" visibility=\"hidden\"/>\n",
       "      <path fill=\"none\" d=\"M-37.66,5 L -37.66 80.72\" gadfly:scale=\"5.0\" visibility=\"hidden\"/>\n",
       "      <path fill=\"none\" d=\"M-28.36,5 L -28.36 80.72\" gadfly:scale=\"5.0\" visibility=\"hidden\"/>\n",
       "      <path fill=\"none\" d=\"M-19.05,5 L -19.05 80.72\" gadfly:scale=\"5.0\" visibility=\"hidden\"/>\n",
       "      <path fill=\"none\" d=\"M-9.75,5 L -9.75 80.72\" gadfly:scale=\"5.0\" visibility=\"hidden\"/>\n",
       "      <path fill=\"none\" d=\"M-0.45,5 L -0.45 80.72\" gadfly:scale=\"5.0\" visibility=\"hidden\"/>\n",
       "      <path fill=\"none\" d=\"M8.85,5 L 8.85 80.72\" gadfly:scale=\"5.0\" visibility=\"hidden\"/>\n",
       "      <path fill=\"none\" d=\"M18.15,5 L 18.15 80.72\" gadfly:scale=\"5.0\" visibility=\"hidden\"/>\n",
       "      <path fill=\"none\" d=\"M27.45,5 L 27.45 80.72\" gadfly:scale=\"5.0\" visibility=\"hidden\"/>\n",
       "      <path fill=\"none\" d=\"M36.76,5 L 36.76 80.72\" gadfly:scale=\"5.0\" visibility=\"hidden\"/>\n",
       "      <path fill=\"none\" d=\"M46.06,5 L 46.06 80.72\" gadfly:scale=\"5.0\" visibility=\"hidden\"/>\n",
       "      <path fill=\"none\" d=\"M55.36,5 L 55.36 80.72\" gadfly:scale=\"5.0\" visibility=\"hidden\"/>\n",
       "      <path fill=\"none\" d=\"M64.66,5 L 64.66 80.72\" gadfly:scale=\"5.0\" visibility=\"hidden\"/>\n",
       "      <path fill=\"none\" d=\"M73.96,5 L 73.96 80.72\" gadfly:scale=\"5.0\" visibility=\"hidden\"/>\n",
       "      <path fill=\"none\" d=\"M83.26,5 L 83.26 80.72\" gadfly:scale=\"5.0\" visibility=\"hidden\"/>\n",
       "      <path fill=\"none\" d=\"M92.56,5 L 92.56 80.72\" gadfly:scale=\"5.0\" visibility=\"hidden\"/>\n",
       "      <path fill=\"none\" d=\"M101.87,5 L 101.87 80.72\" gadfly:scale=\"5.0\" visibility=\"hidden\"/>\n",
       "      <path fill=\"none\" d=\"M111.17,5 L 111.17 80.72\" gadfly:scale=\"5.0\" visibility=\"hidden\"/>\n",
       "      <path fill=\"none\" d=\"M120.47,5 L 120.47 80.72\" gadfly:scale=\"5.0\" visibility=\"hidden\"/>\n",
       "      <path fill=\"none\" d=\"M129.77,5 L 129.77 80.72\" gadfly:scale=\"5.0\" visibility=\"hidden\"/>\n",
       "      <path fill=\"none\" d=\"M139.07,5 L 139.07 80.72\" gadfly:scale=\"5.0\" visibility=\"hidden\"/>\n",
       "      <path fill=\"none\" d=\"M148.37,5 L 148.37 80.72\" gadfly:scale=\"5.0\" visibility=\"hidden\"/>\n",
       "      <path fill=\"none\" d=\"M157.68,5 L 157.68 80.72\" gadfly:scale=\"5.0\" visibility=\"hidden\"/>\n",
       "      <path fill=\"none\" d=\"M166.98,5 L 166.98 80.72\" gadfly:scale=\"5.0\" visibility=\"hidden\"/>\n",
       "      <path fill=\"none\" d=\"M176.28,5 L 176.28 80.72\" gadfly:scale=\"5.0\" visibility=\"hidden\"/>\n",
       "      <path fill=\"none\" d=\"M185.58,5 L 185.58 80.72\" gadfly:scale=\"5.0\" visibility=\"hidden\"/>\n",
       "      <path fill=\"none\" d=\"M194.88,5 L 194.88 80.72\" gadfly:scale=\"5.0\" visibility=\"hidden\"/>\n",
       "      <path fill=\"none\" d=\"M204.18,5 L 204.18 80.72\" gadfly:scale=\"5.0\" visibility=\"hidden\"/>\n",
       "      <path fill=\"none\" d=\"M213.48,5 L 213.48 80.72\" gadfly:scale=\"5.0\" visibility=\"hidden\"/>\n",
       "      <path fill=\"none\" d=\"M222.79,5 L 222.79 80.72\" gadfly:scale=\"5.0\" visibility=\"hidden\"/>\n",
       "      <path fill=\"none\" d=\"M232.09,5 L 232.09 80.72\" gadfly:scale=\"5.0\" visibility=\"hidden\"/>\n",
       "      <path fill=\"none\" d=\"M241.39,5 L 241.39 80.72\" gadfly:scale=\"5.0\" visibility=\"hidden\"/>\n",
       "      <path fill=\"none\" d=\"M250.69,5 L 250.69 80.72\" gadfly:scale=\"5.0\" visibility=\"hidden\"/>\n",
       "    </g>\n",
       "    <g class=\"plotpanel\" id=\"img-9bbbe706-9\">\n",
       "      <g class=\"geometry\" stroke=\"#000000\" stroke-opacity=\"0.000\" fill=\"#4C404B\" font-size=\"2.82\" font-family=\"'PT Sans Caption','Helvetica Neue','Helvetica',sans-serif\" id=\"img-9bbbe706-10\">\n",
       "        <text x=\"20.41\" y=\"71.19\" text-anchor=\"middle\" dy=\"0.35em\" visibility=\"hidden\">one</text>\n",
       "        <text x=\"54.35\" y=\"22.75\" text-anchor=\"middle\" dy=\"0.35em\" visibility=\"visible\">two</text>\n",
       "        <text x=\"121.61\" y=\"73.69\" text-anchor=\"middle\" dy=\"0.35em\" visibility=\"visible\">three</text>\n",
       "        <text x=\"45.26\" y=\"66.26\" text-anchor=\"middle\" dy=\"0.35em\" visibility=\"visible\">four</text>\n",
       "        <text x=\"15.49\" y=\"67.61\" text-anchor=\"middle\" dy=\"0.35em\" visibility=\"hidden\">five</text>\n",
       "      </g>\n",
       "      <g class=\"geometry\" id=\"img-9bbbe706-11\">\n",
       "        <g class=\"color_RGBA{Float32}(0.0f0,0.74736935f0,1.0f0,1.0f0)\" stroke=\"#FFFFFF\" stroke-width=\"0.3\" fill=\"#00BFFF\" id=\"img-9bbbe706-12\">\n",
       "          <use xlink:href=\"#img-9bbbe706-13\" x=\"22.8\" y=\"68.85\"/>\n",
       "          <use xlink:href=\"#img-9bbbe706-13\" x=\"50.71\" y=\"23.14\"/>\n",
       "          <use xlink:href=\"#img-9bbbe706-13\" x=\"125.12\" y=\"76.03\"/>\n",
       "          <use xlink:href=\"#img-9bbbe706-13\" x=\"41.41\" y=\"66.16\"/>\n",
       "          <use xlink:href=\"#img-9bbbe706-13\" x=\"18.15\" y=\"65.27\"/>\n",
       "        </g>\n",
       "      </g>\n",
       "    </g>\n",
       "    <g opacity=\"0\" class=\"guide zoomslider\" stroke=\"#000000\" stroke-opacity=\"0.000\" id=\"img-9bbbe706-14\">\n",
       "      <g fill=\"#EAEAEA\" stroke-width=\"0.3\" stroke-opacity=\"0\" stroke=\"#6A6A6A\" id=\"img-9bbbe706-15\">\n",
       "        <rect x=\"129.42\" y=\"8\" width=\"4\" height=\"4\"/>\n",
       "        <g class=\"button_logo\" fill=\"#6A6A6A\" id=\"img-9bbbe706-16\">\n",
       "          <path d=\"M130.22,9.6 L 131.02 9.6 131.02 8.8 131.82 8.8 131.82 9.6 132.62 9.6 132.62 10.4 131.82 10.4 131.82 11.2 131.02 11.2 131.02 10.4 130.22 10.4 z\"/>\n",
       "        </g>\n",
       "      </g>\n",
       "      <g fill=\"#EAEAEA\" id=\"img-9bbbe706-17\">\n",
       "        <rect x=\"109.92\" y=\"8\" width=\"19\" height=\"4\"/>\n",
       "      </g>\n",
       "      <g class=\"zoomslider_thumb\" fill=\"#6A6A6A\" id=\"img-9bbbe706-18\">\n",
       "        <rect x=\"118.42\" y=\"8\" width=\"2\" height=\"4\"/>\n",
       "      </g>\n",
       "      <g fill=\"#EAEAEA\" stroke-width=\"0.3\" stroke-opacity=\"0\" stroke=\"#6A6A6A\" id=\"img-9bbbe706-19\">\n",
       "        <rect x=\"105.42\" y=\"8\" width=\"4\" height=\"4\"/>\n",
       "        <g class=\"button_logo\" fill=\"#6A6A6A\" id=\"img-9bbbe706-20\">\n",
       "          <path d=\"M106.22,9.6 L 108.62 9.6 108.62 10.4 106.22 10.4 z\"/>\n",
       "        </g>\n",
       "      </g>\n",
       "    </g>\n",
       "  </g>\n",
       "</g>\n",
       "  <g class=\"guide ylabels\" font-size=\"2.82\" font-family=\"'PT Sans Caption','Helvetica Neue','Helvetica',sans-serif\" fill=\"#6C606B\" id=\"img-9bbbe706-21\">\n",
       "    <text x=\"15.15\" y=\"168.36\" text-anchor=\"end\" dy=\"0.35em\" gadfly:scale=\"1.0\" visibility=\"hidden\">-100</text>\n",
       "    <text x=\"15.15\" y=\"150.43\" text-anchor=\"end\" dy=\"0.35em\" gadfly:scale=\"1.0\" visibility=\"hidden\">-80</text>\n",
       "    <text x=\"15.15\" y=\"132.5\" text-anchor=\"end\" dy=\"0.35em\" gadfly:scale=\"1.0\" visibility=\"hidden\">-60</text>\n",
       "    <text x=\"15.15\" y=\"114.57\" text-anchor=\"end\" dy=\"0.35em\" gadfly:scale=\"1.0\" visibility=\"hidden\">-40</text>\n",
       "    <text x=\"15.15\" y=\"96.64\" text-anchor=\"end\" dy=\"0.35em\" gadfly:scale=\"1.0\" visibility=\"hidden\">-20</text>\n",
       "    <text x=\"15.15\" y=\"78.72\" text-anchor=\"end\" dy=\"0.35em\" gadfly:scale=\"1.0\" visibility=\"visible\">0</text>\n",
       "    <text x=\"15.15\" y=\"60.79\" text-anchor=\"end\" dy=\"0.35em\" gadfly:scale=\"1.0\" visibility=\"visible\">20</text>\n",
       "    <text x=\"15.15\" y=\"42.86\" text-anchor=\"end\" dy=\"0.35em\" gadfly:scale=\"1.0\" visibility=\"visible\">40</text>\n",
       "    <text x=\"15.15\" y=\"24.93\" text-anchor=\"end\" dy=\"0.35em\" gadfly:scale=\"1.0\" visibility=\"visible\">60</text>\n",
       "    <text x=\"15.15\" y=\"7\" text-anchor=\"end\" dy=\"0.35em\" gadfly:scale=\"1.0\" visibility=\"visible\">80</text>\n",
       "    <text x=\"15.15\" y=\"-10.93\" text-anchor=\"end\" dy=\"0.35em\" gadfly:scale=\"1.0\" visibility=\"hidden\">100</text>\n",
       "    <text x=\"15.15\" y=\"-28.86\" text-anchor=\"end\" dy=\"0.35em\" gadfly:scale=\"1.0\" visibility=\"hidden\">120</text>\n",
       "    <text x=\"15.15\" y=\"-46.79\" text-anchor=\"end\" dy=\"0.35em\" gadfly:scale=\"1.0\" visibility=\"hidden\">140</text>\n",
       "    <text x=\"15.15\" y=\"-64.72\" text-anchor=\"end\" dy=\"0.35em\" gadfly:scale=\"1.0\" visibility=\"hidden\">160</text>\n",
       "    <text x=\"15.15\" y=\"-82.64\" text-anchor=\"end\" dy=\"0.35em\" gadfly:scale=\"1.0\" visibility=\"hidden\">180</text>\n",
       "    <text x=\"15.15\" y=\"150.43\" text-anchor=\"end\" dy=\"0.35em\" gadfly:scale=\"10.0\" visibility=\"hidden\">-80</text>\n",
       "    <text x=\"15.15\" y=\"145.95\" text-anchor=\"end\" dy=\"0.35em\" gadfly:scale=\"10.0\" visibility=\"hidden\">-75</text>\n",
       "    <text x=\"15.15\" y=\"141.47\" text-anchor=\"end\" dy=\"0.35em\" gadfly:scale=\"10.0\" visibility=\"hidden\">-70</text>\n",
       "    <text x=\"15.15\" y=\"136.98\" text-anchor=\"end\" dy=\"0.35em\" gadfly:scale=\"10.0\" visibility=\"hidden\">-65</text>\n",
       "    <text x=\"15.15\" y=\"132.5\" text-anchor=\"end\" dy=\"0.35em\" gadfly:scale=\"10.0\" visibility=\"hidden\">-60</text>\n",
       "    <text x=\"15.15\" y=\"128.02\" text-anchor=\"end\" dy=\"0.35em\" gadfly:scale=\"10.0\" visibility=\"hidden\">-55</text>\n",
       "    <text x=\"15.15\" y=\"123.54\" text-anchor=\"end\" dy=\"0.35em\" gadfly:scale=\"10.0\" visibility=\"hidden\">-50</text>\n",
       "    <text x=\"15.15\" y=\"119.05\" text-anchor=\"end\" dy=\"0.35em\" gadfly:scale=\"10.0\" visibility=\"hidden\">-45</text>\n",
       "    <text x=\"15.15\" y=\"114.57\" text-anchor=\"end\" dy=\"0.35em\" gadfly:scale=\"10.0\" visibility=\"hidden\">-40</text>\n",
       "    <text x=\"15.15\" y=\"110.09\" text-anchor=\"end\" dy=\"0.35em\" gadfly:scale=\"10.0\" visibility=\"hidden\">-35</text>\n",
       "    <text x=\"15.15\" y=\"105.61\" text-anchor=\"end\" dy=\"0.35em\" gadfly:scale=\"10.0\" visibility=\"hidden\">-30</text>\n",
       "    <text x=\"15.15\" y=\"101.13\" text-anchor=\"end\" dy=\"0.35em\" gadfly:scale=\"10.0\" visibility=\"hidden\">-25</text>\n",
       "    <text x=\"15.15\" y=\"96.64\" text-anchor=\"end\" dy=\"0.35em\" gadfly:scale=\"10.0\" visibility=\"hidden\">-20</text>\n",
       "    <text x=\"15.15\" y=\"92.16\" text-anchor=\"end\" dy=\"0.35em\" gadfly:scale=\"10.0\" visibility=\"hidden\">-15</text>\n",
       "    <text x=\"15.15\" y=\"87.68\" text-anchor=\"end\" dy=\"0.35em\" gadfly:scale=\"10.0\" visibility=\"hidden\">-10</text>\n",
       "    <text x=\"15.15\" y=\"83.2\" text-anchor=\"end\" dy=\"0.35em\" gadfly:scale=\"10.0\" visibility=\"hidden\">-5</text>\n",
       "    <text x=\"15.15\" y=\"78.72\" text-anchor=\"end\" dy=\"0.35em\" gadfly:scale=\"10.0\" visibility=\"hidden\">0</text>\n",
       "    <text x=\"15.15\" y=\"74.23\" text-anchor=\"end\" dy=\"0.35em\" gadfly:scale=\"10.0\" visibility=\"hidden\">5</text>\n",
       "    <text x=\"15.15\" y=\"69.75\" text-anchor=\"end\" dy=\"0.35em\" gadfly:scale=\"10.0\" visibility=\"hidden\">10</text>\n",
       "    <text x=\"15.15\" y=\"65.27\" text-anchor=\"end\" dy=\"0.35em\" gadfly:scale=\"10.0\" visibility=\"hidden\">15</text>\n",
       "    <text x=\"15.15\" y=\"60.79\" text-anchor=\"end\" dy=\"0.35em\" gadfly:scale=\"10.0\" visibility=\"hidden\">20</text>\n",
       "    <text x=\"15.15\" y=\"56.3\" text-anchor=\"end\" dy=\"0.35em\" gadfly:scale=\"10.0\" visibility=\"hidden\">25</text>\n",
       "    <text x=\"15.15\" y=\"51.82\" text-anchor=\"end\" dy=\"0.35em\" gadfly:scale=\"10.0\" visibility=\"hidden\">30</text>\n",
       "    <text x=\"15.15\" y=\"47.34\" text-anchor=\"end\" dy=\"0.35em\" gadfly:scale=\"10.0\" visibility=\"hidden\">35</text>\n",
       "    <text x=\"15.15\" y=\"42.86\" text-anchor=\"end\" dy=\"0.35em\" gadfly:scale=\"10.0\" visibility=\"hidden\">40</text>\n",
       "    <text x=\"15.15\" y=\"38.38\" text-anchor=\"end\" dy=\"0.35em\" gadfly:scale=\"10.0\" visibility=\"hidden\">45</text>\n",
       "    <text x=\"15.15\" y=\"33.89\" text-anchor=\"end\" dy=\"0.35em\" gadfly:scale=\"10.0\" visibility=\"hidden\">50</text>\n",
       "    <text x=\"15.15\" y=\"29.41\" text-anchor=\"end\" dy=\"0.35em\" gadfly:scale=\"10.0\" visibility=\"hidden\">55</text>\n",
       "    <text x=\"15.15\" y=\"24.93\" text-anchor=\"end\" dy=\"0.35em\" gadfly:scale=\"10.0\" visibility=\"hidden\">60</text>\n",
       "    <text x=\"15.15\" y=\"20.45\" text-anchor=\"end\" dy=\"0.35em\" gadfly:scale=\"10.0\" visibility=\"hidden\">65</text>\n",
       "    <text x=\"15.15\" y=\"15.96\" text-anchor=\"end\" dy=\"0.35em\" gadfly:scale=\"10.0\" visibility=\"hidden\">70</text>\n",
       "    <text x=\"15.15\" y=\"11.48\" text-anchor=\"end\" dy=\"0.35em\" gadfly:scale=\"10.0\" visibility=\"hidden\">75</text>\n",
       "    <text x=\"15.15\" y=\"7\" text-anchor=\"end\" dy=\"0.35em\" gadfly:scale=\"10.0\" visibility=\"hidden\">80</text>\n",
       "    <text x=\"15.15\" y=\"2.52\" text-anchor=\"end\" dy=\"0.35em\" gadfly:scale=\"10.0\" visibility=\"hidden\">85</text>\n",
       "    <text x=\"15.15\" y=\"-1.96\" text-anchor=\"end\" dy=\"0.35em\" gadfly:scale=\"10.0\" visibility=\"hidden\">90</text>\n",
       "    <text x=\"15.15\" y=\"-6.45\" text-anchor=\"end\" dy=\"0.35em\" gadfly:scale=\"10.0\" visibility=\"hidden\">95</text>\n",
       "    <text x=\"15.15\" y=\"-10.93\" text-anchor=\"end\" dy=\"0.35em\" gadfly:scale=\"10.0\" visibility=\"hidden\">100</text>\n",
       "    <text x=\"15.15\" y=\"-15.41\" text-anchor=\"end\" dy=\"0.35em\" gadfly:scale=\"10.0\" visibility=\"hidden\">105</text>\n",
       "    <text x=\"15.15\" y=\"-19.89\" text-anchor=\"end\" dy=\"0.35em\" gadfly:scale=\"10.0\" visibility=\"hidden\">110</text>\n",
       "    <text x=\"15.15\" y=\"-24.38\" text-anchor=\"end\" dy=\"0.35em\" gadfly:scale=\"10.0\" visibility=\"hidden\">115</text>\n",
       "    <text x=\"15.15\" y=\"-28.86\" text-anchor=\"end\" dy=\"0.35em\" gadfly:scale=\"10.0\" visibility=\"hidden\">120</text>\n",
       "    <text x=\"15.15\" y=\"-33.34\" text-anchor=\"end\" dy=\"0.35em\" gadfly:scale=\"10.0\" visibility=\"hidden\">125</text>\n",
       "    <text x=\"15.15\" y=\"-37.82\" text-anchor=\"end\" dy=\"0.35em\" gadfly:scale=\"10.0\" visibility=\"hidden\">130</text>\n",
       "    <text x=\"15.15\" y=\"-42.3\" text-anchor=\"end\" dy=\"0.35em\" gadfly:scale=\"10.0\" visibility=\"hidden\">135</text>\n",
       "    <text x=\"15.15\" y=\"-46.79\" text-anchor=\"end\" dy=\"0.35em\" gadfly:scale=\"10.0\" visibility=\"hidden\">140</text>\n",
       "    <text x=\"15.15\" y=\"-51.27\" text-anchor=\"end\" dy=\"0.35em\" gadfly:scale=\"10.0\" visibility=\"hidden\">145</text>\n",
       "    <text x=\"15.15\" y=\"-55.75\" text-anchor=\"end\" dy=\"0.35em\" gadfly:scale=\"10.0\" visibility=\"hidden\">150</text>\n",
       "    <text x=\"15.15\" y=\"-60.23\" text-anchor=\"end\" dy=\"0.35em\" gadfly:scale=\"10.0\" visibility=\"hidden\">155</text>\n",
       "    <text x=\"15.15\" y=\"-64.72\" text-anchor=\"end\" dy=\"0.35em\" gadfly:scale=\"10.0\" visibility=\"hidden\">160</text>\n",
       "    <text x=\"15.15\" y=\"168.36\" text-anchor=\"end\" dy=\"0.35em\" gadfly:scale=\"0.5\" visibility=\"hidden\">-100</text>\n",
       "    <text x=\"15.15\" y=\"78.72\" text-anchor=\"end\" dy=\"0.35em\" gadfly:scale=\"0.5\" visibility=\"hidden\">0</text>\n",
       "    <text x=\"15.15\" y=\"-10.93\" text-anchor=\"end\" dy=\"0.35em\" gadfly:scale=\"0.5\" visibility=\"hidden\">100</text>\n",
       "    <text x=\"15.15\" y=\"-100.57\" text-anchor=\"end\" dy=\"0.35em\" gadfly:scale=\"0.5\" visibility=\"hidden\">200</text>\n",
       "    <text x=\"15.15\" y=\"150.43\" text-anchor=\"end\" dy=\"0.35em\" gadfly:scale=\"5.0\" visibility=\"hidden\">-80</text>\n",
       "    <text x=\"15.15\" y=\"145.95\" text-anchor=\"end\" dy=\"0.35em\" gadfly:scale=\"5.0\" visibility=\"hidden\">-75</text>\n",
       "    <text x=\"15.15\" y=\"141.47\" text-anchor=\"end\" dy=\"0.35em\" gadfly:scale=\"5.0\" visibility=\"hidden\">-70</text>\n",
       "    <text x=\"15.15\" y=\"136.98\" text-anchor=\"end\" dy=\"0.35em\" gadfly:scale=\"5.0\" visibility=\"hidden\">-65</text>\n",
       "    <text x=\"15.15\" y=\"132.5\" text-anchor=\"end\" dy=\"0.35em\" gadfly:scale=\"5.0\" visibility=\"hidden\">-60</text>\n",
       "    <text x=\"15.15\" y=\"128.02\" text-anchor=\"end\" dy=\"0.35em\" gadfly:scale=\"5.0\" visibility=\"hidden\">-55</text>\n",
       "    <text x=\"15.15\" y=\"123.54\" text-anchor=\"end\" dy=\"0.35em\" gadfly:scale=\"5.0\" visibility=\"hidden\">-50</text>\n",
       "    <text x=\"15.15\" y=\"119.05\" text-anchor=\"end\" dy=\"0.35em\" gadfly:scale=\"5.0\" visibility=\"hidden\">-45</text>\n",
       "    <text x=\"15.15\" y=\"114.57\" text-anchor=\"end\" dy=\"0.35em\" gadfly:scale=\"5.0\" visibility=\"hidden\">-40</text>\n",
       "    <text x=\"15.15\" y=\"110.09\" text-anchor=\"end\" dy=\"0.35em\" gadfly:scale=\"5.0\" visibility=\"hidden\">-35</text>\n",
       "    <text x=\"15.15\" y=\"105.61\" text-anchor=\"end\" dy=\"0.35em\" gadfly:scale=\"5.0\" visibility=\"hidden\">-30</text>\n",
       "    <text x=\"15.15\" y=\"101.13\" text-anchor=\"end\" dy=\"0.35em\" gadfly:scale=\"5.0\" visibility=\"hidden\">-25</text>\n",
       "    <text x=\"15.15\" y=\"96.64\" text-anchor=\"end\" dy=\"0.35em\" gadfly:scale=\"5.0\" visibility=\"hidden\">-20</text>\n",
       "    <text x=\"15.15\" y=\"92.16\" text-anchor=\"end\" dy=\"0.35em\" gadfly:scale=\"5.0\" visibility=\"hidden\">-15</text>\n",
       "    <text x=\"15.15\" y=\"87.68\" text-anchor=\"end\" dy=\"0.35em\" gadfly:scale=\"5.0\" visibility=\"hidden\">-10</text>\n",
       "    <text x=\"15.15\" y=\"83.2\" text-anchor=\"end\" dy=\"0.35em\" gadfly:scale=\"5.0\" visibility=\"hidden\">-5</text>\n",
       "    <text x=\"15.15\" y=\"78.72\" text-anchor=\"end\" dy=\"0.35em\" gadfly:scale=\"5.0\" visibility=\"hidden\">0</text>\n",
       "    <text x=\"15.15\" y=\"74.23\" text-anchor=\"end\" dy=\"0.35em\" gadfly:scale=\"5.0\" visibility=\"hidden\">5</text>\n",
       "    <text x=\"15.15\" y=\"69.75\" text-anchor=\"end\" dy=\"0.35em\" gadfly:scale=\"5.0\" visibility=\"hidden\">10</text>\n",
       "    <text x=\"15.15\" y=\"65.27\" text-anchor=\"end\" dy=\"0.35em\" gadfly:scale=\"5.0\" visibility=\"hidden\">15</text>\n",
       "    <text x=\"15.15\" y=\"60.79\" text-anchor=\"end\" dy=\"0.35em\" gadfly:scale=\"5.0\" visibility=\"hidden\">20</text>\n",
       "    <text x=\"15.15\" y=\"56.3\" text-anchor=\"end\" dy=\"0.35em\" gadfly:scale=\"5.0\" visibility=\"hidden\">25</text>\n",
       "    <text x=\"15.15\" y=\"51.82\" text-anchor=\"end\" dy=\"0.35em\" gadfly:scale=\"5.0\" visibility=\"hidden\">30</text>\n",
       "    <text x=\"15.15\" y=\"47.34\" text-anchor=\"end\" dy=\"0.35em\" gadfly:scale=\"5.0\" visibility=\"hidden\">35</text>\n",
       "    <text x=\"15.15\" y=\"42.86\" text-anchor=\"end\" dy=\"0.35em\" gadfly:scale=\"5.0\" visibility=\"hidden\">40</text>\n",
       "    <text x=\"15.15\" y=\"38.38\" text-anchor=\"end\" dy=\"0.35em\" gadfly:scale=\"5.0\" visibility=\"hidden\">45</text>\n",
       "    <text x=\"15.15\" y=\"33.89\" text-anchor=\"end\" dy=\"0.35em\" gadfly:scale=\"5.0\" visibility=\"hidden\">50</text>\n",
       "    <text x=\"15.15\" y=\"29.41\" text-anchor=\"end\" dy=\"0.35em\" gadfly:scale=\"5.0\" visibility=\"hidden\">55</text>\n",
       "    <text x=\"15.15\" y=\"24.93\" text-anchor=\"end\" dy=\"0.35em\" gadfly:scale=\"5.0\" visibility=\"hidden\">60</text>\n",
       "    <text x=\"15.15\" y=\"20.45\" text-anchor=\"end\" dy=\"0.35em\" gadfly:scale=\"5.0\" visibility=\"hidden\">65</text>\n",
       "    <text x=\"15.15\" y=\"15.96\" text-anchor=\"end\" dy=\"0.35em\" gadfly:scale=\"5.0\" visibility=\"hidden\">70</text>\n",
       "    <text x=\"15.15\" y=\"11.48\" text-anchor=\"end\" dy=\"0.35em\" gadfly:scale=\"5.0\" visibility=\"hidden\">75</text>\n",
       "    <text x=\"15.15\" y=\"7\" text-anchor=\"end\" dy=\"0.35em\" gadfly:scale=\"5.0\" visibility=\"hidden\">80</text>\n",
       "    <text x=\"15.15\" y=\"2.52\" text-anchor=\"end\" dy=\"0.35em\" gadfly:scale=\"5.0\" visibility=\"hidden\">85</text>\n",
       "    <text x=\"15.15\" y=\"-1.96\" text-anchor=\"end\" dy=\"0.35em\" gadfly:scale=\"5.0\" visibility=\"hidden\">90</text>\n",
       "    <text x=\"15.15\" y=\"-6.45\" text-anchor=\"end\" dy=\"0.35em\" gadfly:scale=\"5.0\" visibility=\"hidden\">95</text>\n",
       "    <text x=\"15.15\" y=\"-10.93\" text-anchor=\"end\" dy=\"0.35em\" gadfly:scale=\"5.0\" visibility=\"hidden\">100</text>\n",
       "    <text x=\"15.15\" y=\"-15.41\" text-anchor=\"end\" dy=\"0.35em\" gadfly:scale=\"5.0\" visibility=\"hidden\">105</text>\n",
       "    <text x=\"15.15\" y=\"-19.89\" text-anchor=\"end\" dy=\"0.35em\" gadfly:scale=\"5.0\" visibility=\"hidden\">110</text>\n",
       "    <text x=\"15.15\" y=\"-24.38\" text-anchor=\"end\" dy=\"0.35em\" gadfly:scale=\"5.0\" visibility=\"hidden\">115</text>\n",
       "    <text x=\"15.15\" y=\"-28.86\" text-anchor=\"end\" dy=\"0.35em\" gadfly:scale=\"5.0\" visibility=\"hidden\">120</text>\n",
       "    <text x=\"15.15\" y=\"-33.34\" text-anchor=\"end\" dy=\"0.35em\" gadfly:scale=\"5.0\" visibility=\"hidden\">125</text>\n",
       "    <text x=\"15.15\" y=\"-37.82\" text-anchor=\"end\" dy=\"0.35em\" gadfly:scale=\"5.0\" visibility=\"hidden\">130</text>\n",
       "    <text x=\"15.15\" y=\"-42.3\" text-anchor=\"end\" dy=\"0.35em\" gadfly:scale=\"5.0\" visibility=\"hidden\">135</text>\n",
       "    <text x=\"15.15\" y=\"-46.79\" text-anchor=\"end\" dy=\"0.35em\" gadfly:scale=\"5.0\" visibility=\"hidden\">140</text>\n",
       "    <text x=\"15.15\" y=\"-51.27\" text-anchor=\"end\" dy=\"0.35em\" gadfly:scale=\"5.0\" visibility=\"hidden\">145</text>\n",
       "    <text x=\"15.15\" y=\"-55.75\" text-anchor=\"end\" dy=\"0.35em\" gadfly:scale=\"5.0\" visibility=\"hidden\">150</text>\n",
       "    <text x=\"15.15\" y=\"-60.23\" text-anchor=\"end\" dy=\"0.35em\" gadfly:scale=\"5.0\" visibility=\"hidden\">155</text>\n",
       "    <text x=\"15.15\" y=\"-64.72\" text-anchor=\"end\" dy=\"0.35em\" gadfly:scale=\"5.0\" visibility=\"hidden\">160</text>\n",
       "  </g>\n",
       "  <g font-size=\"3.88\" font-family=\"'PT Sans','Helvetica Neue','Helvetica',sans-serif\" fill=\"#564A55\" stroke=\"#000000\" stroke-opacity=\"0.000\" id=\"img-9bbbe706-22\">\n",
       "    <text x=\"8.81\" y=\"42.86\" text-anchor=\"end\" dy=\"0.35em\">y</text>\n",
       "  </g>\n",
       "</g>\n",
       "<defs>\n",
       "  <clipPath id=\"img-9bbbe706-4\">\n",
       "  <path d=\"M16.15,5 L 136.42 5 136.42 80.72 16.15 80.72\" />\n",
       "</clipPath>\n",
       "  <g id=\"img-9bbbe706-13\">\n",
       "    <circle cx=\"0\" cy=\"0\" r=\"0.9\"/>\n",
       "  </g>\n",
       "</defs>\n",
       "<script> <![CDATA[\n",
       "(function(N){var k=/[\\.\\/]/,L=/\\s*,\\s*/,C=function(a,d){return a-d},a,v,y={n:{}},M=function(){for(var a=0,d=this.length;a<d;a++)if(\"undefined\"!=typeof this[a])return this[a]},A=function(){for(var a=this.length;--a;)if(\"undefined\"!=typeof this[a])return this[a]},w=function(k,d){k=String(k);var f=v,n=Array.prototype.slice.call(arguments,2),u=w.listeners(k),p=0,b,q=[],e={},l=[],r=a;l.firstDefined=M;l.lastDefined=A;a=k;for(var s=v=0,x=u.length;s<x;s++)\"zIndex\"in u[s]&&(q.push(u[s].zIndex),0>u[s].zIndex&&\r\n",
       "(e[u[s].zIndex]=u[s]));for(q.sort(C);0>q[p];)if(b=e[q[p++] ],l.push(b.apply(d,n)),v)return v=f,l;for(s=0;s<x;s++)if(b=u[s],\"zIndex\"in b)if(b.zIndex==q[p]){l.push(b.apply(d,n));if(v)break;do if(p++,(b=e[q[p] ])&&l.push(b.apply(d,n)),v)break;while(b)}else e[b.zIndex]=b;else if(l.push(b.apply(d,n)),v)break;v=f;a=r;return l};w._events=y;w.listeners=function(a){a=a.split(k);var d=y,f,n,u,p,b,q,e,l=[d],r=[];u=0;for(p=a.length;u<p;u++){e=[];b=0;for(q=l.length;b<q;b++)for(d=l[b].n,f=[d[a[u] ],d[\"*\"] ],n=2;n--;)if(d=\r\n",
       "f[n])e.push(d),r=r.concat(d.f||[]);l=e}return r};w.on=function(a,d){a=String(a);if(\"function\"!=typeof d)return function(){};for(var f=a.split(L),n=0,u=f.length;n<u;n++)(function(a){a=a.split(k);for(var b=y,f,e=0,l=a.length;e<l;e++)b=b.n,b=b.hasOwnProperty(a[e])&&b[a[e] ]||(b[a[e] ]={n:{}});b.f=b.f||[];e=0;for(l=b.f.length;e<l;e++)if(b.f[e]==d){f=!0;break}!f&&b.f.push(d)})(f[n]);return function(a){+a==+a&&(d.zIndex=+a)}};w.f=function(a){var d=[].slice.call(arguments,1);return function(){w.apply(null,\r\n",
       "[a,null].concat(d).concat([].slice.call(arguments,0)))}};w.stop=function(){v=1};w.nt=function(k){return k?(new RegExp(\"(?:\\\\.|\\\\/|^)\"+k+\"(?:\\\\.|\\\\/|$)\")).test(a):a};w.nts=function(){return a.split(k)};w.off=w.unbind=function(a,d){if(a){var f=a.split(L);if(1<f.length)for(var n=0,u=f.length;n<u;n++)w.off(f[n],d);else{for(var f=a.split(k),p,b,q,e,l=[y],n=0,u=f.length;n<u;n++)for(e=0;e<l.length;e+=q.length-2){q=[e,1];p=l[e].n;if(\"*\"!=f[n])p[f[n] ]&&q.push(p[f[n] ]);else for(b in p)p.hasOwnProperty(b)&&\r\n",
       "q.push(p[b]);l.splice.apply(l,q)}n=0;for(u=l.length;n<u;n++)for(p=l[n];p.n;){if(d){if(p.f){e=0;for(f=p.f.length;e<f;e++)if(p.f[e]==d){p.f.splice(e,1);break}!p.f.length&&delete p.f}for(b in p.n)if(p.n.hasOwnProperty(b)&&p.n[b].f){q=p.n[b].f;e=0;for(f=q.length;e<f;e++)if(q[e]==d){q.splice(e,1);break}!q.length&&delete p.n[b].f}}else for(b in delete p.f,p.n)p.n.hasOwnProperty(b)&&p.n[b].f&&delete p.n[b].f;p=p.n}}}else w._events=y={n:{}}};w.once=function(a,d){var f=function(){w.unbind(a,f);return d.apply(this,\r\n",
       "arguments)};return w.on(a,f)};w.version=\"0.4.2\";w.toString=function(){return\"You are running Eve 0.4.2\"};\"undefined\"!=typeof module&&module.exports?module.exports=w:\"function\"===typeof define&&define.amd?define(\"eve\",[],function(){return w}):N.eve=w})(this);\r\n",
       "(function(N,k){\"function\"===typeof define&&define.amd?define(\"Snap.svg\",[\"eve\"],function(L){return k(N,L)}):k(N,N.eve)})(this,function(N,k){var L=function(a){var k={},y=N.requestAnimationFrame||N.webkitRequestAnimationFrame||N.mozRequestAnimationFrame||N.oRequestAnimationFrame||N.msRequestAnimationFrame||function(a){setTimeout(a,16)},M=Array.isArray||function(a){return a instanceof Array||\"[object Array]\"==Object.prototype.toString.call(a)},A=0,w=\"M\"+(+new Date).toString(36),z=function(a){if(null==\r\n",
       "a)return this.s;var b=this.s-a;this.b+=this.dur*b;this.B+=this.dur*b;this.s=a},d=function(a){if(null==a)return this.spd;this.spd=a},f=function(a){if(null==a)return this.dur;this.s=this.s*a/this.dur;this.dur=a},n=function(){delete k[this.id];this.update();a(\"mina.stop.\"+this.id,this)},u=function(){this.pdif||(delete k[this.id],this.update(),this.pdif=this.get()-this.b)},p=function(){this.pdif&&(this.b=this.get()-this.pdif,delete this.pdif,k[this.id]=this)},b=function(){var a;if(M(this.start)){a=[];\r\n",
       "for(var b=0,e=this.start.length;b<e;b++)a[b]=+this.start[b]+(this.end[b]-this.start[b])*this.easing(this.s)}else a=+this.start+(this.end-this.start)*this.easing(this.s);this.set(a)},q=function(){var l=0,b;for(b in k)if(k.hasOwnProperty(b)){var e=k[b],f=e.get();l++;e.s=(f-e.b)/(e.dur/e.spd);1<=e.s&&(delete k[b],e.s=1,l--,function(b){setTimeout(function(){a(\"mina.finish.\"+b.id,b)})}(e));e.update()}l&&y(q)},e=function(a,r,s,x,G,h,J){a={id:w+(A++).toString(36),start:a,end:r,b:s,s:0,dur:x-s,spd:1,get:G,\r\n",
       "set:h,easing:J||e.linear,status:z,speed:d,duration:f,stop:n,pause:u,resume:p,update:b};k[a.id]=a;r=0;for(var K in k)if(k.hasOwnProperty(K)&&(r++,2==r))break;1==r&&y(q);return a};e.time=Date.now||function(){return+new Date};e.getById=function(a){return k[a]||null};e.linear=function(a){return a};e.easeout=function(a){return Math.pow(a,1.7)};e.easein=function(a){return Math.pow(a,0.48)};e.easeinout=function(a){if(1==a)return 1;if(0==a)return 0;var b=0.48-a/1.04,e=Math.sqrt(0.1734+b*b);a=e-b;a=Math.pow(Math.abs(a),\r\n",
       "1/3)*(0>a?-1:1);b=-e-b;b=Math.pow(Math.abs(b),1/3)*(0>b?-1:1);a=a+b+0.5;return 3*(1-a)*a*a+a*a*a};e.backin=function(a){return 1==a?1:a*a*(2.70158*a-1.70158)};e.backout=function(a){if(0==a)return 0;a-=1;return a*a*(2.70158*a+1.70158)+1};e.elastic=function(a){return a==!!a?a:Math.pow(2,-10*a)*Math.sin(2*(a-0.075)*Math.PI/0.3)+1};e.bounce=function(a){a<1/2.75?a*=7.5625*a:a<2/2.75?(a-=1.5/2.75,a=7.5625*a*a+0.75):a<2.5/2.75?(a-=2.25/2.75,a=7.5625*a*a+0.9375):(a-=2.625/2.75,a=7.5625*a*a+0.984375);return a};\r\n",
       "return N.mina=e}(\"undefined\"==typeof k?function(){}:k),C=function(){function a(c,t){if(c){if(c.tagName)return x(c);if(y(c,\"array\")&&a.set)return a.set.apply(a,c);if(c instanceof e)return c;if(null==t)return c=G.doc.querySelector(c),x(c)}return new s(null==c?\"100%\":c,null==t?\"100%\":t)}function v(c,a){if(a){\"#text\"==c&&(c=G.doc.createTextNode(a.text||\"\"));\"string\"==typeof c&&(c=v(c));if(\"string\"==typeof a)return\"xlink:\"==a.substring(0,6)?c.getAttributeNS(m,a.substring(6)):\"xml:\"==a.substring(0,4)?c.getAttributeNS(la,\r\n",
       "a.substring(4)):c.getAttribute(a);for(var da in a)if(a[h](da)){var b=J(a[da]);b?\"xlink:\"==da.substring(0,6)?c.setAttributeNS(m,da.substring(6),b):\"xml:\"==da.substring(0,4)?c.setAttributeNS(la,da.substring(4),b):c.setAttribute(da,b):c.removeAttribute(da)}}else c=G.doc.createElementNS(la,c);return c}function y(c,a){a=J.prototype.toLowerCase.call(a);return\"finite\"==a?isFinite(c):\"array\"==a&&(c instanceof Array||Array.isArray&&Array.isArray(c))?!0:\"null\"==a&&null===c||a==typeof c&&null!==c||\"object\"==\r\n",
       "a&&c===Object(c)||$.call(c).slice(8,-1).toLowerCase()==a}function M(c){if(\"function\"==typeof c||Object(c)!==c)return c;var a=new c.constructor,b;for(b in c)c[h](b)&&(a[b]=M(c[b]));return a}function A(c,a,b){function m(){var e=Array.prototype.slice.call(arguments,0),f=e.join(\"\\u2400\"),d=m.cache=m.cache||{},l=m.count=m.count||[];if(d[h](f)){a:for(var e=l,l=f,B=0,H=e.length;B<H;B++)if(e[B]===l){e.push(e.splice(B,1)[0]);break a}return b?b(d[f]):d[f]}1E3<=l.length&&delete d[l.shift()];l.push(f);d[f]=c.apply(a,\r\n",
       "e);return b?b(d[f]):d[f]}return m}function w(c,a,b,m,e,f){return null==e?(c-=b,a-=m,c||a?(180*I.atan2(-a,-c)/C+540)%360:0):w(c,a,e,f)-w(b,m,e,f)}function z(c){return c%360*C/180}function d(c){var a=[];c=c.replace(/(?:^|\\s)(\\w+)\\(([^)]+)\\)/g,function(c,b,m){m=m.split(/\\s*,\\s*|\\s+/);\"rotate\"==b&&1==m.length&&m.push(0,0);\"scale\"==b&&(2<m.length?m=m.slice(0,2):2==m.length&&m.push(0,0),1==m.length&&m.push(m[0],0,0));\"skewX\"==b?a.push([\"m\",1,0,I.tan(z(m[0])),1,0,0]):\"skewY\"==b?a.push([\"m\",1,I.tan(z(m[0])),\r\n",
       "0,1,0,0]):a.push([b.charAt(0)].concat(m));return c});return a}function f(c,t){var b=O(c),m=new a.Matrix;if(b)for(var e=0,f=b.length;e<f;e++){var h=b[e],d=h.length,B=J(h[0]).toLowerCase(),H=h[0]!=B,l=H?m.invert():0,E;\"t\"==B&&2==d?m.translate(h[1],0):\"t\"==B&&3==d?H?(d=l.x(0,0),B=l.y(0,0),H=l.x(h[1],h[2]),l=l.y(h[1],h[2]),m.translate(H-d,l-B)):m.translate(h[1],h[2]):\"r\"==B?2==d?(E=E||t,m.rotate(h[1],E.x+E.width/2,E.y+E.height/2)):4==d&&(H?(H=l.x(h[2],h[3]),l=l.y(h[2],h[3]),m.rotate(h[1],H,l)):m.rotate(h[1],\r\n",
       "h[2],h[3])):\"s\"==B?2==d||3==d?(E=E||t,m.scale(h[1],h[d-1],E.x+E.width/2,E.y+E.height/2)):4==d?H?(H=l.x(h[2],h[3]),l=l.y(h[2],h[3]),m.scale(h[1],h[1],H,l)):m.scale(h[1],h[1],h[2],h[3]):5==d&&(H?(H=l.x(h[3],h[4]),l=l.y(h[3],h[4]),m.scale(h[1],h[2],H,l)):m.scale(h[1],h[2],h[3],h[4])):\"m\"==B&&7==d&&m.add(h[1],h[2],h[3],h[4],h[5],h[6])}return m}function n(c,t){if(null==t){var m=!0;t=\"linearGradient\"==c.type||\"radialGradient\"==c.type?c.node.getAttribute(\"gradientTransform\"):\"pattern\"==c.type?c.node.getAttribute(\"patternTransform\"):\r\n",
       "c.node.getAttribute(\"transform\");if(!t)return new a.Matrix;t=d(t)}else t=a._.rgTransform.test(t)?J(t).replace(/\\.{3}|\\u2026/g,c._.transform||aa):d(t),y(t,\"array\")&&(t=a.path?a.path.toString.call(t):J(t)),c._.transform=t;var b=f(t,c.getBBox(1));if(m)return b;c.matrix=b}function u(c){c=c.node.ownerSVGElement&&x(c.node.ownerSVGElement)||c.node.parentNode&&x(c.node.parentNode)||a.select(\"svg\")||a(0,0);var t=c.select(\"defs\"),t=null==t?!1:t.node;t||(t=r(\"defs\",c.node).node);return t}function p(c){return c.node.ownerSVGElement&&\r\n",
       "x(c.node.ownerSVGElement)||a.select(\"svg\")}function b(c,a,m){function b(c){if(null==c)return aa;if(c==+c)return c;v(B,{width:c});try{return B.getBBox().width}catch(a){return 0}}function h(c){if(null==c)return aa;if(c==+c)return c;v(B,{height:c});try{return B.getBBox().height}catch(a){return 0}}function e(b,B){null==a?d[b]=B(c.attr(b)||0):b==a&&(d=B(null==m?c.attr(b)||0:m))}var f=p(c).node,d={},B=f.querySelector(\".svg---mgr\");B||(B=v(\"rect\"),v(B,{x:-9E9,y:-9E9,width:10,height:10,\"class\":\"svg---mgr\",\r\n",
       "fill:\"none\"}),f.appendChild(B));switch(c.type){case \"rect\":e(\"rx\",b),e(\"ry\",h);case \"image\":e(\"width\",b),e(\"height\",h);case \"text\":e(\"x\",b);e(\"y\",h);break;case \"circle\":e(\"cx\",b);e(\"cy\",h);e(\"r\",b);break;case \"ellipse\":e(\"cx\",b);e(\"cy\",h);e(\"rx\",b);e(\"ry\",h);break;case \"line\":e(\"x1\",b);e(\"x2\",b);e(\"y1\",h);e(\"y2\",h);break;case \"marker\":e(\"refX\",b);e(\"markerWidth\",b);e(\"refY\",h);e(\"markerHeight\",h);break;case \"radialGradient\":e(\"fx\",b);e(\"fy\",h);break;case \"tspan\":e(\"dx\",b);e(\"dy\",h);break;default:e(a,\r\n",
       "b)}f.removeChild(B);return d}function q(c){y(c,\"array\")||(c=Array.prototype.slice.call(arguments,0));for(var a=0,b=0,m=this.node;this[a];)delete this[a++];for(a=0;a<c.length;a++)\"set\"==c[a].type?c[a].forEach(function(c){m.appendChild(c.node)}):m.appendChild(c[a].node);for(var h=m.childNodes,a=0;a<h.length;a++)this[b++]=x(h[a]);return this}function e(c){if(c.snap in E)return E[c.snap];var a=this.id=V(),b;try{b=c.ownerSVGElement}catch(m){}this.node=c;b&&(this.paper=new s(b));this.type=c.tagName;this.anims=\r\n",
       "{};this._={transform:[]};c.snap=a;E[a]=this;\"g\"==this.type&&(this.add=q);if(this.type in{g:1,mask:1,pattern:1})for(var e in s.prototype)s.prototype[h](e)&&(this[e]=s.prototype[e])}function l(c){this.node=c}function r(c,a){var b=v(c);a.appendChild(b);return x(b)}function s(c,a){var b,m,f,d=s.prototype;if(c&&\"svg\"==c.tagName){if(c.snap in E)return E[c.snap];var l=c.ownerDocument;b=new e(c);m=c.getElementsByTagName(\"desc\")[0];f=c.getElementsByTagName(\"defs\")[0];m||(m=v(\"desc\"),m.appendChild(l.createTextNode(\"Created with Snap\")),\r\n",
       "b.node.appendChild(m));f||(f=v(\"defs\"),b.node.appendChild(f));b.defs=f;for(var ca in d)d[h](ca)&&(b[ca]=d[ca]);b.paper=b.root=b}else b=r(\"svg\",G.doc.body),v(b.node,{height:a,version:1.1,width:c,xmlns:la});return b}function x(c){return!c||c instanceof e||c instanceof l?c:c.tagName&&\"svg\"==c.tagName.toLowerCase()?new s(c):c.tagName&&\"object\"==c.tagName.toLowerCase()&&\"image/svg+xml\"==c.type?new s(c.contentDocument.getElementsByTagName(\"svg\")[0]):new e(c)}a.version=\"0.3.0\";a.toString=function(){return\"Snap v\"+\r\n",
       "this.version};a._={};var G={win:N,doc:N.document};a._.glob=G;var h=\"hasOwnProperty\",J=String,K=parseFloat,U=parseInt,I=Math,P=I.max,Q=I.min,Y=I.abs,C=I.PI,aa=\"\",$=Object.prototype.toString,F=/^\\s*((#[a-f\\d]{6})|(#[a-f\\d]{3})|rgba?\\(\\s*([\\d\\.]+%?\\s*,\\s*[\\d\\.]+%?\\s*,\\s*[\\d\\.]+%?(?:\\s*,\\s*[\\d\\.]+%?)?)\\s*\\)|hsba?\\(\\s*([\\d\\.]+(?:deg|\\xb0|%)?\\s*,\\s*[\\d\\.]+%?\\s*,\\s*[\\d\\.]+(?:%?\\s*,\\s*[\\d\\.]+)?%?)\\s*\\)|hsla?\\(\\s*([\\d\\.]+(?:deg|\\xb0|%)?\\s*,\\s*[\\d\\.]+%?\\s*,\\s*[\\d\\.]+(?:%?\\s*,\\s*[\\d\\.]+)?%?)\\s*\\))\\s*$/i;a._.separator=\r\n",
       "RegExp(\"[,\\t\\n\\x0B\\f\\r \\u00a0\\u1680\\u180e\\u2000\\u2001\\u2002\\u2003\\u2004\\u2005\\u2006\\u2007\\u2008\\u2009\\u200a\\u202f\\u205f\\u3000\\u2028\\u2029]+\");var S=RegExp(\"[\\t\\n\\x0B\\f\\r \\u00a0\\u1680\\u180e\\u2000\\u2001\\u2002\\u2003\\u2004\\u2005\\u2006\\u2007\\u2008\\u2009\\u200a\\u202f\\u205f\\u3000\\u2028\\u2029]*,[\\t\\n\\x0B\\f\\r \\u00a0\\u1680\\u180e\\u2000\\u2001\\u2002\\u2003\\u2004\\u2005\\u2006\\u2007\\u2008\\u2009\\u200a\\u202f\\u205f\\u3000\\u2028\\u2029]*\"),X={hs:1,rg:1},W=RegExp(\"([a-z])[\\t\\n\\x0B\\f\\r \\u00a0\\u1680\\u180e\\u2000\\u2001\\u2002\\u2003\\u2004\\u2005\\u2006\\u2007\\u2008\\u2009\\u200a\\u202f\\u205f\\u3000\\u2028\\u2029,]*((-?\\\\d*\\\\.?\\\\d*(?:e[\\\\-+]?\\\\d+)?[\\t\\n\\x0B\\f\\r \\u00a0\\u1680\\u180e\\u2000\\u2001\\u2002\\u2003\\u2004\\u2005\\u2006\\u2007\\u2008\\u2009\\u200a\\u202f\\u205f\\u3000\\u2028\\u2029]*,?[\\t\\n\\x0B\\f\\r \\u00a0\\u1680\\u180e\\u2000\\u2001\\u2002\\u2003\\u2004\\u2005\\u2006\\u2007\\u2008\\u2009\\u200a\\u202f\\u205f\\u3000\\u2028\\u2029]*)+)\",\r\n",
       "\"ig\"),ma=RegExp(\"([rstm])[\\t\\n\\x0B\\f\\r \\u00a0\\u1680\\u180e\\u2000\\u2001\\u2002\\u2003\\u2004\\u2005\\u2006\\u2007\\u2008\\u2009\\u200a\\u202f\\u205f\\u3000\\u2028\\u2029,]*((-?\\\\d*\\\\.?\\\\d*(?:e[\\\\-+]?\\\\d+)?[\\t\\n\\x0B\\f\\r \\u00a0\\u1680\\u180e\\u2000\\u2001\\u2002\\u2003\\u2004\\u2005\\u2006\\u2007\\u2008\\u2009\\u200a\\u202f\\u205f\\u3000\\u2028\\u2029]*,?[\\t\\n\\x0B\\f\\r \\u00a0\\u1680\\u180e\\u2000\\u2001\\u2002\\u2003\\u2004\\u2005\\u2006\\u2007\\u2008\\u2009\\u200a\\u202f\\u205f\\u3000\\u2028\\u2029]*)+)\",\"ig\"),Z=RegExp(\"(-?\\\\d*\\\\.?\\\\d*(?:e[\\\\-+]?\\\\d+)?)[\\t\\n\\x0B\\f\\r \\u00a0\\u1680\\u180e\\u2000\\u2001\\u2002\\u2003\\u2004\\u2005\\u2006\\u2007\\u2008\\u2009\\u200a\\u202f\\u205f\\u3000\\u2028\\u2029]*,?[\\t\\n\\x0B\\f\\r \\u00a0\\u1680\\u180e\\u2000\\u2001\\u2002\\u2003\\u2004\\u2005\\u2006\\u2007\\u2008\\u2009\\u200a\\u202f\\u205f\\u3000\\u2028\\u2029]*\",\r\n",
       "\"ig\"),na=0,ba=\"S\"+(+new Date).toString(36),V=function(){return ba+(na++).toString(36)},m=\"http://www.w3.org/1999/xlink\",la=\"http://www.w3.org/2000/svg\",E={},ca=a.url=function(c){return\"url('#\"+c+\"')\"};a._.$=v;a._.id=V;a.format=function(){var c=/\\{([^\\}]+)\\}/g,a=/(?:(?:^|\\.)(.+?)(?=\\[|\\.|$|\\()|\\[('|\")(.+?)\\2\\])(\\(\\))?/g,b=function(c,b,m){var h=m;b.replace(a,function(c,a,b,m,t){a=a||m;h&&(a in h&&(h=h[a]),\"function\"==typeof h&&t&&(h=h()))});return h=(null==h||h==m?c:h)+\"\"};return function(a,m){return J(a).replace(c,\r\n",
       "function(c,a){return b(c,a,m)})}}();a._.clone=M;a._.cacher=A;a.rad=z;a.deg=function(c){return 180*c/C%360};a.angle=w;a.is=y;a.snapTo=function(c,a,b){b=y(b,\"finite\")?b:10;if(y(c,\"array\"))for(var m=c.length;m--;){if(Y(c[m]-a)<=b)return c[m]}else{c=+c;m=a%c;if(m<b)return a-m;if(m>c-b)return a-m+c}return a};a.getRGB=A(function(c){if(!c||(c=J(c)).indexOf(\"-\")+1)return{r:-1,g:-1,b:-1,hex:\"none\",error:1,toString:ka};if(\"none\"==c)return{r:-1,g:-1,b:-1,hex:\"none\",toString:ka};!X[h](c.toLowerCase().substring(0,\r\n",
       "2))&&\"#\"!=c.charAt()&&(c=T(c));if(!c)return{r:-1,g:-1,b:-1,hex:\"none\",error:1,toString:ka};var b,m,e,f,d;if(c=c.match(F)){c[2]&&(e=U(c[2].substring(5),16),m=U(c[2].substring(3,5),16),b=U(c[2].substring(1,3),16));c[3]&&(e=U((d=c[3].charAt(3))+d,16),m=U((d=c[3].charAt(2))+d,16),b=U((d=c[3].charAt(1))+d,16));c[4]&&(d=c[4].split(S),b=K(d[0]),\"%\"==d[0].slice(-1)&&(b*=2.55),m=K(d[1]),\"%\"==d[1].slice(-1)&&(m*=2.55),e=K(d[2]),\"%\"==d[2].slice(-1)&&(e*=2.55),\"rgba\"==c[1].toLowerCase().slice(0,4)&&(f=K(d[3])),\r\n",
       "d[3]&&\"%\"==d[3].slice(-1)&&(f/=100));if(c[5])return d=c[5].split(S),b=K(d[0]),\"%\"==d[0].slice(-1)&&(b/=100),m=K(d[1]),\"%\"==d[1].slice(-1)&&(m/=100),e=K(d[2]),\"%\"==d[2].slice(-1)&&(e/=100),\"deg\"!=d[0].slice(-3)&&\"\\u00b0\"!=d[0].slice(-1)||(b/=360),\"hsba\"==c[1].toLowerCase().slice(0,4)&&(f=K(d[3])),d[3]&&\"%\"==d[3].slice(-1)&&(f/=100),a.hsb2rgb(b,m,e,f);if(c[6])return d=c[6].split(S),b=K(d[0]),\"%\"==d[0].slice(-1)&&(b/=100),m=K(d[1]),\"%\"==d[1].slice(-1)&&(m/=100),e=K(d[2]),\"%\"==d[2].slice(-1)&&(e/=100),\r\n",
       "\"deg\"!=d[0].slice(-3)&&\"\\u00b0\"!=d[0].slice(-1)||(b/=360),\"hsla\"==c[1].toLowerCase().slice(0,4)&&(f=K(d[3])),d[3]&&\"%\"==d[3].slice(-1)&&(f/=100),a.hsl2rgb(b,m,e,f);b=Q(I.round(b),255);m=Q(I.round(m),255);e=Q(I.round(e),255);f=Q(P(f,0),1);c={r:b,g:m,b:e,toString:ka};c.hex=\"#\"+(16777216|e|m<<8|b<<16).toString(16).slice(1);c.opacity=y(f,\"finite\")?f:1;return c}return{r:-1,g:-1,b:-1,hex:\"none\",error:1,toString:ka}},a);a.hsb=A(function(c,b,m){return a.hsb2rgb(c,b,m).hex});a.hsl=A(function(c,b,m){return a.hsl2rgb(c,\r\n",
       "b,m).hex});a.rgb=A(function(c,a,b,m){if(y(m,\"finite\")){var e=I.round;return\"rgba(\"+[e(c),e(a),e(b),+m.toFixed(2)]+\")\"}return\"#\"+(16777216|b|a<<8|c<<16).toString(16).slice(1)});var T=function(c){var a=G.doc.getElementsByTagName(\"head\")[0]||G.doc.getElementsByTagName(\"svg\")[0];T=A(function(c){if(\"red\"==c.toLowerCase())return\"rgb(255, 0, 0)\";a.style.color=\"rgb(255, 0, 0)\";a.style.color=c;c=G.doc.defaultView.getComputedStyle(a,aa).getPropertyValue(\"color\");return\"rgb(255, 0, 0)\"==c?null:c});return T(c)},\r\n",
       "qa=function(){return\"hsb(\"+[this.h,this.s,this.b]+\")\"},ra=function(){return\"hsl(\"+[this.h,this.s,this.l]+\")\"},ka=function(){return 1==this.opacity||null==this.opacity?this.hex:\"rgba(\"+[this.r,this.g,this.b,this.opacity]+\")\"},D=function(c,b,m){null==b&&y(c,\"object\")&&\"r\"in c&&\"g\"in c&&\"b\"in c&&(m=c.b,b=c.g,c=c.r);null==b&&y(c,string)&&(m=a.getRGB(c),c=m.r,b=m.g,m=m.b);if(1<c||1<b||1<m)c/=255,b/=255,m/=255;return[c,b,m]},oa=function(c,b,m,e){c=I.round(255*c);b=I.round(255*b);m=I.round(255*m);c={r:c,\r\n",
       "g:b,b:m,opacity:y(e,\"finite\")?e:1,hex:a.rgb(c,b,m),toString:ka};y(e,\"finite\")&&(c.opacity=e);return c};a.color=function(c){var b;y(c,\"object\")&&\"h\"in c&&\"s\"in c&&\"b\"in c?(b=a.hsb2rgb(c),c.r=b.r,c.g=b.g,c.b=b.b,c.opacity=1,c.hex=b.hex):y(c,\"object\")&&\"h\"in c&&\"s\"in c&&\"l\"in c?(b=a.hsl2rgb(c),c.r=b.r,c.g=b.g,c.b=b.b,c.opacity=1,c.hex=b.hex):(y(c,\"string\")&&(c=a.getRGB(c)),y(c,\"object\")&&\"r\"in c&&\"g\"in c&&\"b\"in c&&!(\"error\"in c)?(b=a.rgb2hsl(c),c.h=b.h,c.s=b.s,c.l=b.l,b=a.rgb2hsb(c),c.v=b.b):(c={hex:\"none\"},\r\n",
       "c.r=c.g=c.b=c.h=c.s=c.v=c.l=-1,c.error=1));c.toString=ka;return c};a.hsb2rgb=function(c,a,b,m){y(c,\"object\")&&\"h\"in c&&\"s\"in c&&\"b\"in c&&(b=c.b,a=c.s,c=c.h,m=c.o);var e,h,d;c=360*c%360/60;d=b*a;a=d*(1-Y(c%2-1));b=e=h=b-d;c=~~c;b+=[d,a,0,0,a,d][c];e+=[a,d,d,a,0,0][c];h+=[0,0,a,d,d,a][c];return oa(b,e,h,m)};a.hsl2rgb=function(c,a,b,m){y(c,\"object\")&&\"h\"in c&&\"s\"in c&&\"l\"in c&&(b=c.l,a=c.s,c=c.h);if(1<c||1<a||1<b)c/=360,a/=100,b/=100;var e,h,d;c=360*c%360/60;d=2*a*(0.5>b?b:1-b);a=d*(1-Y(c%2-1));b=e=\r\n",
       "h=b-d/2;c=~~c;b+=[d,a,0,0,a,d][c];e+=[a,d,d,a,0,0][c];h+=[0,0,a,d,d,a][c];return oa(b,e,h,m)};a.rgb2hsb=function(c,a,b){b=D(c,a,b);c=b[0];a=b[1];b=b[2];var m,e;m=P(c,a,b);e=m-Q(c,a,b);c=((0==e?0:m==c?(a-b)/e:m==a?(b-c)/e+2:(c-a)/e+4)+360)%6*60/360;return{h:c,s:0==e?0:e/m,b:m,toString:qa}};a.rgb2hsl=function(c,a,b){b=D(c,a,b);c=b[0];a=b[1];b=b[2];var m,e,h;m=P(c,a,b);e=Q(c,a,b);h=m-e;c=((0==h?0:m==c?(a-b)/h:m==a?(b-c)/h+2:(c-a)/h+4)+360)%6*60/360;m=(m+e)/2;return{h:c,s:0==h?0:0.5>m?h/(2*m):h/(2-2*\r\n",
       "m),l:m,toString:ra}};a.parsePathString=function(c){if(!c)return null;var b=a.path(c);if(b.arr)return a.path.clone(b.arr);var m={a:7,c:6,o:2,h:1,l:2,m:2,r:4,q:4,s:4,t:2,v:1,u:3,z:0},e=[];y(c,\"array\")&&y(c[0],\"array\")&&(e=a.path.clone(c));e.length||J(c).replace(W,function(c,a,b){var h=[];c=a.toLowerCase();b.replace(Z,function(c,a){a&&h.push(+a)});\"m\"==c&&2<h.length&&(e.push([a].concat(h.splice(0,2))),c=\"l\",a=\"m\"==a?\"l\":\"L\");\"o\"==c&&1==h.length&&e.push([a,h[0] ]);if(\"r\"==c)e.push([a].concat(h));else for(;h.length>=\r\n",
       "m[c]&&(e.push([a].concat(h.splice(0,m[c]))),m[c]););});e.toString=a.path.toString;b.arr=a.path.clone(e);return e};var O=a.parseTransformString=function(c){if(!c)return null;var b=[];y(c,\"array\")&&y(c[0],\"array\")&&(b=a.path.clone(c));b.length||J(c).replace(ma,function(c,a,m){var e=[];a.toLowerCase();m.replace(Z,function(c,a){a&&e.push(+a)});b.push([a].concat(e))});b.toString=a.path.toString;return b};a._.svgTransform2string=d;a._.rgTransform=RegExp(\"^[a-z][\\t\\n\\x0B\\f\\r \\u00a0\\u1680\\u180e\\u2000\\u2001\\u2002\\u2003\\u2004\\u2005\\u2006\\u2007\\u2008\\u2009\\u200a\\u202f\\u205f\\u3000\\u2028\\u2029]*-?\\\\.?\\\\d\",\r\n",
       "\"i\");a._.transform2matrix=f;a._unit2px=b;a._.getSomeDefs=u;a._.getSomeSVG=p;a.select=function(c){return x(G.doc.querySelector(c))};a.selectAll=function(c){c=G.doc.querySelectorAll(c);for(var b=(a.set||Array)(),m=0;m<c.length;m++)b.push(x(c[m]));return b};setInterval(function(){for(var c in E)if(E[h](c)){var a=E[c],b=a.node;(\"svg\"!=a.type&&!b.ownerSVGElement||\"svg\"==a.type&&(!b.parentNode||\"ownerSVGElement\"in b.parentNode&&!b.ownerSVGElement))&&delete E[c]}},1E4);(function(c){function m(c){function a(c,\r\n",
       "b){var m=v(c.node,b);(m=(m=m&&m.match(d))&&m[2])&&\"#\"==m.charAt()&&(m=m.substring(1))&&(f[m]=(f[m]||[]).concat(function(a){var m={};m[b]=ca(a);v(c.node,m)}))}function b(c){var a=v(c.node,\"xlink:href\");a&&\"#\"==a.charAt()&&(a=a.substring(1))&&(f[a]=(f[a]||[]).concat(function(a){c.attr(\"xlink:href\",\"#\"+a)}))}var e=c.selectAll(\"*\"),h,d=/^\\s*url\\((\"|'|)(.*)\\1\\)\\s*$/;c=[];for(var f={},l=0,E=e.length;l<E;l++){h=e[l];a(h,\"fill\");a(h,\"stroke\");a(h,\"filter\");a(h,\"mask\");a(h,\"clip-path\");b(h);var t=v(h.node,\r\n",
       "\"id\");t&&(v(h.node,{id:h.id}),c.push({old:t,id:h.id}))}l=0;for(E=c.length;l<E;l++)if(e=f[c[l].old])for(h=0,t=e.length;h<t;h++)e[h](c[l].id)}function e(c,a,b){return function(m){m=m.slice(c,a);1==m.length&&(m=m[0]);return b?b(m):m}}function d(c){return function(){var a=c?\"<\"+this.type:\"\",b=this.node.attributes,m=this.node.childNodes;if(c)for(var e=0,h=b.length;e<h;e++)a+=\" \"+b[e].name+'=\"'+b[e].value.replace(/\"/g,'\\\\\"')+'\"';if(m.length){c&&(a+=\">\");e=0;for(h=m.length;e<h;e++)3==m[e].nodeType?a+=m[e].nodeValue:\r\n",
       "1==m[e].nodeType&&(a+=x(m[e]).toString());c&&(a+=\"</\"+this.type+\">\")}else c&&(a+=\"/>\");return a}}c.attr=function(c,a){if(!c)return this;if(y(c,\"string\"))if(1<arguments.length){var b={};b[c]=a;c=b}else return k(\"snap.util.getattr.\"+c,this).firstDefined();for(var m in c)c[h](m)&&k(\"snap.util.attr.\"+m,this,c[m]);return this};c.getBBox=function(c){if(!a.Matrix||!a.path)return this.node.getBBox();var b=this,m=new a.Matrix;if(b.removed)return a._.box();for(;\"use\"==b.type;)if(c||(m=m.add(b.transform().localMatrix.translate(b.attr(\"x\")||\r\n",
       "0,b.attr(\"y\")||0))),b.original)b=b.original;else var e=b.attr(\"xlink:href\"),b=b.original=b.node.ownerDocument.getElementById(e.substring(e.indexOf(\"#\")+1));var e=b._,h=a.path.get[b.type]||a.path.get.deflt;try{if(c)return e.bboxwt=h?a.path.getBBox(b.realPath=h(b)):a._.box(b.node.getBBox()),a._.box(e.bboxwt);b.realPath=h(b);b.matrix=b.transform().localMatrix;e.bbox=a.path.getBBox(a.path.map(b.realPath,m.add(b.matrix)));return a._.box(e.bbox)}catch(d){return a._.box()}};var f=function(){return this.string};\r\n",
       "c.transform=function(c){var b=this._;if(null==c){var m=this;c=new a.Matrix(this.node.getCTM());for(var e=n(this),h=[e],d=new a.Matrix,l=e.toTransformString(),b=J(e)==J(this.matrix)?J(b.transform):l;\"svg\"!=m.type&&(m=m.parent());)h.push(n(m));for(m=h.length;m--;)d.add(h[m]);return{string:b,globalMatrix:c,totalMatrix:d,localMatrix:e,diffMatrix:c.clone().add(e.invert()),global:c.toTransformString(),total:d.toTransformString(),local:l,toString:f}}c instanceof a.Matrix?this.matrix=c:n(this,c);this.node&&\r\n",
       "(\"linearGradient\"==this.type||\"radialGradient\"==this.type?v(this.node,{gradientTransform:this.matrix}):\"pattern\"==this.type?v(this.node,{patternTransform:this.matrix}):v(this.node,{transform:this.matrix}));return this};c.parent=function(){return x(this.node.parentNode)};c.append=c.add=function(c){if(c){if(\"set\"==c.type){var a=this;c.forEach(function(c){a.add(c)});return this}c=x(c);this.node.appendChild(c.node);c.paper=this.paper}return this};c.appendTo=function(c){c&&(c=x(c),c.append(this));return this};\r\n",
       "c.prepend=function(c){if(c){if(\"set\"==c.type){var a=this,b;c.forEach(function(c){b?b.after(c):a.prepend(c);b=c});return this}c=x(c);var m=c.parent();this.node.insertBefore(c.node,this.node.firstChild);this.add&&this.add();c.paper=this.paper;this.parent()&&this.parent().add();m&&m.add()}return this};c.prependTo=function(c){c=x(c);c.prepend(this);return this};c.before=function(c){if(\"set\"==c.type){var a=this;c.forEach(function(c){var b=c.parent();a.node.parentNode.insertBefore(c.node,a.node);b&&b.add()});\r\n",
       "this.parent().add();return this}c=x(c);var b=c.parent();this.node.parentNode.insertBefore(c.node,this.node);this.parent()&&this.parent().add();b&&b.add();c.paper=this.paper;return this};c.after=function(c){c=x(c);var a=c.parent();this.node.nextSibling?this.node.parentNode.insertBefore(c.node,this.node.nextSibling):this.node.parentNode.appendChild(c.node);this.parent()&&this.parent().add();a&&a.add();c.paper=this.paper;return this};c.insertBefore=function(c){c=x(c);var a=this.parent();c.node.parentNode.insertBefore(this.node,\r\n",
       "c.node);this.paper=c.paper;a&&a.add();c.parent()&&c.parent().add();return this};c.insertAfter=function(c){c=x(c);var a=this.parent();c.node.parentNode.insertBefore(this.node,c.node.nextSibling);this.paper=c.paper;a&&a.add();c.parent()&&c.parent().add();return this};c.remove=function(){var c=this.parent();this.node.parentNode&&this.node.parentNode.removeChild(this.node);delete this.paper;this.removed=!0;c&&c.add();return this};c.select=function(c){return x(this.node.querySelector(c))};c.selectAll=\r\n",
       "function(c){c=this.node.querySelectorAll(c);for(var b=(a.set||Array)(),m=0;m<c.length;m++)b.push(x(c[m]));return b};c.asPX=function(c,a){null==a&&(a=this.attr(c));return+b(this,c,a)};c.use=function(){var c,a=this.node.id;a||(a=this.id,v(this.node,{id:a}));c=\"linearGradient\"==this.type||\"radialGradient\"==this.type||\"pattern\"==this.type?r(this.type,this.node.parentNode):r(\"use\",this.node.parentNode);v(c.node,{\"xlink:href\":\"#\"+a});c.original=this;return c};var l=/\\S+/g;c.addClass=function(c){var a=(c||\r\n",
       "\"\").match(l)||[];c=this.node;var b=c.className.baseVal,m=b.match(l)||[],e,h,d;if(a.length){for(e=0;d=a[e++];)h=m.indexOf(d),~h||m.push(d);a=m.join(\" \");b!=a&&(c.className.baseVal=a)}return this};c.removeClass=function(c){var a=(c||\"\").match(l)||[];c=this.node;var b=c.className.baseVal,m=b.match(l)||[],e,h;if(m.length){for(e=0;h=a[e++];)h=m.indexOf(h),~h&&m.splice(h,1);a=m.join(\" \");b!=a&&(c.className.baseVal=a)}return this};c.hasClass=function(c){return!!~(this.node.className.baseVal.match(l)||[]).indexOf(c)};\r\n",
       "c.toggleClass=function(c,a){if(null!=a)return a?this.addClass(c):this.removeClass(c);var b=(c||\"\").match(l)||[],m=this.node,e=m.className.baseVal,h=e.match(l)||[],d,f,E;for(d=0;E=b[d++];)f=h.indexOf(E),~f?h.splice(f,1):h.push(E);b=h.join(\" \");e!=b&&(m.className.baseVal=b);return this};c.clone=function(){var c=x(this.node.cloneNode(!0));v(c.node,\"id\")&&v(c.node,{id:c.id});m(c);c.insertAfter(this);return c};c.toDefs=function(){u(this).appendChild(this.node);return this};c.pattern=c.toPattern=function(c,\r\n",
       "a,b,m){var e=r(\"pattern\",u(this));null==c&&(c=this.getBBox());y(c,\"object\")&&\"x\"in c&&(a=c.y,b=c.width,m=c.height,c=c.x);v(e.node,{x:c,y:a,width:b,height:m,patternUnits:\"userSpaceOnUse\",id:e.id,viewBox:[c,a,b,m].join(\" \")});e.node.appendChild(this.node);return e};c.marker=function(c,a,b,m,e,h){var d=r(\"marker\",u(this));null==c&&(c=this.getBBox());y(c,\"object\")&&\"x\"in c&&(a=c.y,b=c.width,m=c.height,e=c.refX||c.cx,h=c.refY||c.cy,c=c.x);v(d.node,{viewBox:[c,a,b,m].join(\" \"),markerWidth:b,markerHeight:m,\r\n",
       "orient:\"auto\",refX:e||0,refY:h||0,id:d.id});d.node.appendChild(this.node);return d};var E=function(c,a,b,m){\"function\"!=typeof b||b.length||(m=b,b=L.linear);this.attr=c;this.dur=a;b&&(this.easing=b);m&&(this.callback=m)};a._.Animation=E;a.animation=function(c,a,b,m){return new E(c,a,b,m)};c.inAnim=function(){var c=[],a;for(a in this.anims)this.anims[h](a)&&function(a){c.push({anim:new E(a._attrs,a.dur,a.easing,a._callback),mina:a,curStatus:a.status(),status:function(c){return a.status(c)},stop:function(){a.stop()}})}(this.anims[a]);\r\n",
       "return c};a.animate=function(c,a,b,m,e,h){\"function\"!=typeof e||e.length||(h=e,e=L.linear);var d=L.time();c=L(c,a,d,d+m,L.time,b,e);h&&k.once(\"mina.finish.\"+c.id,h);return c};c.stop=function(){for(var c=this.inAnim(),a=0,b=c.length;a<b;a++)c[a].stop();return this};c.animate=function(c,a,b,m){\"function\"!=typeof b||b.length||(m=b,b=L.linear);c instanceof E&&(m=c.callback,b=c.easing,a=b.dur,c=c.attr);var d=[],f=[],l={},t,ca,n,T=this,q;for(q in c)if(c[h](q)){T.equal?(n=T.equal(q,J(c[q])),t=n.from,ca=\r\n",
       "n.to,n=n.f):(t=+T.attr(q),ca=+c[q]);var la=y(t,\"array\")?t.length:1;l[q]=e(d.length,d.length+la,n);d=d.concat(t);f=f.concat(ca)}t=L.time();var p=L(d,f,t,t+a,L.time,function(c){var a={},b;for(b in l)l[h](b)&&(a[b]=l[b](c));T.attr(a)},b);T.anims[p.id]=p;p._attrs=c;p._callback=m;k(\"snap.animcreated.\"+T.id,p);k.once(\"mina.finish.\"+p.id,function(){delete T.anims[p.id];m&&m.call(T)});k.once(\"mina.stop.\"+p.id,function(){delete T.anims[p.id]});return T};var T={};c.data=function(c,b){var m=T[this.id]=T[this.id]||\r\n",
       "{};if(0==arguments.length)return k(\"snap.data.get.\"+this.id,this,m,null),m;if(1==arguments.length){if(a.is(c,\"object\")){for(var e in c)c[h](e)&&this.data(e,c[e]);return this}k(\"snap.data.get.\"+this.id,this,m[c],c);return m[c]}m[c]=b;k(\"snap.data.set.\"+this.id,this,b,c);return this};c.removeData=function(c){null==c?T[this.id]={}:T[this.id]&&delete T[this.id][c];return this};c.outerSVG=c.toString=d(1);c.innerSVG=d()})(e.prototype);a.parse=function(c){var a=G.doc.createDocumentFragment(),b=!0,m=G.doc.createElement(\"div\");\r\n",
       "c=J(c);c.match(/^\\s*<\\s*svg(?:\\s|>)/)||(c=\"<svg>\"+c+\"</svg>\",b=!1);m.innerHTML=c;if(c=m.getElementsByTagName(\"svg\")[0])if(b)a=c;else for(;c.firstChild;)a.appendChild(c.firstChild);m.innerHTML=aa;return new l(a)};l.prototype.select=e.prototype.select;l.prototype.selectAll=e.prototype.selectAll;a.fragment=function(){for(var c=Array.prototype.slice.call(arguments,0),b=G.doc.createDocumentFragment(),m=0,e=c.length;m<e;m++){var h=c[m];h.node&&h.node.nodeType&&b.appendChild(h.node);h.nodeType&&b.appendChild(h);\r\n",
       "\"string\"==typeof h&&b.appendChild(a.parse(h).node)}return new l(b)};a._.make=r;a._.wrap=x;s.prototype.el=function(c,a){var b=r(c,this.node);a&&b.attr(a);return b};k.on(\"snap.util.getattr\",function(){var c=k.nt(),c=c.substring(c.lastIndexOf(\".\")+1),a=c.replace(/[A-Z]/g,function(c){return\"-\"+c.toLowerCase()});return pa[h](a)?this.node.ownerDocument.defaultView.getComputedStyle(this.node,null).getPropertyValue(a):v(this.node,c)});var pa={\"alignment-baseline\":0,\"baseline-shift\":0,clip:0,\"clip-path\":0,\r\n",
       "\"clip-rule\":0,color:0,\"color-interpolation\":0,\"color-interpolation-filters\":0,\"color-profile\":0,\"color-rendering\":0,cursor:0,direction:0,display:0,\"dominant-baseline\":0,\"enable-background\":0,fill:0,\"fill-opacity\":0,\"fill-rule\":0,filter:0,\"flood-color\":0,\"flood-opacity\":0,font:0,\"font-family\":0,\"font-size\":0,\"font-size-adjust\":0,\"font-stretch\":0,\"font-style\":0,\"font-variant\":0,\"font-weight\":0,\"glyph-orientation-horizontal\":0,\"glyph-orientation-vertical\":0,\"image-rendering\":0,kerning:0,\"letter-spacing\":0,\r\n",
       "\"lighting-color\":0,marker:0,\"marker-end\":0,\"marker-mid\":0,\"marker-start\":0,mask:0,opacity:0,overflow:0,\"pointer-events\":0,\"shape-rendering\":0,\"stop-color\":0,\"stop-opacity\":0,stroke:0,\"stroke-dasharray\":0,\"stroke-dashoffset\":0,\"stroke-linecap\":0,\"stroke-linejoin\":0,\"stroke-miterlimit\":0,\"stroke-opacity\":0,\"stroke-width\":0,\"text-anchor\":0,\"text-decoration\":0,\"text-rendering\":0,\"unicode-bidi\":0,visibility:0,\"word-spacing\":0,\"writing-mode\":0};k.on(\"snap.util.attr\",function(c){var a=k.nt(),b={},a=a.substring(a.lastIndexOf(\".\")+\r\n",
       "1);b[a]=c;var m=a.replace(/-(\\w)/gi,function(c,a){return a.toUpperCase()}),a=a.replace(/[A-Z]/g,function(c){return\"-\"+c.toLowerCase()});pa[h](a)?this.node.style[m]=null==c?aa:c:v(this.node,b)});a.ajax=function(c,a,b,m){var e=new XMLHttpRequest,h=V();if(e){if(y(a,\"function\"))m=b,b=a,a=null;else if(y(a,\"object\")){var d=[],f;for(f in a)a.hasOwnProperty(f)&&d.push(encodeURIComponent(f)+\"=\"+encodeURIComponent(a[f]));a=d.join(\"&\")}e.open(a?\"POST\":\"GET\",c,!0);a&&(e.setRequestHeader(\"X-Requested-With\",\"XMLHttpRequest\"),\r\n",
       "e.setRequestHeader(\"Content-type\",\"application/x-www-form-urlencoded\"));b&&(k.once(\"snap.ajax.\"+h+\".0\",b),k.once(\"snap.ajax.\"+h+\".200\",b),k.once(\"snap.ajax.\"+h+\".304\",b));e.onreadystatechange=function(){4==e.readyState&&k(\"snap.ajax.\"+h+\".\"+e.status,m,e)};if(4==e.readyState)return e;e.send(a);return e}};a.load=function(c,b,m){a.ajax(c,function(c){c=a.parse(c.responseText);m?b.call(m,c):b(c)})};a.getElementByPoint=function(c,a){var b,m,e=G.doc.elementFromPoint(c,a);if(G.win.opera&&\"svg\"==e.tagName){b=\r\n",
       "e;m=b.getBoundingClientRect();b=b.ownerDocument;var h=b.body,d=b.documentElement;b=m.top+(g.win.pageYOffset||d.scrollTop||h.scrollTop)-(d.clientTop||h.clientTop||0);m=m.left+(g.win.pageXOffset||d.scrollLeft||h.scrollLeft)-(d.clientLeft||h.clientLeft||0);h=e.createSVGRect();h.x=c-m;h.y=a-b;h.width=h.height=1;b=e.getIntersectionList(h,null);b.length&&(e=b[b.length-1])}return e?x(e):null};a.plugin=function(c){c(a,e,s,G,l)};return G.win.Snap=a}();C.plugin(function(a,k,y,M,A){function w(a,d,f,b,q,e){null==\r\n",
       "d&&\"[object SVGMatrix]\"==z.call(a)?(this.a=a.a,this.b=a.b,this.c=a.c,this.d=a.d,this.e=a.e,this.f=a.f):null!=a?(this.a=+a,this.b=+d,this.c=+f,this.d=+b,this.e=+q,this.f=+e):(this.a=1,this.c=this.b=0,this.d=1,this.f=this.e=0)}var z=Object.prototype.toString,d=String,f=Math;(function(n){function k(a){return a[0]*a[0]+a[1]*a[1]}function p(a){var d=f.sqrt(k(a));a[0]&&(a[0]/=d);a[1]&&(a[1]/=d)}n.add=function(a,d,e,f,n,p){var k=[[],[],[] ],u=[[this.a,this.c,this.e],[this.b,this.d,this.f],[0,0,1] ];d=[[a,\r\n",
       "e,n],[d,f,p],[0,0,1] ];a&&a instanceof w&&(d=[[a.a,a.c,a.e],[a.b,a.d,a.f],[0,0,1] ]);for(a=0;3>a;a++)for(e=0;3>e;e++){for(f=n=0;3>f;f++)n+=u[a][f]*d[f][e];k[a][e]=n}this.a=k[0][0];this.b=k[1][0];this.c=k[0][1];this.d=k[1][1];this.e=k[0][2];this.f=k[1][2];return this};n.invert=function(){var a=this.a*this.d-this.b*this.c;return new w(this.d/a,-this.b/a,-this.c/a,this.a/a,(this.c*this.f-this.d*this.e)/a,(this.b*this.e-this.a*this.f)/a)};n.clone=function(){return new w(this.a,this.b,this.c,this.d,this.e,\r\n",
       "this.f)};n.translate=function(a,d){return this.add(1,0,0,1,a,d)};n.scale=function(a,d,e,f){null==d&&(d=a);(e||f)&&this.add(1,0,0,1,e,f);this.add(a,0,0,d,0,0);(e||f)&&this.add(1,0,0,1,-e,-f);return this};n.rotate=function(b,d,e){b=a.rad(b);d=d||0;e=e||0;var l=+f.cos(b).toFixed(9);b=+f.sin(b).toFixed(9);this.add(l,b,-b,l,d,e);return this.add(1,0,0,1,-d,-e)};n.x=function(a,d){return a*this.a+d*this.c+this.e};n.y=function(a,d){return a*this.b+d*this.d+this.f};n.get=function(a){return+this[d.fromCharCode(97+\r\n",
       "a)].toFixed(4)};n.toString=function(){return\"matrix(\"+[this.get(0),this.get(1),this.get(2),this.get(3),this.get(4),this.get(5)].join()+\")\"};n.offset=function(){return[this.e.toFixed(4),this.f.toFixed(4)]};n.determinant=function(){return this.a*this.d-this.b*this.c};n.split=function(){var b={};b.dx=this.e;b.dy=this.f;var d=[[this.a,this.c],[this.b,this.d] ];b.scalex=f.sqrt(k(d[0]));p(d[0]);b.shear=d[0][0]*d[1][0]+d[0][1]*d[1][1];d[1]=[d[1][0]-d[0][0]*b.shear,d[1][1]-d[0][1]*b.shear];b.scaley=f.sqrt(k(d[1]));\r\n",
       "p(d[1]);b.shear/=b.scaley;0>this.determinant()&&(b.scalex=-b.scalex);var e=-d[0][1],d=d[1][1];0>d?(b.rotate=a.deg(f.acos(d)),0>e&&(b.rotate=360-b.rotate)):b.rotate=a.deg(f.asin(e));b.isSimple=!+b.shear.toFixed(9)&&(b.scalex.toFixed(9)==b.scaley.toFixed(9)||!b.rotate);b.isSuperSimple=!+b.shear.toFixed(9)&&b.scalex.toFixed(9)==b.scaley.toFixed(9)&&!b.rotate;b.noRotation=!+b.shear.toFixed(9)&&!b.rotate;return b};n.toTransformString=function(a){a=a||this.split();if(+a.shear.toFixed(9))return\"m\"+[this.get(0),\r\n",
       "this.get(1),this.get(2),this.get(3),this.get(4),this.get(5)];a.scalex=+a.scalex.toFixed(4);a.scaley=+a.scaley.toFixed(4);a.rotate=+a.rotate.toFixed(4);return(a.dx||a.dy?\"t\"+[+a.dx.toFixed(4),+a.dy.toFixed(4)]:\"\")+(1!=a.scalex||1!=a.scaley?\"s\"+[a.scalex,a.scaley,0,0]:\"\")+(a.rotate?\"r\"+[+a.rotate.toFixed(4),0,0]:\"\")}})(w.prototype);a.Matrix=w;a.matrix=function(a,d,f,b,k,e){return new w(a,d,f,b,k,e)}});C.plugin(function(a,v,y,M,A){function w(h){return function(d){k.stop();d instanceof A&&1==d.node.childNodes.length&&\r\n",
       "(\"radialGradient\"==d.node.firstChild.tagName||\"linearGradient\"==d.node.firstChild.tagName||\"pattern\"==d.node.firstChild.tagName)&&(d=d.node.firstChild,b(this).appendChild(d),d=u(d));if(d instanceof v)if(\"radialGradient\"==d.type||\"linearGradient\"==d.type||\"pattern\"==d.type){d.node.id||e(d.node,{id:d.id});var f=l(d.node.id)}else f=d.attr(h);else f=a.color(d),f.error?(f=a(b(this).ownerSVGElement).gradient(d))?(f.node.id||e(f.node,{id:f.id}),f=l(f.node.id)):f=d:f=r(f);d={};d[h]=f;e(this.node,d);this.node.style[h]=\r\n",
       "x}}function z(a){k.stop();a==+a&&(a+=\"px\");this.node.style.fontSize=a}function d(a){var b=[];a=a.childNodes;for(var e=0,f=a.length;e<f;e++){var l=a[e];3==l.nodeType&&b.push(l.nodeValue);\"tspan\"==l.tagName&&(1==l.childNodes.length&&3==l.firstChild.nodeType?b.push(l.firstChild.nodeValue):b.push(d(l)))}return b}function f(){k.stop();return this.node.style.fontSize}var n=a._.make,u=a._.wrap,p=a.is,b=a._.getSomeDefs,q=/^url\\(#?([^)]+)\\)$/,e=a._.$,l=a.url,r=String,s=a._.separator,x=\"\";k.on(\"snap.util.attr.mask\",\r\n",
       "function(a){if(a instanceof v||a instanceof A){k.stop();a instanceof A&&1==a.node.childNodes.length&&(a=a.node.firstChild,b(this).appendChild(a),a=u(a));if(\"mask\"==a.type)var d=a;else d=n(\"mask\",b(this)),d.node.appendChild(a.node);!d.node.id&&e(d.node,{id:d.id});e(this.node,{mask:l(d.id)})}});(function(a){k.on(\"snap.util.attr.clip\",a);k.on(\"snap.util.attr.clip-path\",a);k.on(\"snap.util.attr.clipPath\",a)})(function(a){if(a instanceof v||a instanceof A){k.stop();if(\"clipPath\"==a.type)var d=a;else d=\r\n",
       "n(\"clipPath\",b(this)),d.node.appendChild(a.node),!d.node.id&&e(d.node,{id:d.id});e(this.node,{\"clip-path\":l(d.id)})}});k.on(\"snap.util.attr.fill\",w(\"fill\"));k.on(\"snap.util.attr.stroke\",w(\"stroke\"));var G=/^([lr])(?:\\(([^)]*)\\))?(.*)$/i;k.on(\"snap.util.grad.parse\",function(a){a=r(a);var b=a.match(G);if(!b)return null;a=b[1];var e=b[2],b=b[3],e=e.split(/\\s*,\\s*/).map(function(a){return+a==a?+a:a});1==e.length&&0==e[0]&&(e=[]);b=b.split(\"-\");b=b.map(function(a){a=a.split(\":\");var b={color:a[0]};a[1]&&\r\n",
       "(b.offset=parseFloat(a[1]));return b});return{type:a,params:e,stops:b}});k.on(\"snap.util.attr.d\",function(b){k.stop();p(b,\"array\")&&p(b[0],\"array\")&&(b=a.path.toString.call(b));b=r(b);b.match(/[ruo]/i)&&(b=a.path.toAbsolute(b));e(this.node,{d:b})})(-1);k.on(\"snap.util.attr.#text\",function(a){k.stop();a=r(a);for(a=M.doc.createTextNode(a);this.node.firstChild;)this.node.removeChild(this.node.firstChild);this.node.appendChild(a)})(-1);k.on(\"snap.util.attr.path\",function(a){k.stop();this.attr({d:a})})(-1);\r\n",
       "k.on(\"snap.util.attr.class\",function(a){k.stop();this.node.className.baseVal=a})(-1);k.on(\"snap.util.attr.viewBox\",function(a){a=p(a,\"object\")&&\"x\"in a?[a.x,a.y,a.width,a.height].join(\" \"):p(a,\"array\")?a.join(\" \"):a;e(this.node,{viewBox:a});k.stop()})(-1);k.on(\"snap.util.attr.transform\",function(a){this.transform(a);k.stop()})(-1);k.on(\"snap.util.attr.r\",function(a){\"rect\"==this.type&&(k.stop(),e(this.node,{rx:a,ry:a}))})(-1);k.on(\"snap.util.attr.textpath\",function(a){k.stop();if(\"text\"==this.type){var d,\r\n",
       "f;if(!a&&this.textPath){for(a=this.textPath;a.node.firstChild;)this.node.appendChild(a.node.firstChild);a.remove();delete this.textPath}else if(p(a,\"string\")?(d=b(this),a=u(d.parentNode).path(a),d.appendChild(a.node),d=a.id,a.attr({id:d})):(a=u(a),a instanceof v&&(d=a.attr(\"id\"),d||(d=a.id,a.attr({id:d})))),d)if(a=this.textPath,f=this.node,a)a.attr({\"xlink:href\":\"#\"+d});else{for(a=e(\"textPath\",{\"xlink:href\":\"#\"+d});f.firstChild;)a.appendChild(f.firstChild);f.appendChild(a);this.textPath=u(a)}}})(-1);\r\n",
       "k.on(\"snap.util.attr.text\",function(a){if(\"text\"==this.type){for(var b=this.node,d=function(a){var b=e(\"tspan\");if(p(a,\"array\"))for(var f=0;f<a.length;f++)b.appendChild(d(a[f]));else b.appendChild(M.doc.createTextNode(a));b.normalize&&b.normalize();return b};b.firstChild;)b.removeChild(b.firstChild);for(a=d(a);a.firstChild;)b.appendChild(a.firstChild)}k.stop()})(-1);k.on(\"snap.util.attr.fontSize\",z)(-1);k.on(\"snap.util.attr.font-size\",z)(-1);k.on(\"snap.util.getattr.transform\",function(){k.stop();\r\n",
       "return this.transform()})(-1);k.on(\"snap.util.getattr.textpath\",function(){k.stop();return this.textPath})(-1);(function(){function b(d){return function(){k.stop();var b=M.doc.defaultView.getComputedStyle(this.node,null).getPropertyValue(\"marker-\"+d);return\"none\"==b?b:a(M.doc.getElementById(b.match(q)[1]))}}function d(a){return function(b){k.stop();var d=\"marker\"+a.charAt(0).toUpperCase()+a.substring(1);if(\"\"==b||!b)this.node.style[d]=\"none\";else if(\"marker\"==b.type){var f=b.node.id;f||e(b.node,{id:b.id});\r\n",
       "this.node.style[d]=l(f)}}}k.on(\"snap.util.getattr.marker-end\",b(\"end\"))(-1);k.on(\"snap.util.getattr.markerEnd\",b(\"end\"))(-1);k.on(\"snap.util.getattr.marker-start\",b(\"start\"))(-1);k.on(\"snap.util.getattr.markerStart\",b(\"start\"))(-1);k.on(\"snap.util.getattr.marker-mid\",b(\"mid\"))(-1);k.on(\"snap.util.getattr.markerMid\",b(\"mid\"))(-1);k.on(\"snap.util.attr.marker-end\",d(\"end\"))(-1);k.on(\"snap.util.attr.markerEnd\",d(\"end\"))(-1);k.on(\"snap.util.attr.marker-start\",d(\"start\"))(-1);k.on(\"snap.util.attr.markerStart\",\r\n",
       "d(\"start\"))(-1);k.on(\"snap.util.attr.marker-mid\",d(\"mid\"))(-1);k.on(\"snap.util.attr.markerMid\",d(\"mid\"))(-1)})();k.on(\"snap.util.getattr.r\",function(){if(\"rect\"==this.type&&e(this.node,\"rx\")==e(this.node,\"ry\"))return k.stop(),e(this.node,\"rx\")})(-1);k.on(\"snap.util.getattr.text\",function(){if(\"text\"==this.type||\"tspan\"==this.type){k.stop();var a=d(this.node);return 1==a.length?a[0]:a}})(-1);k.on(\"snap.util.getattr.#text\",function(){return this.node.textContent})(-1);k.on(\"snap.util.getattr.viewBox\",\r\n",
       "function(){k.stop();var b=e(this.node,\"viewBox\");if(b)return b=b.split(s),a._.box(+b[0],+b[1],+b[2],+b[3])})(-1);k.on(\"snap.util.getattr.points\",function(){var a=e(this.node,\"points\");k.stop();if(a)return a.split(s)})(-1);k.on(\"snap.util.getattr.path\",function(){var a=e(this.node,\"d\");k.stop();return a})(-1);k.on(\"snap.util.getattr.class\",function(){return this.node.className.baseVal})(-1);k.on(\"snap.util.getattr.fontSize\",f)(-1);k.on(\"snap.util.getattr.font-size\",f)(-1)});C.plugin(function(a,v,y,\r\n",
       "M,A){function w(a){return a}function z(a){return function(b){return+b.toFixed(3)+a}}var d={\"+\":function(a,b){return a+b},\"-\":function(a,b){return a-b},\"/\":function(a,b){return a/b},\"*\":function(a,b){return a*b}},f=String,n=/[a-z]+$/i,u=/^\\s*([+\\-\\/*])\\s*=\\s*([\\d.eE+\\-]+)\\s*([^\\d\\s]+)?\\s*$/;k.on(\"snap.util.attr\",function(a){if(a=f(a).match(u)){var b=k.nt(),b=b.substring(b.lastIndexOf(\".\")+1),q=this.attr(b),e={};k.stop();var l=a[3]||\"\",r=q.match(n),s=d[a[1] ];r&&r==l?a=s(parseFloat(q),+a[2]):(q=this.asPX(b),\r\n",
       "a=s(this.asPX(b),this.asPX(b,a[2]+l)));isNaN(q)||isNaN(a)||(e[b]=a,this.attr(e))}})(-10);k.on(\"snap.util.equal\",function(a,b){var q=f(this.attr(a)||\"\"),e=f(b).match(u);if(e){k.stop();var l=e[3]||\"\",r=q.match(n),s=d[e[1] ];if(r&&r==l)return{from:parseFloat(q),to:s(parseFloat(q),+e[2]),f:z(r)};q=this.asPX(a);return{from:q,to:s(q,this.asPX(a,e[2]+l)),f:w}}})(-10)});C.plugin(function(a,v,y,M,A){var w=y.prototype,z=a.is;w.rect=function(a,d,k,p,b,q){var e;null==q&&(q=b);z(a,\"object\")&&\"[object Object]\"==\r\n",
       "a?e=a:null!=a&&(e={x:a,y:d,width:k,height:p},null!=b&&(e.rx=b,e.ry=q));return this.el(\"rect\",e)};w.circle=function(a,d,k){var p;z(a,\"object\")&&\"[object Object]\"==a?p=a:null!=a&&(p={cx:a,cy:d,r:k});return this.el(\"circle\",p)};var d=function(){function a(){this.parentNode.removeChild(this)}return function(d,k){var p=M.doc.createElement(\"img\"),b=M.doc.body;p.style.cssText=\"position:absolute;left:-9999em;top:-9999em\";p.onload=function(){k.call(p);p.onload=p.onerror=null;b.removeChild(p)};p.onerror=a;\r\n",
       "b.appendChild(p);p.src=d}}();w.image=function(f,n,k,p,b){var q=this.el(\"image\");if(z(f,\"object\")&&\"src\"in f)q.attr(f);else if(null!=f){var e={\"xlink:href\":f,preserveAspectRatio:\"none\"};null!=n&&null!=k&&(e.x=n,e.y=k);null!=p&&null!=b?(e.width=p,e.height=b):d(f,function(){a._.$(q.node,{width:this.offsetWidth,height:this.offsetHeight})});a._.$(q.node,e)}return q};w.ellipse=function(a,d,k,p){var b;z(a,\"object\")&&\"[object Object]\"==a?b=a:null!=a&&(b={cx:a,cy:d,rx:k,ry:p});return this.el(\"ellipse\",b)};\r\n",
       "w.path=function(a){var d;z(a,\"object\")&&!z(a,\"array\")?d=a:a&&(d={d:a});return this.el(\"path\",d)};w.group=w.g=function(a){var d=this.el(\"g\");1==arguments.length&&a&&!a.type?d.attr(a):arguments.length&&d.add(Array.prototype.slice.call(arguments,0));return d};w.svg=function(a,d,k,p,b,q,e,l){var r={};z(a,\"object\")&&null==d?r=a:(null!=a&&(r.x=a),null!=d&&(r.y=d),null!=k&&(r.width=k),null!=p&&(r.height=p),null!=b&&null!=q&&null!=e&&null!=l&&(r.viewBox=[b,q,e,l]));return this.el(\"svg\",r)};w.mask=function(a){var d=\r\n",
       "this.el(\"mask\");1==arguments.length&&a&&!a.type?d.attr(a):arguments.length&&d.add(Array.prototype.slice.call(arguments,0));return d};w.ptrn=function(a,d,k,p,b,q,e,l){if(z(a,\"object\"))var r=a;else arguments.length?(r={},null!=a&&(r.x=a),null!=d&&(r.y=d),null!=k&&(r.width=k),null!=p&&(r.height=p),null!=b&&null!=q&&null!=e&&null!=l&&(r.viewBox=[b,q,e,l])):r={patternUnits:\"userSpaceOnUse\"};return this.el(\"pattern\",r)};w.use=function(a){return null!=a?(make(\"use\",this.node),a instanceof v&&(a.attr(\"id\")||\r\n",
       "a.attr({id:ID()}),a=a.attr(\"id\")),this.el(\"use\",{\"xlink:href\":a})):v.prototype.use.call(this)};w.text=function(a,d,k){var p={};z(a,\"object\")?p=a:null!=a&&(p={x:a,y:d,text:k||\"\"});return this.el(\"text\",p)};w.line=function(a,d,k,p){var b={};z(a,\"object\")?b=a:null!=a&&(b={x1:a,x2:k,y1:d,y2:p});return this.el(\"line\",b)};w.polyline=function(a){1<arguments.length&&(a=Array.prototype.slice.call(arguments,0));var d={};z(a,\"object\")&&!z(a,\"array\")?d=a:null!=a&&(d={points:a});return this.el(\"polyline\",d)};\r\n",
       "w.polygon=function(a){1<arguments.length&&(a=Array.prototype.slice.call(arguments,0));var d={};z(a,\"object\")&&!z(a,\"array\")?d=a:null!=a&&(d={points:a});return this.el(\"polygon\",d)};(function(){function d(){return this.selectAll(\"stop\")}function n(b,d){var f=e(\"stop\"),k={offset:+d+\"%\"};b=a.color(b);k[\"stop-color\"]=b.hex;1>b.opacity&&(k[\"stop-opacity\"]=b.opacity);e(f,k);this.node.appendChild(f);return this}function u(){if(\"linearGradient\"==this.type){var b=e(this.node,\"x1\")||0,d=e(this.node,\"x2\")||\r\n",
       "1,f=e(this.node,\"y1\")||0,k=e(this.node,\"y2\")||0;return a._.box(b,f,math.abs(d-b),math.abs(k-f))}b=this.node.r||0;return a._.box((this.node.cx||0.5)-b,(this.node.cy||0.5)-b,2*b,2*b)}function p(a,d){function f(a,b){for(var d=(b-u)/(a-w),e=w;e<a;e++)h[e].offset=+(+u+d*(e-w)).toFixed(2);w=a;u=b}var n=k(\"snap.util.grad.parse\",null,d).firstDefined(),p;if(!n)return null;n.params.unshift(a);p=\"l\"==n.type.toLowerCase()?b.apply(0,n.params):q.apply(0,n.params);n.type!=n.type.toLowerCase()&&e(p.node,{gradientUnits:\"userSpaceOnUse\"});\r\n",
       "var h=n.stops,n=h.length,u=0,w=0;n--;for(var v=0;v<n;v++)\"offset\"in h[v]&&f(v,h[v].offset);h[n].offset=h[n].offset||100;f(n,h[n].offset);for(v=0;v<=n;v++){var y=h[v];p.addStop(y.color,y.offset)}return p}function b(b,k,p,q,w){b=a._.make(\"linearGradient\",b);b.stops=d;b.addStop=n;b.getBBox=u;null!=k&&e(b.node,{x1:k,y1:p,x2:q,y2:w});return b}function q(b,k,p,q,w,h){b=a._.make(\"radialGradient\",b);b.stops=d;b.addStop=n;b.getBBox=u;null!=k&&e(b.node,{cx:k,cy:p,r:q});null!=w&&null!=h&&e(b.node,{fx:w,fy:h});\r\n",
       "return b}var e=a._.$;w.gradient=function(a){return p(this.defs,a)};w.gradientLinear=function(a,d,e,f){return b(this.defs,a,d,e,f)};w.gradientRadial=function(a,b,d,e,f){return q(this.defs,a,b,d,e,f)};w.toString=function(){var b=this.node.ownerDocument,d=b.createDocumentFragment(),b=b.createElement(\"div\"),e=this.node.cloneNode(!0);d.appendChild(b);b.appendChild(e);a._.$(e,{xmlns:\"http://www.w3.org/2000/svg\"});b=b.innerHTML;d.removeChild(d.firstChild);return b};w.clear=function(){for(var a=this.node.firstChild,\r\n",
       "b;a;)b=a.nextSibling,\"defs\"!=a.tagName?a.parentNode.removeChild(a):w.clear.call({node:a}),a=b}})()});C.plugin(function(a,k,y,M){function A(a){var b=A.ps=A.ps||{};b[a]?b[a].sleep=100:b[a]={sleep:100};setTimeout(function(){for(var d in b)b[L](d)&&d!=a&&(b[d].sleep--,!b[d].sleep&&delete b[d])});return b[a]}function w(a,b,d,e){null==a&&(a=b=d=e=0);null==b&&(b=a.y,d=a.width,e=a.height,a=a.x);return{x:a,y:b,width:d,w:d,height:e,h:e,x2:a+d,y2:b+e,cx:a+d/2,cy:b+e/2,r1:F.min(d,e)/2,r2:F.max(d,e)/2,r0:F.sqrt(d*\r\n",
       "d+e*e)/2,path:s(a,b,d,e),vb:[a,b,d,e].join(\" \")}}function z(){return this.join(\",\").replace(N,\"$1\")}function d(a){a=C(a);a.toString=z;return a}function f(a,b,d,h,f,k,l,n,p){if(null==p)return e(a,b,d,h,f,k,l,n);if(0>p||e(a,b,d,h,f,k,l,n)<p)p=void 0;else{var q=0.5,O=1-q,s;for(s=e(a,b,d,h,f,k,l,n,O);0.01<Z(s-p);)q/=2,O+=(s<p?1:-1)*q,s=e(a,b,d,h,f,k,l,n,O);p=O}return u(a,b,d,h,f,k,l,n,p)}function n(b,d){function e(a){return+(+a).toFixed(3)}return a._.cacher(function(a,h,l){a instanceof k&&(a=a.attr(\"d\"));\r\n",
       "a=I(a);for(var n,p,D,q,O=\"\",s={},c=0,t=0,r=a.length;t<r;t++){D=a[t];if(\"M\"==D[0])n=+D[1],p=+D[2];else{q=f(n,p,D[1],D[2],D[3],D[4],D[5],D[6]);if(c+q>h){if(d&&!s.start){n=f(n,p,D[1],D[2],D[3],D[4],D[5],D[6],h-c);O+=[\"C\"+e(n.start.x),e(n.start.y),e(n.m.x),e(n.m.y),e(n.x),e(n.y)];if(l)return O;s.start=O;O=[\"M\"+e(n.x),e(n.y)+\"C\"+e(n.n.x),e(n.n.y),e(n.end.x),e(n.end.y),e(D[5]),e(D[6])].join();c+=q;n=+D[5];p=+D[6];continue}if(!b&&!d)return n=f(n,p,D[1],D[2],D[3],D[4],D[5],D[6],h-c)}c+=q;n=+D[5];p=+D[6]}O+=\r\n",
       "D.shift()+D}s.end=O;return n=b?c:d?s:u(n,p,D[0],D[1],D[2],D[3],D[4],D[5],1)},null,a._.clone)}function u(a,b,d,e,h,f,k,l,n){var p=1-n,q=ma(p,3),s=ma(p,2),c=n*n,t=c*n,r=q*a+3*s*n*d+3*p*n*n*h+t*k,q=q*b+3*s*n*e+3*p*n*n*f+t*l,s=a+2*n*(d-a)+c*(h-2*d+a),t=b+2*n*(e-b)+c*(f-2*e+b),x=d+2*n*(h-d)+c*(k-2*h+d),c=e+2*n*(f-e)+c*(l-2*f+e);a=p*a+n*d;b=p*b+n*e;h=p*h+n*k;f=p*f+n*l;l=90-180*F.atan2(s-x,t-c)/S;return{x:r,y:q,m:{x:s,y:t},n:{x:x,y:c},start:{x:a,y:b},end:{x:h,y:f},alpha:l}}function p(b,d,e,h,f,n,k,l){a.is(b,\r\n",
       "\"array\")||(b=[b,d,e,h,f,n,k,l]);b=U.apply(null,b);return w(b.min.x,b.min.y,b.max.x-b.min.x,b.max.y-b.min.y)}function b(a,b,d){return b>=a.x&&b<=a.x+a.width&&d>=a.y&&d<=a.y+a.height}function q(a,d){a=w(a);d=w(d);return b(d,a.x,a.y)||b(d,a.x2,a.y)||b(d,a.x,a.y2)||b(d,a.x2,a.y2)||b(a,d.x,d.y)||b(a,d.x2,d.y)||b(a,d.x,d.y2)||b(a,d.x2,d.y2)||(a.x<d.x2&&a.x>d.x||d.x<a.x2&&d.x>a.x)&&(a.y<d.y2&&a.y>d.y||d.y<a.y2&&d.y>a.y)}function e(a,b,d,e,h,f,n,k,l){null==l&&(l=1);l=(1<l?1:0>l?0:l)/2;for(var p=[-0.1252,\r\n",
       "0.1252,-0.3678,0.3678,-0.5873,0.5873,-0.7699,0.7699,-0.9041,0.9041,-0.9816,0.9816],q=[0.2491,0.2491,0.2335,0.2335,0.2032,0.2032,0.1601,0.1601,0.1069,0.1069,0.0472,0.0472],s=0,c=0;12>c;c++)var t=l*p[c]+l,r=t*(t*(-3*a+9*d-9*h+3*n)+6*a-12*d+6*h)-3*a+3*d,t=t*(t*(-3*b+9*e-9*f+3*k)+6*b-12*e+6*f)-3*b+3*e,s=s+q[c]*F.sqrt(r*r+t*t);return l*s}function l(a,b,d){a=I(a);b=I(b);for(var h,f,l,n,k,s,r,O,x,c,t=d?0:[],w=0,v=a.length;w<v;w++)if(x=a[w],\"M\"==x[0])h=k=x[1],f=s=x[2];else{\"C\"==x[0]?(x=[h,f].concat(x.slice(1)),\r\n",
       "h=x[6],f=x[7]):(x=[h,f,h,f,k,s,k,s],h=k,f=s);for(var G=0,y=b.length;G<y;G++)if(c=b[G],\"M\"==c[0])l=r=c[1],n=O=c[2];else{\"C\"==c[0]?(c=[l,n].concat(c.slice(1)),l=c[6],n=c[7]):(c=[l,n,l,n,r,O,r,O],l=r,n=O);var z;var K=x,B=c;z=d;var H=p(K),J=p(B);if(q(H,J)){for(var H=e.apply(0,K),J=e.apply(0,B),H=~~(H/8),J=~~(J/8),U=[],A=[],F={},M=z?0:[],P=0;P<H+1;P++){var C=u.apply(0,K.concat(P/H));U.push({x:C.x,y:C.y,t:P/H})}for(P=0;P<J+1;P++)C=u.apply(0,B.concat(P/J)),A.push({x:C.x,y:C.y,t:P/J});for(P=0;P<H;P++)for(K=\r\n",
       "0;K<J;K++){var Q=U[P],L=U[P+1],B=A[K],C=A[K+1],N=0.001>Z(L.x-Q.x)?\"y\":\"x\",S=0.001>Z(C.x-B.x)?\"y\":\"x\",R;R=Q.x;var Y=Q.y,V=L.x,ea=L.y,fa=B.x,ga=B.y,ha=C.x,ia=C.y;if(W(R,V)<X(fa,ha)||X(R,V)>W(fa,ha)||W(Y,ea)<X(ga,ia)||X(Y,ea)>W(ga,ia))R=void 0;else{var $=(R*ea-Y*V)*(fa-ha)-(R-V)*(fa*ia-ga*ha),aa=(R*ea-Y*V)*(ga-ia)-(Y-ea)*(fa*ia-ga*ha),ja=(R-V)*(ga-ia)-(Y-ea)*(fa-ha);if(ja){var $=$/ja,aa=aa/ja,ja=+$.toFixed(2),ba=+aa.toFixed(2);R=ja<+X(R,V).toFixed(2)||ja>+W(R,V).toFixed(2)||ja<+X(fa,ha).toFixed(2)||\r\n",
       "ja>+W(fa,ha).toFixed(2)||ba<+X(Y,ea).toFixed(2)||ba>+W(Y,ea).toFixed(2)||ba<+X(ga,ia).toFixed(2)||ba>+W(ga,ia).toFixed(2)?void 0:{x:$,y:aa}}else R=void 0}R&&F[R.x.toFixed(4)]!=R.y.toFixed(4)&&(F[R.x.toFixed(4)]=R.y.toFixed(4),Q=Q.t+Z((R[N]-Q[N])/(L[N]-Q[N]))*(L.t-Q.t),B=B.t+Z((R[S]-B[S])/(C[S]-B[S]))*(C.t-B.t),0<=Q&&1>=Q&&0<=B&&1>=B&&(z?M++:M.push({x:R.x,y:R.y,t1:Q,t2:B})))}z=M}else z=z?0:[];if(d)t+=z;else{H=0;for(J=z.length;H<J;H++)z[H].segment1=w,z[H].segment2=G,z[H].bez1=x,z[H].bez2=c;t=t.concat(z)}}}return t}\r\n",
       "function r(a){var b=A(a);if(b.bbox)return C(b.bbox);if(!a)return w();a=I(a);for(var d=0,e=0,h=[],f=[],l,n=0,k=a.length;n<k;n++)l=a[n],\"M\"==l[0]?(d=l[1],e=l[2],h.push(d),f.push(e)):(d=U(d,e,l[1],l[2],l[3],l[4],l[5],l[6]),h=h.concat(d.min.x,d.max.x),f=f.concat(d.min.y,d.max.y),d=l[5],e=l[6]);a=X.apply(0,h);l=X.apply(0,f);h=W.apply(0,h);f=W.apply(0,f);f=w(a,l,h-a,f-l);b.bbox=C(f);return f}function s(a,b,d,e,h){if(h)return[[\"M\",+a+ +h,b],[\"l\",d-2*h,0],[\"a\",h,h,0,0,1,h,h],[\"l\",0,e-2*h],[\"a\",h,h,0,0,1,\r\n",
       "-h,h],[\"l\",2*h-d,0],[\"a\",h,h,0,0,1,-h,-h],[\"l\",0,2*h-e],[\"a\",h,h,0,0,1,h,-h],[\"z\"] ];a=[[\"M\",a,b],[\"l\",d,0],[\"l\",0,e],[\"l\",-d,0],[\"z\"] ];a.toString=z;return a}function x(a,b,d,e,h){null==h&&null==e&&(e=d);a=+a;b=+b;d=+d;e=+e;if(null!=h){var f=Math.PI/180,l=a+d*Math.cos(-e*f);a+=d*Math.cos(-h*f);var n=b+d*Math.sin(-e*f);b+=d*Math.sin(-h*f);d=[[\"M\",l,n],[\"A\",d,d,0,+(180<h-e),0,a,b] ]}else d=[[\"M\",a,b],[\"m\",0,-e],[\"a\",d,e,0,1,1,0,2*e],[\"a\",d,e,0,1,1,0,-2*e],[\"z\"] ];d.toString=z;return d}function G(b){var e=\r\n",
       "A(b);if(e.abs)return d(e.abs);Q(b,\"array\")&&Q(b&&b[0],\"array\")||(b=a.parsePathString(b));if(!b||!b.length)return[[\"M\",0,0] ];var h=[],f=0,l=0,n=0,k=0,p=0;\"M\"==b[0][0]&&(f=+b[0][1],l=+b[0][2],n=f,k=l,p++,h[0]=[\"M\",f,l]);for(var q=3==b.length&&\"M\"==b[0][0]&&\"R\"==b[1][0].toUpperCase()&&\"Z\"==b[2][0].toUpperCase(),s,r,w=p,c=b.length;w<c;w++){h.push(s=[]);r=b[w];p=r[0];if(p!=p.toUpperCase())switch(s[0]=p.toUpperCase(),s[0]){case \"A\":s[1]=r[1];s[2]=r[2];s[3]=r[3];s[4]=r[4];s[5]=r[5];s[6]=+r[6]+f;s[7]=+r[7]+\r\n",
       "l;break;case \"V\":s[1]=+r[1]+l;break;case \"H\":s[1]=+r[1]+f;break;case \"R\":for(var t=[f,l].concat(r.slice(1)),u=2,v=t.length;u<v;u++)t[u]=+t[u]+f,t[++u]=+t[u]+l;h.pop();h=h.concat(P(t,q));break;case \"O\":h.pop();t=x(f,l,r[1],r[2]);t.push(t[0]);h=h.concat(t);break;case \"U\":h.pop();h=h.concat(x(f,l,r[1],r[2],r[3]));s=[\"U\"].concat(h[h.length-1].slice(-2));break;case \"M\":n=+r[1]+f,k=+r[2]+l;default:for(u=1,v=r.length;u<v;u++)s[u]=+r[u]+(u%2?f:l)}else if(\"R\"==p)t=[f,l].concat(r.slice(1)),h.pop(),h=h.concat(P(t,\r\n",
       "q)),s=[\"R\"].concat(r.slice(-2));else if(\"O\"==p)h.pop(),t=x(f,l,r[1],r[2]),t.push(t[0]),h=h.concat(t);else if(\"U\"==p)h.pop(),h=h.concat(x(f,l,r[1],r[2],r[3])),s=[\"U\"].concat(h[h.length-1].slice(-2));else for(t=0,u=r.length;t<u;t++)s[t]=r[t];p=p.toUpperCase();if(\"O\"!=p)switch(s[0]){case \"Z\":f=+n;l=+k;break;case \"H\":f=s[1];break;case \"V\":l=s[1];break;case \"M\":n=s[s.length-2],k=s[s.length-1];default:f=s[s.length-2],l=s[s.length-1]}}h.toString=z;e.abs=d(h);return h}function h(a,b,d,e){return[a,b,d,e,d,\r\n",
       "e]}function J(a,b,d,e,h,f){var l=1/3,n=2/3;return[l*a+n*d,l*b+n*e,l*h+n*d,l*f+n*e,h,f]}function K(b,d,e,h,f,l,n,k,p,s){var r=120*S/180,q=S/180*(+f||0),c=[],t,x=a._.cacher(function(a,b,c){var d=a*F.cos(c)-b*F.sin(c);a=a*F.sin(c)+b*F.cos(c);return{x:d,y:a}});if(s)v=s[0],t=s[1],l=s[2],u=s[3];else{t=x(b,d,-q);b=t.x;d=t.y;t=x(k,p,-q);k=t.x;p=t.y;F.cos(S/180*f);F.sin(S/180*f);t=(b-k)/2;v=(d-p)/2;u=t*t/(e*e)+v*v/(h*h);1<u&&(u=F.sqrt(u),e*=u,h*=u);var u=e*e,w=h*h,u=(l==n?-1:1)*F.sqrt(Z((u*w-u*v*v-w*t*t)/\r\n",
       "(u*v*v+w*t*t)));l=u*e*v/h+(b+k)/2;var u=u*-h*t/e+(d+p)/2,v=F.asin(((d-u)/h).toFixed(9));t=F.asin(((p-u)/h).toFixed(9));v=b<l?S-v:v;t=k<l?S-t:t;0>v&&(v=2*S+v);0>t&&(t=2*S+t);n&&v>t&&(v-=2*S);!n&&t>v&&(t-=2*S)}if(Z(t-v)>r){var c=t,w=k,G=p;t=v+r*(n&&t>v?1:-1);k=l+e*F.cos(t);p=u+h*F.sin(t);c=K(k,p,e,h,f,0,n,w,G,[t,c,l,u])}l=t-v;f=F.cos(v);r=F.sin(v);n=F.cos(t);t=F.sin(t);l=F.tan(l/4);e=4/3*e*l;l*=4/3*h;h=[b,d];b=[b+e*r,d-l*f];d=[k+e*t,p-l*n];k=[k,p];b[0]=2*h[0]-b[0];b[1]=2*h[1]-b[1];if(s)return[b,d,k].concat(c);\r\n",
       "c=[b,d,k].concat(c).join().split(\",\");s=[];k=0;for(p=c.length;k<p;k++)s[k]=k%2?x(c[k-1],c[k],q).y:x(c[k],c[k+1],q).x;return s}function U(a,b,d,e,h,f,l,k){for(var n=[],p=[[],[] ],s,r,c,t,q=0;2>q;++q)0==q?(r=6*a-12*d+6*h,s=-3*a+9*d-9*h+3*l,c=3*d-3*a):(r=6*b-12*e+6*f,s=-3*b+9*e-9*f+3*k,c=3*e-3*b),1E-12>Z(s)?1E-12>Z(r)||(s=-c/r,0<s&&1>s&&n.push(s)):(t=r*r-4*c*s,c=F.sqrt(t),0>t||(t=(-r+c)/(2*s),0<t&&1>t&&n.push(t),s=(-r-c)/(2*s),0<s&&1>s&&n.push(s)));for(r=q=n.length;q--;)s=n[q],c=1-s,p[0][q]=c*c*c*a+3*\r\n",
       "c*c*s*d+3*c*s*s*h+s*s*s*l,p[1][q]=c*c*c*b+3*c*c*s*e+3*c*s*s*f+s*s*s*k;p[0][r]=a;p[1][r]=b;p[0][r+1]=l;p[1][r+1]=k;p[0].length=p[1].length=r+2;return{min:{x:X.apply(0,p[0]),y:X.apply(0,p[1])},max:{x:W.apply(0,p[0]),y:W.apply(0,p[1])}}}function I(a,b){var e=!b&&A(a);if(!b&&e.curve)return d(e.curve);var f=G(a),l=b&&G(b),n={x:0,y:0,bx:0,by:0,X:0,Y:0,qx:null,qy:null},k={x:0,y:0,bx:0,by:0,X:0,Y:0,qx:null,qy:null},p=function(a,b,c){if(!a)return[\"C\",b.x,b.y,b.x,b.y,b.x,b.y];a[0]in{T:1,Q:1}||(b.qx=b.qy=null);\r\n",
       "switch(a[0]){case \"M\":b.X=a[1];b.Y=a[2];break;case \"A\":a=[\"C\"].concat(K.apply(0,[b.x,b.y].concat(a.slice(1))));break;case \"S\":\"C\"==c||\"S\"==c?(c=2*b.x-b.bx,b=2*b.y-b.by):(c=b.x,b=b.y);a=[\"C\",c,b].concat(a.slice(1));break;case \"T\":\"Q\"==c||\"T\"==c?(b.qx=2*b.x-b.qx,b.qy=2*b.y-b.qy):(b.qx=b.x,b.qy=b.y);a=[\"C\"].concat(J(b.x,b.y,b.qx,b.qy,a[1],a[2]));break;case \"Q\":b.qx=a[1];b.qy=a[2];a=[\"C\"].concat(J(b.x,b.y,a[1],a[2],a[3],a[4]));break;case \"L\":a=[\"C\"].concat(h(b.x,b.y,a[1],a[2]));break;case \"H\":a=[\"C\"].concat(h(b.x,\r\n",
       "b.y,a[1],b.y));break;case \"V\":a=[\"C\"].concat(h(b.x,b.y,b.x,a[1]));break;case \"Z\":a=[\"C\"].concat(h(b.x,b.y,b.X,b.Y))}return a},s=function(a,b){if(7<a[b].length){a[b].shift();for(var c=a[b];c.length;)q[b]=\"A\",l&&(u[b]=\"A\"),a.splice(b++,0,[\"C\"].concat(c.splice(0,6)));a.splice(b,1);v=W(f.length,l&&l.length||0)}},r=function(a,b,c,d,e){a&&b&&\"M\"==a[e][0]&&\"M\"!=b[e][0]&&(b.splice(e,0,[\"M\",d.x,d.y]),c.bx=0,c.by=0,c.x=a[e][1],c.y=a[e][2],v=W(f.length,l&&l.length||0))},q=[],u=[],c=\"\",t=\"\",x=0,v=W(f.length,\r\n",
       "l&&l.length||0);for(;x<v;x++){f[x]&&(c=f[x][0]);\"C\"!=c&&(q[x]=c,x&&(t=q[x-1]));f[x]=p(f[x],n,t);\"A\"!=q[x]&&\"C\"==c&&(q[x]=\"C\");s(f,x);l&&(l[x]&&(c=l[x][0]),\"C\"!=c&&(u[x]=c,x&&(t=u[x-1])),l[x]=p(l[x],k,t),\"A\"!=u[x]&&\"C\"==c&&(u[x]=\"C\"),s(l,x));r(f,l,n,k,x);r(l,f,k,n,x);var w=f[x],z=l&&l[x],y=w.length,U=l&&z.length;n.x=w[y-2];n.y=w[y-1];n.bx=$(w[y-4])||n.x;n.by=$(w[y-3])||n.y;k.bx=l&&($(z[U-4])||k.x);k.by=l&&($(z[U-3])||k.y);k.x=l&&z[U-2];k.y=l&&z[U-1]}l||(e.curve=d(f));return l?[f,l]:f}function P(a,\r\n",
       "b){for(var d=[],e=0,h=a.length;h-2*!b>e;e+=2){var f=[{x:+a[e-2],y:+a[e-1]},{x:+a[e],y:+a[e+1]},{x:+a[e+2],y:+a[e+3]},{x:+a[e+4],y:+a[e+5]}];b?e?h-4==e?f[3]={x:+a[0],y:+a[1]}:h-2==e&&(f[2]={x:+a[0],y:+a[1]},f[3]={x:+a[2],y:+a[3]}):f[0]={x:+a[h-2],y:+a[h-1]}:h-4==e?f[3]=f[2]:e||(f[0]={x:+a[e],y:+a[e+1]});d.push([\"C\",(-f[0].x+6*f[1].x+f[2].x)/6,(-f[0].y+6*f[1].y+f[2].y)/6,(f[1].x+6*f[2].x-f[3].x)/6,(f[1].y+6*f[2].y-f[3].y)/6,f[2].x,f[2].y])}return d}y=k.prototype;var Q=a.is,C=a._.clone,L=\"hasOwnProperty\",\r\n",
       "N=/,?([a-z]),?/gi,$=parseFloat,F=Math,S=F.PI,X=F.min,W=F.max,ma=F.pow,Z=F.abs;M=n(1);var na=n(),ba=n(0,1),V=a._unit2px;a.path=A;a.path.getTotalLength=M;a.path.getPointAtLength=na;a.path.getSubpath=function(a,b,d){if(1E-6>this.getTotalLength(a)-d)return ba(a,b).end;a=ba(a,d,1);return b?ba(a,b).end:a};y.getTotalLength=function(){if(this.node.getTotalLength)return this.node.getTotalLength()};y.getPointAtLength=function(a){return na(this.attr(\"d\"),a)};y.getSubpath=function(b,d){return a.path.getSubpath(this.attr(\"d\"),\r\n",
       "b,d)};a._.box=w;a.path.findDotsAtSegment=u;a.path.bezierBBox=p;a.path.isPointInsideBBox=b;a.path.isBBoxIntersect=q;a.path.intersection=function(a,b){return l(a,b)};a.path.intersectionNumber=function(a,b){return l(a,b,1)};a.path.isPointInside=function(a,d,e){var h=r(a);return b(h,d,e)&&1==l(a,[[\"M\",d,e],[\"H\",h.x2+10] ],1)%2};a.path.getBBox=r;a.path.get={path:function(a){return a.attr(\"path\")},circle:function(a){a=V(a);return x(a.cx,a.cy,a.r)},ellipse:function(a){a=V(a);return x(a.cx||0,a.cy||0,a.rx,\r\n",
       "a.ry)},rect:function(a){a=V(a);return s(a.x||0,a.y||0,a.width,a.height,a.rx,a.ry)},image:function(a){a=V(a);return s(a.x||0,a.y||0,a.width,a.height)},line:function(a){return\"M\"+[a.attr(\"x1\")||0,a.attr(\"y1\")||0,a.attr(\"x2\"),a.attr(\"y2\")]},polyline:function(a){return\"M\"+a.attr(\"points\")},polygon:function(a){return\"M\"+a.attr(\"points\")+\"z\"},deflt:function(a){a=a.node.getBBox();return s(a.x,a.y,a.width,a.height)}};a.path.toRelative=function(b){var e=A(b),h=String.prototype.toLowerCase;if(e.rel)return d(e.rel);\r\n",
       "a.is(b,\"array\")&&a.is(b&&b[0],\"array\")||(b=a.parsePathString(b));var f=[],l=0,n=0,k=0,p=0,s=0;\"M\"==b[0][0]&&(l=b[0][1],n=b[0][2],k=l,p=n,s++,f.push([\"M\",l,n]));for(var r=b.length;s<r;s++){var q=f[s]=[],x=b[s];if(x[0]!=h.call(x[0]))switch(q[0]=h.call(x[0]),q[0]){case \"a\":q[1]=x[1];q[2]=x[2];q[3]=x[3];q[4]=x[4];q[5]=x[5];q[6]=+(x[6]-l).toFixed(3);q[7]=+(x[7]-n).toFixed(3);break;case \"v\":q[1]=+(x[1]-n).toFixed(3);break;case \"m\":k=x[1],p=x[2];default:for(var c=1,t=x.length;c<t;c++)q[c]=+(x[c]-(c%2?l:\r\n",
       "n)).toFixed(3)}else for(f[s]=[],\"m\"==x[0]&&(k=x[1]+l,p=x[2]+n),q=0,c=x.length;q<c;q++)f[s][q]=x[q];x=f[s].length;switch(f[s][0]){case \"z\":l=k;n=p;break;case \"h\":l+=+f[s][x-1];break;case \"v\":n+=+f[s][x-1];break;default:l+=+f[s][x-2],n+=+f[s][x-1]}}f.toString=z;e.rel=d(f);return f};a.path.toAbsolute=G;a.path.toCubic=I;a.path.map=function(a,b){if(!b)return a;var d,e,h,f,l,n,k;a=I(a);h=0;for(l=a.length;h<l;h++)for(k=a[h],f=1,n=k.length;f<n;f+=2)d=b.x(k[f],k[f+1]),e=b.y(k[f],k[f+1]),k[f]=d,k[f+1]=e;return a};\r\n",
       "a.path.toString=z;a.path.clone=d});C.plugin(function(a,v,y,C){var A=Math.max,w=Math.min,z=function(a){this.items=[];this.bindings={};this.length=0;this.type=\"set\";if(a)for(var f=0,n=a.length;f<n;f++)a[f]&&(this[this.items.length]=this.items[this.items.length]=a[f],this.length++)};v=z.prototype;v.push=function(){for(var a,f,n=0,k=arguments.length;n<k;n++)if(a=arguments[n])f=this.items.length,this[f]=this.items[f]=a,this.length++;return this};v.pop=function(){this.length&&delete this[this.length--];\r\n",
       "return this.items.pop()};v.forEach=function(a,f){for(var n=0,k=this.items.length;n<k&&!1!==a.call(f,this.items[n],n);n++);return this};v.animate=function(d,f,n,u){\"function\"!=typeof n||n.length||(u=n,n=L.linear);d instanceof a._.Animation&&(u=d.callback,n=d.easing,f=n.dur,d=d.attr);var p=arguments;if(a.is(d,\"array\")&&a.is(p[p.length-1],\"array\"))var b=!0;var q,e=function(){q?this.b=q:q=this.b},l=0,r=u&&function(){l++==this.length&&u.call(this)};return this.forEach(function(a,l){k.once(\"snap.animcreated.\"+\r\n",
       "a.id,e);b?p[l]&&a.animate.apply(a,p[l]):a.animate(d,f,n,r)})};v.remove=function(){for(;this.length;)this.pop().remove();return this};v.bind=function(a,f,k){var u={};if(\"function\"==typeof f)this.bindings[a]=f;else{var p=k||a;this.bindings[a]=function(a){u[p]=a;f.attr(u)}}return this};v.attr=function(a){var f={},k;for(k in a)if(this.bindings[k])this.bindings[k](a[k]);else f[k]=a[k];a=0;for(k=this.items.length;a<k;a++)this.items[a].attr(f);return this};v.clear=function(){for(;this.length;)this.pop()};\r\n",
       "v.splice=function(a,f,k){a=0>a?A(this.length+a,0):a;f=A(0,w(this.length-a,f));var u=[],p=[],b=[],q;for(q=2;q<arguments.length;q++)b.push(arguments[q]);for(q=0;q<f;q++)p.push(this[a+q]);for(;q<this.length-a;q++)u.push(this[a+q]);var e=b.length;for(q=0;q<e+u.length;q++)this.items[a+q]=this[a+q]=q<e?b[q]:u[q-e];for(q=this.items.length=this.length-=f-e;this[q];)delete this[q++];return new z(p)};v.exclude=function(a){for(var f=0,k=this.length;f<k;f++)if(this[f]==a)return this.splice(f,1),!0;return!1};\r\n",
       "v.insertAfter=function(a){for(var f=this.items.length;f--;)this.items[f].insertAfter(a);return this};v.getBBox=function(){for(var a=[],f=[],k=[],u=[],p=this.items.length;p--;)if(!this.items[p].removed){var b=this.items[p].getBBox();a.push(b.x);f.push(b.y);k.push(b.x+b.width);u.push(b.y+b.height)}a=w.apply(0,a);f=w.apply(0,f);k=A.apply(0,k);u=A.apply(0,u);return{x:a,y:f,x2:k,y2:u,width:k-a,height:u-f,cx:a+(k-a)/2,cy:f+(u-f)/2}};v.clone=function(a){a=new z;for(var f=0,k=this.items.length;f<k;f++)a.push(this.items[f].clone());\r\n",
       "return a};v.toString=function(){return\"Snap\\u2018s set\"};v.type=\"set\";a.set=function(){var a=new z;arguments.length&&a.push.apply(a,Array.prototype.slice.call(arguments,0));return a}});C.plugin(function(a,v,y,C){function A(a){var b=a[0];switch(b.toLowerCase()){case \"t\":return[b,0,0];case \"m\":return[b,1,0,0,1,0,0];case \"r\":return 4==a.length?[b,0,a[2],a[3] ]:[b,0];case \"s\":return 5==a.length?[b,1,1,a[3],a[4] ]:3==a.length?[b,1,1]:[b,1]}}function w(b,d,f){d=q(d).replace(/\\.{3}|\\u2026/g,b);b=a.parseTransformString(b)||\r\n",
       "[];d=a.parseTransformString(d)||[];for(var k=Math.max(b.length,d.length),p=[],v=[],h=0,w,z,y,I;h<k;h++){y=b[h]||A(d[h]);I=d[h]||A(y);if(y[0]!=I[0]||\"r\"==y[0].toLowerCase()&&(y[2]!=I[2]||y[3]!=I[3])||\"s\"==y[0].toLowerCase()&&(y[3]!=I[3]||y[4]!=I[4])){b=a._.transform2matrix(b,f());d=a._.transform2matrix(d,f());p=[[\"m\",b.a,b.b,b.c,b.d,b.e,b.f] ];v=[[\"m\",d.a,d.b,d.c,d.d,d.e,d.f] ];break}p[h]=[];v[h]=[];w=0;for(z=Math.max(y.length,I.length);w<z;w++)w in y&&(p[h][w]=y[w]),w in I&&(v[h][w]=I[w])}return{from:u(p),\r\n",
       "to:u(v),f:n(p)}}function z(a){return a}function d(a){return function(b){return+b.toFixed(3)+a}}function f(b){return a.rgb(b[0],b[1],b[2])}function n(a){var b=0,d,f,k,n,h,p,q=[];d=0;for(f=a.length;d<f;d++){h=\"[\";p=['\"'+a[d][0]+'\"'];k=1;for(n=a[d].length;k<n;k++)p[k]=\"val[\"+b++ +\"]\";h+=p+\"]\";q[d]=h}return Function(\"val\",\"return Snap.path.toString.call([\"+q+\"])\")}function u(a){for(var b=[],d=0,f=a.length;d<f;d++)for(var k=1,n=a[d].length;k<n;k++)b.push(a[d][k]);return b}var p={},b=/[a-z]+$/i,q=String;\r\n",
       "p.stroke=p.fill=\"colour\";v.prototype.equal=function(a,b){return k(\"snap.util.equal\",this,a,b).firstDefined()};k.on(\"snap.util.equal\",function(e,k){var r,s;r=q(this.attr(e)||\"\");var x=this;if(r==+r&&k==+k)return{from:+r,to:+k,f:z};if(\"colour\"==p[e])return r=a.color(r),s=a.color(k),{from:[r.r,r.g,r.b,r.opacity],to:[s.r,s.g,s.b,s.opacity],f:f};if(\"transform\"==e||\"gradientTransform\"==e||\"patternTransform\"==e)return k instanceof a.Matrix&&(k=k.toTransformString()),a._.rgTransform.test(k)||(k=a._.svgTransform2string(k)),\r\n",
       "w(r,k,function(){return x.getBBox(1)});if(\"d\"==e||\"path\"==e)return r=a.path.toCubic(r,k),{from:u(r[0]),to:u(r[1]),f:n(r[0])};if(\"points\"==e)return r=q(r).split(a._.separator),s=q(k).split(a._.separator),{from:r,to:s,f:function(a){return a}};aUnit=r.match(b);s=q(k).match(b);return aUnit&&aUnit==s?{from:parseFloat(r),to:parseFloat(k),f:d(aUnit)}:{from:this.asPX(e),to:this.asPX(e,k),f:z}})});C.plugin(function(a,v,y,C){var A=v.prototype,w=\"createTouch\"in C.doc;v=\"click dblclick mousedown mousemove mouseout mouseover mouseup touchstart touchmove touchend touchcancel\".split(\" \");\r\n",
       "var z={mousedown:\"touchstart\",mousemove:\"touchmove\",mouseup:\"touchend\"},d=function(a,b){var d=\"y\"==a?\"scrollTop\":\"scrollLeft\",e=b&&b.node?b.node.ownerDocument:C.doc;return e[d in e.documentElement?\"documentElement\":\"body\"][d]},f=function(){this.returnValue=!1},n=function(){return this.originalEvent.preventDefault()},u=function(){this.cancelBubble=!0},p=function(){return this.originalEvent.stopPropagation()},b=function(){if(C.doc.addEventListener)return function(a,b,e,f){var k=w&&z[b]?z[b]:b,l=function(k){var l=\r\n",
       "d(\"y\",f),q=d(\"x\",f);if(w&&z.hasOwnProperty(b))for(var r=0,u=k.targetTouches&&k.targetTouches.length;r<u;r++)if(k.targetTouches[r].target==a||a.contains(k.targetTouches[r].target)){u=k;k=k.targetTouches[r];k.originalEvent=u;k.preventDefault=n;k.stopPropagation=p;break}return e.call(f,k,k.clientX+q,k.clientY+l)};b!==k&&a.addEventListener(b,l,!1);a.addEventListener(k,l,!1);return function(){b!==k&&a.removeEventListener(b,l,!1);a.removeEventListener(k,l,!1);return!0}};if(C.doc.attachEvent)return function(a,\r\n",
       "b,e,h){var k=function(a){a=a||h.node.ownerDocument.window.event;var b=d(\"y\",h),k=d(\"x\",h),k=a.clientX+k,b=a.clientY+b;a.preventDefault=a.preventDefault||f;a.stopPropagation=a.stopPropagation||u;return e.call(h,a,k,b)};a.attachEvent(\"on\"+b,k);return function(){a.detachEvent(\"on\"+b,k);return!0}}}(),q=[],e=function(a){for(var b=a.clientX,e=a.clientY,f=d(\"y\"),l=d(\"x\"),n,p=q.length;p--;){n=q[p];if(w)for(var r=a.touches&&a.touches.length,u;r--;){if(u=a.touches[r],u.identifier==n.el._drag.id||n.el.node.contains(u.target)){b=\r\n",
       "u.clientX;e=u.clientY;(a.originalEvent?a.originalEvent:a).preventDefault();break}}else a.preventDefault();b+=l;e+=f;k(\"snap.drag.move.\"+n.el.id,n.move_scope||n.el,b-n.el._drag.x,e-n.el._drag.y,b,e,a)}},l=function(b){a.unmousemove(e).unmouseup(l);for(var d=q.length,f;d--;)f=q[d],f.el._drag={},k(\"snap.drag.end.\"+f.el.id,f.end_scope||f.start_scope||f.move_scope||f.el,b);q=[]};for(y=v.length;y--;)(function(d){a[d]=A[d]=function(e,f){a.is(e,\"function\")&&(this.events=this.events||[],this.events.push({name:d,\r\n",
       "f:e,unbind:b(this.node||document,d,e,f||this)}));return this};a[\"un\"+d]=A[\"un\"+d]=function(a){for(var b=this.events||[],e=b.length;e--;)if(b[e].name==d&&(b[e].f==a||!a)){b[e].unbind();b.splice(e,1);!b.length&&delete this.events;break}return this}})(v[y]);A.hover=function(a,b,d,e){return this.mouseover(a,d).mouseout(b,e||d)};A.unhover=function(a,b){return this.unmouseover(a).unmouseout(b)};var r=[];A.drag=function(b,d,f,h,n,p){function u(r,v,w){(r.originalEvent||r).preventDefault();this._drag.x=v;\r\n",
       "this._drag.y=w;this._drag.id=r.identifier;!q.length&&a.mousemove(e).mouseup(l);q.push({el:this,move_scope:h,start_scope:n,end_scope:p});d&&k.on(\"snap.drag.start.\"+this.id,d);b&&k.on(\"snap.drag.move.\"+this.id,b);f&&k.on(\"snap.drag.end.\"+this.id,f);k(\"snap.drag.start.\"+this.id,n||h||this,v,w,r)}if(!arguments.length){var v;return this.drag(function(a,b){this.attr({transform:v+(v?\"T\":\"t\")+[a,b]})},function(){v=this.transform().local})}this._drag={};r.push({el:this,start:u});this.mousedown(u);return this};\r\n",
       "A.undrag=function(){for(var b=r.length;b--;)r[b].el==this&&(this.unmousedown(r[b].start),r.splice(b,1),k.unbind(\"snap.drag.*.\"+this.id));!r.length&&a.unmousemove(e).unmouseup(l);return this}});C.plugin(function(a,v,y,C){y=y.prototype;var A=/^\\s*url\\((.+)\\)/,w=String,z=a._.$;a.filter={};y.filter=function(d){var f=this;\"svg\"!=f.type&&(f=f.paper);d=a.parse(w(d));var k=a._.id(),u=z(\"filter\");z(u,{id:k,filterUnits:\"userSpaceOnUse\"});u.appendChild(d.node);f.defs.appendChild(u);return new v(u)};k.on(\"snap.util.getattr.filter\",\r\n",
       "function(){k.stop();var d=z(this.node,\"filter\");if(d)return(d=w(d).match(A))&&a.select(d[1])});k.on(\"snap.util.attr.filter\",function(d){if(d instanceof v&&\"filter\"==d.type){k.stop();var f=d.node.id;f||(z(d.node,{id:d.id}),f=d.id);z(this.node,{filter:a.url(f)})}d&&\"none\"!=d||(k.stop(),this.node.removeAttribute(\"filter\"))});a.filter.blur=function(d,f){null==d&&(d=2);return a.format('<feGaussianBlur stdDeviation=\"{def}\"/>',{def:null==f?d:[d,f]})};a.filter.blur.toString=function(){return this()};a.filter.shadow=\r\n",
       "function(d,f,k,u,p){\"string\"==typeof k&&(p=u=k,k=4);\"string\"!=typeof u&&(p=u,u=\"#000\");null==k&&(k=4);null==p&&(p=1);null==d&&(d=0,f=2);null==f&&(f=d);u=a.color(u||\"#000\");return a.format('<feGaussianBlur in=\"SourceAlpha\" stdDeviation=\"{blur}\"/><feOffset dx=\"{dx}\" dy=\"{dy}\" result=\"offsetblur\"/><feFlood flood-color=\"{color}\"/><feComposite in2=\"offsetblur\" operator=\"in\"/><feComponentTransfer><feFuncA type=\"linear\" slope=\"{opacity}\"/></feComponentTransfer><feMerge><feMergeNode/><feMergeNode in=\"SourceGraphic\"/></feMerge>',\r\n",
       "{color:u,dx:d,dy:f,blur:k,opacity:p})};a.filter.shadow.toString=function(){return this()};a.filter.grayscale=function(d){null==d&&(d=1);return a.format('<feColorMatrix type=\"matrix\" values=\"{a} {b} {c} 0 0 {d} {e} {f} 0 0 {g} {b} {h} 0 0 0 0 0 1 0\"/>',{a:0.2126+0.7874*(1-d),b:0.7152-0.7152*(1-d),c:0.0722-0.0722*(1-d),d:0.2126-0.2126*(1-d),e:0.7152+0.2848*(1-d),f:0.0722-0.0722*(1-d),g:0.2126-0.2126*(1-d),h:0.0722+0.9278*(1-d)})};a.filter.grayscale.toString=function(){return this()};a.filter.sepia=\r\n",
       "function(d){null==d&&(d=1);return a.format('<feColorMatrix type=\"matrix\" values=\"{a} {b} {c} 0 0 {d} {e} {f} 0 0 {g} {h} {i} 0 0 0 0 0 1 0\"/>',{a:0.393+0.607*(1-d),b:0.769-0.769*(1-d),c:0.189-0.189*(1-d),d:0.349-0.349*(1-d),e:0.686+0.314*(1-d),f:0.168-0.168*(1-d),g:0.272-0.272*(1-d),h:0.534-0.534*(1-d),i:0.131+0.869*(1-d)})};a.filter.sepia.toString=function(){return this()};a.filter.saturate=function(d){null==d&&(d=1);return a.format('<feColorMatrix type=\"saturate\" values=\"{amount}\"/>',{amount:1-\r\n",
       "d})};a.filter.saturate.toString=function(){return this()};a.filter.hueRotate=function(d){return a.format('<feColorMatrix type=\"hueRotate\" values=\"{angle}\"/>',{angle:d||0})};a.filter.hueRotate.toString=function(){return this()};a.filter.invert=function(d){null==d&&(d=1);return a.format('<feComponentTransfer><feFuncR type=\"table\" tableValues=\"{amount} {amount2}\"/><feFuncG type=\"table\" tableValues=\"{amount} {amount2}\"/><feFuncB type=\"table\" tableValues=\"{amount} {amount2}\"/></feComponentTransfer>',{amount:d,\r\n",
       "amount2:1-d})};a.filter.invert.toString=function(){return this()};a.filter.brightness=function(d){null==d&&(d=1);return a.format('<feComponentTransfer><feFuncR type=\"linear\" slope=\"{amount}\"/><feFuncG type=\"linear\" slope=\"{amount}\"/><feFuncB type=\"linear\" slope=\"{amount}\"/></feComponentTransfer>',{amount:d})};a.filter.brightness.toString=function(){return this()};a.filter.contrast=function(d){null==d&&(d=1);return a.format('<feComponentTransfer><feFuncR type=\"linear\" slope=\"{amount}\" intercept=\"{amount2}\"/><feFuncG type=\"linear\" slope=\"{amount}\" intercept=\"{amount2}\"/><feFuncB type=\"linear\" slope=\"{amount}\" intercept=\"{amount2}\"/></feComponentTransfer>',\r\n",
       "{amount:d,amount2:0.5-d/2})};a.filter.contrast.toString=function(){return this()}});return C});\r\n",
       "\n",
       "]]> </script>\n",
       "<script> <![CDATA[\n",
       "\r\n",
       "(function (glob, factory) {\r\n",
       "    // AMD support\r\n",
       "    if (typeof define === \"function\" && define.amd) {\r\n",
       "        // Define as an anonymous module\r\n",
       "        define(\"Gadfly\", [\"Snap.svg\"], function (Snap) {\r\n",
       "            return factory(Snap);\r\n",
       "        });\r\n",
       "    } else {\r\n",
       "        // Browser globals (glob is window)\r\n",
       "        // Snap adds itself to window\r\n",
       "        glob.Gadfly = factory(glob.Snap);\r\n",
       "    }\r\n",
       "}(this, function (Snap) {\r\n",
       "\r\n",
       "var Gadfly = {};\r\n",
       "\r\n",
       "// Get an x/y coordinate value in pixels\r\n",
       "var xPX = function(fig, x) {\r\n",
       "    var client_box = fig.node.getBoundingClientRect();\r\n",
       "    return x * fig.node.viewBox.baseVal.width / client_box.width;\r\n",
       "};\r\n",
       "\r\n",
       "var yPX = function(fig, y) {\r\n",
       "    var client_box = fig.node.getBoundingClientRect();\r\n",
       "    return y * fig.node.viewBox.baseVal.height / client_box.height;\r\n",
       "};\r\n",
       "\r\n",
       "\r\n",
       "Snap.plugin(function (Snap, Element, Paper, global) {\r\n",
       "    // Traverse upwards from a snap element to find and return the first\r\n",
       "    // note with the \"plotroot\" class.\r\n",
       "    Element.prototype.plotroot = function () {\r\n",
       "        var element = this;\r\n",
       "        while (!element.hasClass(\"plotroot\") && element.parent() != null) {\r\n",
       "            element = element.parent();\r\n",
       "        }\r\n",
       "        return element;\r\n",
       "    };\r\n",
       "\r\n",
       "    Element.prototype.svgroot = function () {\r\n",
       "        var element = this;\r\n",
       "        while (element.node.nodeName != \"svg\" && element.parent() != null) {\r\n",
       "            element = element.parent();\r\n",
       "        }\r\n",
       "        return element;\r\n",
       "    };\r\n",
       "\r\n",
       "    Element.prototype.plotbounds = function () {\r\n",
       "        var root = this.plotroot()\r\n",
       "        var bbox = root.select(\".guide.background\").node.getBBox();\r\n",
       "        return {\r\n",
       "            x0: bbox.x,\r\n",
       "            x1: bbox.x + bbox.width,\r\n",
       "            y0: bbox.y,\r\n",
       "            y1: bbox.y + bbox.height\r\n",
       "        };\r\n",
       "    };\r\n",
       "\r\n",
       "    Element.prototype.plotcenter = function () {\r\n",
       "        var root = this.plotroot()\r\n",
       "        var bbox = root.select(\".guide.background\").node.getBBox();\r\n",
       "        return {\r\n",
       "            x: bbox.x + bbox.width / 2,\r\n",
       "            y: bbox.y + bbox.height / 2\r\n",
       "        };\r\n",
       "    };\r\n",
       "\r\n",
       "    // Emulate IE style mouseenter/mouseleave events, since Microsoft always\r\n",
       "    // does everything right.\r\n",
       "    // See: http://www.dynamic-tools.net/toolbox/isMouseLeaveOrEnter/\r\n",
       "    var events = [\"mouseenter\", \"mouseleave\"];\r\n",
       "\r\n",
       "    for (i in events) {\r\n",
       "        (function (event_name) {\r\n",
       "            var event_name = events[i];\r\n",
       "            Element.prototype[event_name] = function (fn, scope) {\r\n",
       "                if (Snap.is(fn, \"function\")) {\r\n",
       "                    var fn2 = function (event) {\r\n",
       "                        if (event.type != \"mouseover\" && event.type != \"mouseout\") {\r\n",
       "                            return;\r\n",
       "                        }\r\n",
       "\r\n",
       "                        var reltg = event.relatedTarget ? event.relatedTarget :\r\n",
       "                            event.type == \"mouseout\" ? event.toElement : event.fromElement;\r\n",
       "                        while (reltg && reltg != this.node) reltg = reltg.parentNode;\r\n",
       "\r\n",
       "                        if (reltg != this.node) {\r\n",
       "                            return fn.apply(this, event);\r\n",
       "                        }\r\n",
       "                    };\r\n",
       "\r\n",
       "                    if (event_name == \"mouseenter\") {\r\n",
       "                        this.mouseover(fn2, scope);\r\n",
       "                    } else {\r\n",
       "                        this.mouseout(fn2, scope);\r\n",
       "                    }\r\n",
       "                }\r\n",
       "                return this;\r\n",
       "            };\r\n",
       "        })(events[i]);\r\n",
       "    }\r\n",
       "\r\n",
       "\r\n",
       "    Element.prototype.mousewheel = function (fn, scope) {\r\n",
       "        if (Snap.is(fn, \"function\")) {\r\n",
       "            var el = this;\r\n",
       "            var fn2 = function (event) {\r\n",
       "                fn.apply(el, [event]);\r\n",
       "            };\r\n",
       "        }\r\n",
       "\r\n",
       "        this.node.addEventListener(\r\n",
       "            /Firefox/i.test(navigator.userAgent) ? \"DOMMouseScroll\" : \"mousewheel\",\r\n",
       "            fn2);\r\n",
       "\r\n",
       "        return this;\r\n",
       "    };\r\n",
       "\r\n",
       "\r\n",
       "    // Snap's attr function can be too slow for things like panning/zooming.\r\n",
       "    // This is a function to directly update element attributes without going\r\n",
       "    // through eve.\r\n",
       "    Element.prototype.attribute = function(key, val) {\r\n",
       "        if (val === undefined) {\r\n",
       "            return this.node.getAttribute(key);\r\n",
       "        } else {\r\n",
       "            this.node.setAttribute(key, val);\r\n",
       "            return this;\r\n",
       "        }\r\n",
       "    };\r\n",
       "\r\n",
       "    Element.prototype.init_gadfly = function() {\r\n",
       "        this.mouseenter(Gadfly.plot_mouseover)\r\n",
       "            .mouseleave(Gadfly.plot_mouseout)\r\n",
       "            .dblclick(Gadfly.plot_dblclick)\r\n",
       "            .mousewheel(Gadfly.guide_background_scroll)\r\n",
       "            .drag(Gadfly.guide_background_drag_onmove,\r\n",
       "                  Gadfly.guide_background_drag_onstart,\r\n",
       "                  Gadfly.guide_background_drag_onend);\r\n",
       "        this.mouseenter(function (event) {\r\n",
       "            init_pan_zoom(this.plotroot());\r\n",
       "        });\r\n",
       "        return this;\r\n",
       "    };\r\n",
       "});\r\n",
       "\r\n",
       "\r\n",
       "// When the plot is moused over, emphasize the grid lines.\r\n",
       "Gadfly.plot_mouseover = function(event) {\r\n",
       "    var root = this.plotroot();\r\n",
       "\r\n",
       "    var keyboard_zoom = function(event) {\r\n",
       "        if (event.which == 187) { // plus\r\n",
       "            increase_zoom_by_position(root, 0.1, true);\r\n",
       "        } else if (event.which == 189) { // minus\r\n",
       "            increase_zoom_by_position(root, -0.1, true);\r\n",
       "        }\r\n",
       "    };\r\n",
       "    root.data(\"keyboard_zoom\", keyboard_zoom);\r\n",
       "    window.addEventListener(\"keyup\", keyboard_zoom);\r\n",
       "\r\n",
       "    var xgridlines = root.select(\".xgridlines\"),\r\n",
       "        ygridlines = root.select(\".ygridlines\");\r\n",
       "\r\n",
       "    xgridlines.data(\"unfocused_strokedash\",\r\n",
       "                    xgridlines.attribute(\"stroke-dasharray\").replace(/(\\d)(,|$)/g, \"$1mm$2\"));\r\n",
       "    ygridlines.data(\"unfocused_strokedash\",\r\n",
       "                    ygridlines.attribute(\"stroke-dasharray\").replace(/(\\d)(,|$)/g, \"$1mm$2\"));\r\n",
       "\r\n",
       "    // emphasize grid lines\r\n",
       "    var destcolor = root.data(\"focused_xgrid_color\");\r\n",
       "    xgridlines.attribute(\"stroke-dasharray\", \"none\")\r\n",
       "              .selectAll(\"path\")\r\n",
       "              .animate({stroke: destcolor}, 250);\r\n",
       "\r\n",
       "    destcolor = root.data(\"focused_ygrid_color\");\r\n",
       "    ygridlines.attribute(\"stroke-dasharray\", \"none\")\r\n",
       "              .selectAll(\"path\")\r\n",
       "              .animate({stroke: destcolor}, 250);\r\n",
       "\r\n",
       "    // reveal zoom slider\r\n",
       "    root.select(\".zoomslider\")\r\n",
       "        .animate({opacity: 1.0}, 250);\r\n",
       "};\r\n",
       "\r\n",
       "// Reset pan and zoom on double click\r\n",
       "Gadfly.plot_dblclick = function(event) {\r\n",
       "  set_plot_pan_zoom(this.plotroot(), 0.0, 0.0, 1.0);\r\n",
       "};\r\n",
       "\r\n",
       "// Unemphasize grid lines on mouse out.\r\n",
       "Gadfly.plot_mouseout = function(event) {\r\n",
       "    var root = this.plotroot();\r\n",
       "\r\n",
       "    window.removeEventListener(\"keyup\", root.data(\"keyboard_zoom\"));\r\n",
       "    root.data(\"keyboard_zoom\", undefined);\r\n",
       "\r\n",
       "    var xgridlines = root.select(\".xgridlines\"),\r\n",
       "        ygridlines = root.select(\".ygridlines\");\r\n",
       "\r\n",
       "    var destcolor = root.data(\"unfocused_xgrid_color\");\r\n",
       "\r\n",
       "    xgridlines.attribute(\"stroke-dasharray\", xgridlines.data(\"unfocused_strokedash\"))\r\n",
       "              .selectAll(\"path\")\r\n",
       "              .animate({stroke: destcolor}, 250);\r\n",
       "\r\n",
       "    destcolor = root.data(\"unfocused_ygrid_color\");\r\n",
       "    ygridlines.attribute(\"stroke-dasharray\", ygridlines.data(\"unfocused_strokedash\"))\r\n",
       "              .selectAll(\"path\")\r\n",
       "              .animate({stroke: destcolor}, 250);\r\n",
       "\r\n",
       "    // hide zoom slider\r\n",
       "    root.select(\".zoomslider\")\r\n",
       "        .animate({opacity: 0.0}, 250);\r\n",
       "};\r\n",
       "\r\n",
       "\r\n",
       "var set_geometry_transform = function(root, tx, ty, scale) {\r\n",
       "    var xscalable = root.hasClass(\"xscalable\"),\r\n",
       "        yscalable = root.hasClass(\"yscalable\");\r\n",
       "\r\n",
       "    var old_scale = root.data(\"scale\");\r\n",
       "\r\n",
       "    var xscale = xscalable ? scale : 1.0,\r\n",
       "        yscale = yscalable ? scale : 1.0;\r\n",
       "\r\n",
       "    tx = xscalable ? tx : 0.0;\r\n",
       "    ty = yscalable ? ty : 0.0;\r\n",
       "\r\n",
       "    var t = new Snap.Matrix().translate(tx, ty).scale(xscale, yscale);\r\n",
       "\r\n",
       "    root.selectAll(\".geometry, image\")\r\n",
       "        .forEach(function (element, i) {\r\n",
       "            element.transform(t);\r\n",
       "        });\r\n",
       "\r\n",
       "    bounds = root.plotbounds();\r\n",
       "\r\n",
       "    if (yscalable) {\r\n",
       "        var xfixed_t = new Snap.Matrix().translate(0, ty).scale(1.0, yscale);\r\n",
       "        root.selectAll(\".xfixed\")\r\n",
       "            .forEach(function (element, i) {\r\n",
       "                element.transform(xfixed_t);\r\n",
       "            });\r\n",
       "\r\n",
       "        root.select(\".ylabels\")\r\n",
       "            .transform(xfixed_t)\r\n",
       "            .selectAll(\"text\")\r\n",
       "            .forEach(function (element, i) {\r\n",
       "                if (element.attribute(\"gadfly:inscale\") == \"true\") {\r\n",
       "                    var cx = element.asPX(\"x\"),\r\n",
       "                        cy = element.asPX(\"y\");\r\n",
       "                    var st = element.data(\"static_transform\");\r\n",
       "                    unscale_t = new Snap.Matrix();\r\n",
       "                    unscale_t.scale(1, 1/scale, cx, cy).add(st);\r\n",
       "                    element.transform(unscale_t);\r\n",
       "\r\n",
       "                    var y = cy * scale + ty;\r\n",
       "                    element.attr(\"visibility\",\r\n",
       "                        bounds.y0 <= y && y <= bounds.y1 ? \"visible\" : \"hidden\");\r\n",
       "                }\r\n",
       "            });\r\n",
       "    }\r\n",
       "\r\n",
       "    if (xscalable) {\r\n",
       "        var yfixed_t = new Snap.Matrix().translate(tx, 0).scale(xscale, 1.0);\r\n",
       "        var xtrans = new Snap.Matrix().translate(tx, 0);\r\n",
       "        root.selectAll(\".yfixed\")\r\n",
       "            .forEach(function (element, i) {\r\n",
       "                element.transform(yfixed_t);\r\n",
       "            });\r\n",
       "\r\n",
       "        root.select(\".xlabels\")\r\n",
       "            .transform(yfixed_t)\r\n",
       "            .selectAll(\"text\")\r\n",
       "            .forEach(function (element, i) {\r\n",
       "                if (element.attribute(\"gadfly:inscale\") == \"true\") {\r\n",
       "                    var cx = element.asPX(\"x\"),\r\n",
       "                        cy = element.asPX(\"y\");\r\n",
       "                    var st = element.data(\"static_transform\");\r\n",
       "                    unscale_t = new Snap.Matrix();\r\n",
       "                    unscale_t.scale(1/scale, 1, cx, cy).add(st);\r\n",
       "\r\n",
       "                    element.transform(unscale_t);\r\n",
       "\r\n",
       "                    var x = cx * scale + tx;\r\n",
       "                    element.attr(\"visibility\",\r\n",
       "                        bounds.x0 <= x && x <= bounds.x1 ? \"visible\" : \"hidden\");\r\n",
       "                    }\r\n",
       "            });\r\n",
       "    }\r\n",
       "\r\n",
       "    // we must unscale anything that is scale invariance: widths, raiduses, etc.\r\n",
       "    var size_attribs = [\"font-size\"];\r\n",
       "    var unscaled_selection = \".geometry, .geometry *\";\r\n",
       "    if (xscalable) {\r\n",
       "        size_attribs.push(\"rx\");\r\n",
       "        unscaled_selection += \", .xgridlines\";\r\n",
       "    }\r\n",
       "    if (yscalable) {\r\n",
       "        size_attribs.push(\"ry\");\r\n",
       "        unscaled_selection += \", .ygridlines\";\r\n",
       "    }\r\n",
       "\r\n",
       "    root.selectAll(unscaled_selection)\r\n",
       "        .forEach(function (element, i) {\r\n",
       "            // circle need special help\r\n",
       "            if (element.node.nodeName == \"circle\") {\r\n",
       "                var cx = element.attribute(\"cx\"),\r\n",
       "                    cy = element.attribute(\"cy\");\r\n",
       "                unscale_t = new Snap.Matrix().scale(1/xscale, 1/yscale,\r\n",
       "                                                        cx, cy);\r\n",
       "                element.transform(unscale_t);\r\n",
       "                return;\r\n",
       "            }\r\n",
       "\r\n",
       "            for (i in size_attribs) {\r\n",
       "                var key = size_attribs[i];\r\n",
       "                var val = parseFloat(element.attribute(key));\r\n",
       "                if (val !== undefined && val != 0 && !isNaN(val)) {\r\n",
       "                    element.attribute(key, val * old_scale / scale);\r\n",
       "                }\r\n",
       "            }\r\n",
       "        });\r\n",
       "};\r\n",
       "\r\n",
       "\r\n",
       "// Find the most appropriate tick scale and update label visibility.\r\n",
       "var update_tickscale = function(root, scale, axis) {\r\n",
       "    if (!root.hasClass(axis + \"scalable\")) return;\r\n",
       "\r\n",
       "    var tickscales = root.data(axis + \"tickscales\");\r\n",
       "    var best_tickscale = 1.0;\r\n",
       "    var best_tickscale_dist = Infinity;\r\n",
       "    for (tickscale in tickscales) {\r\n",
       "        var dist = Math.abs(Math.log(tickscale) - Math.log(scale));\r\n",
       "        if (dist < best_tickscale_dist) {\r\n",
       "            best_tickscale_dist = dist;\r\n",
       "            best_tickscale = tickscale;\r\n",
       "        }\r\n",
       "    }\r\n",
       "\r\n",
       "    if (best_tickscale != root.data(axis + \"tickscale\")) {\r\n",
       "        root.data(axis + \"tickscale\", best_tickscale);\r\n",
       "        var mark_inscale_gridlines = function (element, i) {\r\n",
       "            var inscale = element.attr(\"gadfly:scale\") == best_tickscale;\r\n",
       "            element.attribute(\"gadfly:inscale\", inscale);\r\n",
       "            element.attr(\"visibility\", inscale ? \"visible\" : \"hidden\");\r\n",
       "        };\r\n",
       "\r\n",
       "        var mark_inscale_labels = function (element, i) {\r\n",
       "            var inscale = element.attr(\"gadfly:scale\") == best_tickscale;\r\n",
       "            element.attribute(\"gadfly:inscale\", inscale);\r\n",
       "            element.attr(\"visibility\", inscale ? \"visible\" : \"hidden\");\r\n",
       "        };\r\n",
       "\r\n",
       "        root.select(\".\" + axis + \"gridlines\").selectAll(\"path\").forEach(mark_inscale_gridlines);\r\n",
       "        root.select(\".\" + axis + \"labels\").selectAll(\"text\").forEach(mark_inscale_labels);\r\n",
       "    }\r\n",
       "};\r\n",
       "\r\n",
       "\r\n",
       "var set_plot_pan_zoom = function(root, tx, ty, scale) {\r\n",
       "    var old_scale = root.data(\"scale\");\r\n",
       "    var bounds = root.plotbounds();\r\n",
       "\r\n",
       "    var width = bounds.x1 - bounds.x0,\r\n",
       "        height = bounds.y1 - bounds.y0;\r\n",
       "\r\n",
       "    // compute the viewport derived from tx, ty, and scale\r\n",
       "    var x_min = -width * scale - (scale * width - width),\r\n",
       "        x_max = width * scale,\r\n",
       "        y_min = -height * scale - (scale * height - height),\r\n",
       "        y_max = height * scale;\r\n",
       "\r\n",
       "    var x0 = bounds.x0 - scale * bounds.x0,\r\n",
       "        y0 = bounds.y0 - scale * bounds.y0;\r\n",
       "\r\n",
       "    var tx = Math.max(Math.min(tx - x0, x_max), x_min),\r\n",
       "        ty = Math.max(Math.min(ty - y0, y_max), y_min);\r\n",
       "\r\n",
       "    tx += x0;\r\n",
       "    ty += y0;\r\n",
       "\r\n",
       "    // when the scale change, we may need to alter which set of\r\n",
       "    // ticks is being displayed\r\n",
       "    if (scale != old_scale) {\r\n",
       "        update_tickscale(root, scale, \"x\");\r\n",
       "        update_tickscale(root, scale, \"y\");\r\n",
       "    }\r\n",
       "\r\n",
       "    set_geometry_transform(root, tx, ty, scale);\r\n",
       "\r\n",
       "    root.data(\"scale\", scale);\r\n",
       "    root.data(\"tx\", tx);\r\n",
       "    root.data(\"ty\", ty);\r\n",
       "};\r\n",
       "\r\n",
       "\r\n",
       "var scale_centered_translation = function(root, scale) {\r\n",
       "    var bounds = root.plotbounds();\r\n",
       "\r\n",
       "    var width = bounds.x1 - bounds.x0,\r\n",
       "        height = bounds.y1 - bounds.y0;\r\n",
       "\r\n",
       "    var tx0 = root.data(\"tx\"),\r\n",
       "        ty0 = root.data(\"ty\");\r\n",
       "\r\n",
       "    var scale0 = root.data(\"scale\");\r\n",
       "\r\n",
       "    // how off from center the current view is\r\n",
       "    var xoff = tx0 - (bounds.x0 * (1 - scale0) + (width * (1 - scale0)) / 2),\r\n",
       "        yoff = ty0 - (bounds.y0 * (1 - scale0) + (height * (1 - scale0)) / 2);\r\n",
       "\r\n",
       "    // rescale offsets\r\n",
       "    xoff = xoff * scale / scale0;\r\n",
       "    yoff = yoff * scale / scale0;\r\n",
       "\r\n",
       "    // adjust for the panel position being scaled\r\n",
       "    var x_edge_adjust = bounds.x0 * (1 - scale),\r\n",
       "        y_edge_adjust = bounds.y0 * (1 - scale);\r\n",
       "\r\n",
       "    return {\r\n",
       "        x: xoff + x_edge_adjust + (width - width * scale) / 2,\r\n",
       "        y: yoff + y_edge_adjust + (height - height * scale) / 2\r\n",
       "    };\r\n",
       "};\r\n",
       "\r\n",
       "\r\n",
       "// Initialize data for panning zooming if it isn't already.\r\n",
       "var init_pan_zoom = function(root) {\r\n",
       "    if (root.data(\"zoompan-ready\")) {\r\n",
       "        return;\r\n",
       "    }\r\n",
       "\r\n",
       "    // The non-scaling-stroke trick. Rather than try to correct for the\r\n",
       "    // stroke-width when zooming, we force it to a fixed value.\r\n",
       "    var px_per_mm = root.node.getCTM().a;\r\n",
       "\r\n",
       "    // Drag events report deltas in pixels, which we'd like to convert to\r\n",
       "    // millimeters.\r\n",
       "    root.data(\"px_per_mm\", px_per_mm);\r\n",
       "\r\n",
       "    root.selectAll(\"path\")\r\n",
       "        .forEach(function (element, i) {\r\n",
       "        sw = element.asPX(\"stroke-width\") * px_per_mm;\r\n",
       "        if (sw > 0) {\r\n",
       "            element.attribute(\"stroke-width\", sw);\r\n",
       "            element.attribute(\"vector-effect\", \"non-scaling-stroke\");\r\n",
       "        }\r\n",
       "    });\r\n",
       "\r\n",
       "    // Store ticks labels original tranformation\r\n",
       "    root.selectAll(\".xlabels > text, .ylabels > text\")\r\n",
       "        .forEach(function (element, i) {\r\n",
       "            var lm = element.transform().localMatrix;\r\n",
       "            element.data(\"static_transform\",\r\n",
       "                new Snap.Matrix(lm.a, lm.b, lm.c, lm.d, lm.e, lm.f));\r\n",
       "        });\r\n",
       "\r\n",
       "    var xgridlines = root.select(\".xgridlines\");\r\n",
       "    var ygridlines = root.select(\".ygridlines\");\r\n",
       "    var xlabels = root.select(\".xlabels\");\r\n",
       "    var ylabels = root.select(\".ylabels\");\r\n",
       "\r\n",
       "    if (root.data(\"tx\") === undefined) root.data(\"tx\", 0);\r\n",
       "    if (root.data(\"ty\") === undefined) root.data(\"ty\", 0);\r\n",
       "    if (root.data(\"scale\") === undefined) root.data(\"scale\", 1.0);\r\n",
       "    if (root.data(\"xtickscales\") === undefined) {\r\n",
       "\r\n",
       "        // index all the tick scales that are listed\r\n",
       "        var xtickscales = {};\r\n",
       "        var ytickscales = {};\r\n",
       "        var add_x_tick_scales = function (element, i) {\r\n",
       "            xtickscales[element.attribute(\"gadfly:scale\")] = true;\r\n",
       "        };\r\n",
       "        var add_y_tick_scales = function (element, i) {\r\n",
       "            ytickscales[element.attribute(\"gadfly:scale\")] = true;\r\n",
       "        };\r\n",
       "\r\n",
       "        if (xgridlines) xgridlines.selectAll(\"path\").forEach(add_x_tick_scales);\r\n",
       "        if (ygridlines) ygridlines.selectAll(\"path\").forEach(add_y_tick_scales);\r\n",
       "        if (xlabels) xlabels.selectAll(\"text\").forEach(add_x_tick_scales);\r\n",
       "        if (ylabels) ylabels.selectAll(\"text\").forEach(add_y_tick_scales);\r\n",
       "\r\n",
       "        root.data(\"xtickscales\", xtickscales);\r\n",
       "        root.data(\"ytickscales\", ytickscales);\r\n",
       "        root.data(\"xtickscale\", 1.0);\r\n",
       "    }\r\n",
       "\r\n",
       "    var min_scale = 1.0, max_scale = 1.0;\r\n",
       "    for (scale in xtickscales) {\r\n",
       "        min_scale = Math.min(min_scale, scale);\r\n",
       "        max_scale = Math.max(max_scale, scale);\r\n",
       "    }\r\n",
       "    for (scale in ytickscales) {\r\n",
       "        min_scale = Math.min(min_scale, scale);\r\n",
       "        max_scale = Math.max(max_scale, scale);\r\n",
       "    }\r\n",
       "    root.data(\"min_scale\", min_scale);\r\n",
       "    root.data(\"max_scale\", max_scale);\r\n",
       "\r\n",
       "    // store the original positions of labels\r\n",
       "    if (xlabels) {\r\n",
       "        xlabels.selectAll(\"text\")\r\n",
       "               .forEach(function (element, i) {\r\n",
       "                   element.data(\"x\", element.asPX(\"x\"));\r\n",
       "               });\r\n",
       "    }\r\n",
       "\r\n",
       "    if (ylabels) {\r\n",
       "        ylabels.selectAll(\"text\")\r\n",
       "               .forEach(function (element, i) {\r\n",
       "                   element.data(\"y\", element.asPX(\"y\"));\r\n",
       "               });\r\n",
       "    }\r\n",
       "\r\n",
       "    // mark grid lines and ticks as in or out of scale.\r\n",
       "    var mark_inscale = function (element, i) {\r\n",
       "        element.attribute(\"gadfly:inscale\", element.attribute(\"gadfly:scale\") == 1.0);\r\n",
       "    };\r\n",
       "\r\n",
       "    if (xgridlines) xgridlines.selectAll(\"path\").forEach(mark_inscale);\r\n",
       "    if (ygridlines) ygridlines.selectAll(\"path\").forEach(mark_inscale);\r\n",
       "    if (xlabels) xlabels.selectAll(\"text\").forEach(mark_inscale);\r\n",
       "    if (ylabels) ylabels.selectAll(\"text\").forEach(mark_inscale);\r\n",
       "\r\n",
       "    // figure out the upper ond lower bounds on panning using the maximum\r\n",
       "    // and minum grid lines\r\n",
       "    var bounds = root.plotbounds();\r\n",
       "    var pan_bounds = {\r\n",
       "        x0: 0.0,\r\n",
       "        y0: 0.0,\r\n",
       "        x1: 0.0,\r\n",
       "        y1: 0.0\r\n",
       "    };\r\n",
       "\r\n",
       "    if (xgridlines) {\r\n",
       "        xgridlines\r\n",
       "            .selectAll(\"path\")\r\n",
       "            .forEach(function (element, i) {\r\n",
       "                if (element.attribute(\"gadfly:inscale\") == \"true\") {\r\n",
       "                    var bbox = element.node.getBBox();\r\n",
       "                    if (bounds.x1 - bbox.x < pan_bounds.x0) {\r\n",
       "                        pan_bounds.x0 = bounds.x1 - bbox.x;\r\n",
       "                    }\r\n",
       "                    if (bounds.x0 - bbox.x > pan_bounds.x1) {\r\n",
       "                        pan_bounds.x1 = bounds.x0 - bbox.x;\r\n",
       "                    }\r\n",
       "                    element.attr(\"visibility\", \"visible\");\r\n",
       "                }\r\n",
       "            });\r\n",
       "    }\r\n",
       "\r\n",
       "    if (ygridlines) {\r\n",
       "        ygridlines\r\n",
       "            .selectAll(\"path\")\r\n",
       "            .forEach(function (element, i) {\r\n",
       "                if (element.attribute(\"gadfly:inscale\") == \"true\") {\r\n",
       "                    var bbox = element.node.getBBox();\r\n",
       "                    if (bounds.y1 - bbox.y < pan_bounds.y0) {\r\n",
       "                        pan_bounds.y0 = bounds.y1 - bbox.y;\r\n",
       "                    }\r\n",
       "                    if (bounds.y0 - bbox.y > pan_bounds.y1) {\r\n",
       "                        pan_bounds.y1 = bounds.y0 - bbox.y;\r\n",
       "                    }\r\n",
       "                    element.attr(\"visibility\", \"visible\");\r\n",
       "                }\r\n",
       "            });\r\n",
       "    }\r\n",
       "\r\n",
       "    // nudge these values a little\r\n",
       "    pan_bounds.x0 -= 5;\r\n",
       "    pan_bounds.x1 += 5;\r\n",
       "    pan_bounds.y0 -= 5;\r\n",
       "    pan_bounds.y1 += 5;\r\n",
       "    root.data(\"pan_bounds\", pan_bounds);\r\n",
       "\r\n",
       "    root.data(\"zoompan-ready\", true)\r\n",
       "};\r\n",
       "\r\n",
       "\r\n",
       "// drag actions, i.e. zooming and panning\r\n",
       "var pan_action = {\r\n",
       "    start: function(root, x, y, event) {\r\n",
       "        root.data(\"dx\", 0);\r\n",
       "        root.data(\"dy\", 0);\r\n",
       "        root.data(\"tx0\", root.data(\"tx\"));\r\n",
       "        root.data(\"ty0\", root.data(\"ty\"));\r\n",
       "    },\r\n",
       "    update: function(root, dx, dy, x, y, event) {\r\n",
       "        var px_per_mm = root.data(\"px_per_mm\");\r\n",
       "        dx /= px_per_mm;\r\n",
       "        dy /= px_per_mm;\r\n",
       "\r\n",
       "        var tx0 = root.data(\"tx\"),\r\n",
       "            ty0 = root.data(\"ty\");\r\n",
       "\r\n",
       "        var dx0 = root.data(\"dx\"),\r\n",
       "            dy0 = root.data(\"dy\");\r\n",
       "\r\n",
       "        root.data(\"dx\", dx);\r\n",
       "        root.data(\"dy\", dy);\r\n",
       "\r\n",
       "        dx = dx - dx0;\r\n",
       "        dy = dy - dy0;\r\n",
       "\r\n",
       "        var tx = tx0 + dx,\r\n",
       "            ty = ty0 + dy;\r\n",
       "\r\n",
       "        set_plot_pan_zoom(root, tx, ty, root.data(\"scale\"));\r\n",
       "    },\r\n",
       "    end: function(root, event) {\r\n",
       "\r\n",
       "    },\r\n",
       "    cancel: function(root) {\r\n",
       "        set_plot_pan_zoom(root, root.data(\"tx0\"), root.data(\"ty0\"), root.data(\"scale\"));\r\n",
       "    }\r\n",
       "};\r\n",
       "\r\n",
       "var zoom_box;\r\n",
       "var zoom_action = {\r\n",
       "    start: function(root, x, y, event) {\r\n",
       "        var bounds = root.plotbounds();\r\n",
       "        var width = bounds.x1 - bounds.x0,\r\n",
       "            height = bounds.y1 - bounds.y0;\r\n",
       "        var ratio = width / height;\r\n",
       "        var xscalable = root.hasClass(\"xscalable\"),\r\n",
       "            yscalable = root.hasClass(\"yscalable\");\r\n",
       "        var px_per_mm = root.data(\"px_per_mm\");\r\n",
       "        x = xscalable ? x / px_per_mm : bounds.x0;\r\n",
       "        y = yscalable ? y / px_per_mm : bounds.y0;\r\n",
       "        var w = xscalable ? 0 : width;\r\n",
       "        var h = yscalable ? 0 : height;\r\n",
       "        zoom_box = root.rect(x, y, w, h).attr({\r\n",
       "            \"fill\": \"#000\",\r\n",
       "            \"opacity\": 0.25\r\n",
       "        });\r\n",
       "        zoom_box.data(\"ratio\", ratio);\r\n",
       "    },\r\n",
       "    update: function(root, dx, dy, x, y, event) {\r\n",
       "        var xscalable = root.hasClass(\"xscalable\"),\r\n",
       "            yscalable = root.hasClass(\"yscalable\");\r\n",
       "        var px_per_mm = root.data(\"px_per_mm\");\r\n",
       "        var bounds = root.plotbounds();\r\n",
       "        if (yscalable) {\r\n",
       "            y /= px_per_mm;\r\n",
       "            y = Math.max(bounds.y0, y);\r\n",
       "            y = Math.min(bounds.y1, y);\r\n",
       "        } else {\r\n",
       "            y = bounds.y1;\r\n",
       "        }\r\n",
       "        if (xscalable) {\r\n",
       "            x /= px_per_mm;\r\n",
       "            x = Math.max(bounds.x0, x);\r\n",
       "            x = Math.min(bounds.x1, x);\r\n",
       "        } else {\r\n",
       "            x = bounds.x1;\r\n",
       "        }\r\n",
       "\r\n",
       "        dx = x - zoom_box.attr(\"x\");\r\n",
       "        dy = y - zoom_box.attr(\"y\");\r\n",
       "        if (xscalable && yscalable) {\r\n",
       "            var ratio = zoom_box.data(\"ratio\");\r\n",
       "            var width = Math.min(Math.abs(dx), ratio * Math.abs(dy));\r\n",
       "            var height = Math.min(Math.abs(dy), Math.abs(dx) / ratio);\r\n",
       "            dx = width * dx / Math.abs(dx);\r\n",
       "            dy = height * dy / Math.abs(dy);\r\n",
       "        }\r\n",
       "        var xoffset = 0,\r\n",
       "            yoffset = 0;\r\n",
       "        if (dx < 0) {\r\n",
       "            xoffset = dx;\r\n",
       "            dx = -1 * dx;\r\n",
       "        }\r\n",
       "        if (dy < 0) {\r\n",
       "            yoffset = dy;\r\n",
       "            dy = -1 * dy;\r\n",
       "        }\r\n",
       "        if (isNaN(dy)) {\r\n",
       "            dy = 0.0;\r\n",
       "        }\r\n",
       "        if (isNaN(dx)) {\r\n",
       "            dx = 0.0;\r\n",
       "        }\r\n",
       "        zoom_box.transform(\"T\" + xoffset + \",\" + yoffset);\r\n",
       "        zoom_box.attr(\"width\", dx);\r\n",
       "        zoom_box.attr(\"height\", dy);\r\n",
       "    },\r\n",
       "    end: function(root, event) {\r\n",
       "        var xscalable = root.hasClass(\"xscalable\"),\r\n",
       "            yscalable = root.hasClass(\"yscalable\");\r\n",
       "        var zoom_bounds = zoom_box.getBBox();\r\n",
       "        if (zoom_bounds.width * zoom_bounds.height <= 0) {\r\n",
       "            return;\r\n",
       "        }\r\n",
       "        var plot_bounds = root.plotbounds();\r\n",
       "        var zoom_factor = 1.0;\r\n",
       "        if (yscalable) {\r\n",
       "            zoom_factor = (plot_bounds.y1 - plot_bounds.y0) / zoom_bounds.height;\r\n",
       "        } else {\r\n",
       "            zoom_factor = (plot_bounds.x1 - plot_bounds.x0) / zoom_bounds.width;\r\n",
       "        }\r\n",
       "        var tx = (root.data(\"tx\") - zoom_bounds.x) * zoom_factor + plot_bounds.x0,\r\n",
       "            ty = (root.data(\"ty\") - zoom_bounds.y) * zoom_factor + plot_bounds.y0;\r\n",
       "        set_plot_pan_zoom(root, tx, ty, root.data(\"scale\") * zoom_factor);\r\n",
       "        zoom_box.remove();\r\n",
       "    },\r\n",
       "    cancel: function(root) {\r\n",
       "        zoom_box.remove();\r\n",
       "    }\r\n",
       "};\r\n",
       "\r\n",
       "\r\n",
       "Gadfly.guide_background_drag_onstart = function(x, y, event) {\r\n",
       "    var root = this.plotroot();\r\n",
       "    var scalable = root.hasClass(\"xscalable\") || root.hasClass(\"yscalable\");\r\n",
       "    var zoomable = !event.altKey && !event.ctrlKey && event.shiftKey && scalable;\r\n",
       "    var panable = !event.altKey && !event.ctrlKey && !event.shiftKey && scalable;\r\n",
       "    var drag_action = zoomable ? zoom_action :\r\n",
       "                      panable  ? pan_action :\r\n",
       "                                 undefined;\r\n",
       "    root.data(\"drag_action\", drag_action);\r\n",
       "    if (drag_action) {\r\n",
       "        var cancel_drag_action = function(event) {\r\n",
       "            if (event.which == 27) { // esc key\r\n",
       "                drag_action.cancel(root);\r\n",
       "                root.data(\"drag_action\", undefined);\r\n",
       "            }\r\n",
       "        };\r\n",
       "        window.addEventListener(\"keyup\", cancel_drag_action);\r\n",
       "        root.data(\"cancel_drag_action\", cancel_drag_action);\r\n",
       "        drag_action.start(root, x, y, event);\r\n",
       "    }\r\n",
       "};\r\n",
       "\r\n",
       "\r\n",
       "Gadfly.guide_background_drag_onmove = function(dx, dy, x, y, event) {\r\n",
       "    var root = this.plotroot();\r\n",
       "    var drag_action = root.data(\"drag_action\");\r\n",
       "    if (drag_action) {\r\n",
       "        drag_action.update(root, dx, dy, x, y, event);\r\n",
       "    }\r\n",
       "};\r\n",
       "\r\n",
       "\r\n",
       "Gadfly.guide_background_drag_onend = function(event) {\r\n",
       "    var root = this.plotroot();\r\n",
       "    window.removeEventListener(\"keyup\", root.data(\"cancel_drag_action\"));\r\n",
       "    root.data(\"cancel_drag_action\", undefined);\r\n",
       "    var drag_action = root.data(\"drag_action\");\r\n",
       "    if (drag_action) {\r\n",
       "        drag_action.end(root, event);\r\n",
       "    }\r\n",
       "    root.data(\"drag_action\", undefined);\r\n",
       "};\r\n",
       "\r\n",
       "\r\n",
       "Gadfly.guide_background_scroll = function(event) {\r\n",
       "    if (event.shiftKey) {\r\n",
       "        increase_zoom_by_position(this.plotroot(), 0.001 * event.wheelDelta);\r\n",
       "        event.preventDefault();\r\n",
       "    }\r\n",
       "};\r\n",
       "\r\n",
       "\r\n",
       "Gadfly.zoomslider_button_mouseover = function(event) {\r\n",
       "    this.select(\".button_logo\")\r\n",
       "         .animate({fill: this.data(\"mouseover_color\")}, 100);\r\n",
       "};\r\n",
       "\r\n",
       "\r\n",
       "Gadfly.zoomslider_button_mouseout = function(event) {\r\n",
       "     this.select(\".button_logo\")\r\n",
       "         .animate({fill: this.data(\"mouseout_color\")}, 100);\r\n",
       "};\r\n",
       "\r\n",
       "\r\n",
       "Gadfly.zoomslider_zoomout_click = function(event) {\r\n",
       "    increase_zoom_by_position(this.plotroot(), -0.1, true);\r\n",
       "};\r\n",
       "\r\n",
       "\r\n",
       "Gadfly.zoomslider_zoomin_click = function(event) {\r\n",
       "    increase_zoom_by_position(this.plotroot(), 0.1, true);\r\n",
       "};\r\n",
       "\r\n",
       "\r\n",
       "Gadfly.zoomslider_track_click = function(event) {\r\n",
       "    // TODO\r\n",
       "};\r\n",
       "\r\n",
       "\r\n",
       "// Map slider position x to scale y using the function y = a*exp(b*x)+c.\r\n",
       "// The constants a, b, and c are solved using the constraint that the function\r\n",
       "// should go through the points (0; min_scale), (0.5; 1), and (1; max_scale).\r\n",
       "var scale_from_slider_position = function(position, min_scale, max_scale) {\r\n",
       "    var a = (1 - 2 * min_scale + min_scale * min_scale) / (min_scale + max_scale - 2),\r\n",
       "        b = 2 * Math.log((max_scale - 1) / (1 - min_scale)),\r\n",
       "        c = (min_scale * max_scale - 1) / (min_scale + max_scale - 2);\r\n",
       "    return a * Math.exp(b * position) + c;\r\n",
       "}\r\n",
       "\r\n",
       "// inverse of scale_from_slider_position\r\n",
       "var slider_position_from_scale = function(scale, min_scale, max_scale) {\r\n",
       "    var a = (1 - 2 * min_scale + min_scale * min_scale) / (min_scale + max_scale - 2),\r\n",
       "        b = 2 * Math.log((max_scale - 1) / (1 - min_scale)),\r\n",
       "        c = (min_scale * max_scale - 1) / (min_scale + max_scale - 2);\r\n",
       "    return 1 / b * Math.log((scale - c) / a);\r\n",
       "}\r\n",
       "\r\n",
       "var increase_zoom_by_position = function(root, delta_position, animate) {\r\n",
       "    var scale = root.data(\"scale\"),\r\n",
       "        min_scale = root.data(\"min_scale\"),\r\n",
       "        max_scale = root.data(\"max_scale\");\r\n",
       "    var position = slider_position_from_scale(scale, min_scale, max_scale);\r\n",
       "    position += delta_position;\r\n",
       "    scale = scale_from_slider_position(position, min_scale, max_scale);\r\n",
       "    set_zoom(root, scale, animate);\r\n",
       "}\r\n",
       "\r\n",
       "var set_zoom = function(root, scale, animate) {\r\n",
       "    var min_scale = root.data(\"min_scale\"),\r\n",
       "        max_scale = root.data(\"max_scale\"),\r\n",
       "        old_scale = root.data(\"scale\");\r\n",
       "    var new_scale = Math.max(min_scale, Math.min(scale, max_scale));\r\n",
       "    if (animate) {\r\n",
       "        Snap.animate(\r\n",
       "            old_scale,\r\n",
       "            new_scale,\r\n",
       "            function (new_scale) {\r\n",
       "                update_plot_scale(root, new_scale);\r\n",
       "            },\r\n",
       "            200);\r\n",
       "    } else {\r\n",
       "        update_plot_scale(root, new_scale);\r\n",
       "    }\r\n",
       "}\r\n",
       "\r\n",
       "\r\n",
       "var update_plot_scale = function(root, new_scale) {\r\n",
       "    var trans = scale_centered_translation(root, new_scale);\r\n",
       "    set_plot_pan_zoom(root, trans.x, trans.y, new_scale);\r\n",
       "\r\n",
       "    root.selectAll(\".zoomslider_thumb\")\r\n",
       "        .forEach(function (element, i) {\r\n",
       "            var min_pos = element.data(\"min_pos\"),\r\n",
       "                max_pos = element.data(\"max_pos\"),\r\n",
       "                min_scale = root.data(\"min_scale\"),\r\n",
       "                max_scale = root.data(\"max_scale\");\r\n",
       "            var xmid = (min_pos + max_pos) / 2;\r\n",
       "            var xpos = slider_position_from_scale(new_scale, min_scale, max_scale);\r\n",
       "            element.transform(new Snap.Matrix().translate(\r\n",
       "                Math.max(min_pos, Math.min(\r\n",
       "                         max_pos, min_pos + (max_pos - min_pos) * xpos)) - xmid, 0));\r\n",
       "    });\r\n",
       "};\r\n",
       "\r\n",
       "\r\n",
       "Gadfly.zoomslider_thumb_dragmove = function(dx, dy, x, y, event) {\r\n",
       "    var root = this.plotroot();\r\n",
       "    var min_pos = this.data(\"min_pos\"),\r\n",
       "        max_pos = this.data(\"max_pos\"),\r\n",
       "        min_scale = root.data(\"min_scale\"),\r\n",
       "        max_scale = root.data(\"max_scale\"),\r\n",
       "        old_scale = root.data(\"old_scale\");\r\n",
       "\r\n",
       "    var px_per_mm = root.data(\"px_per_mm\");\r\n",
       "    dx /= px_per_mm;\r\n",
       "    dy /= px_per_mm;\r\n",
       "\r\n",
       "    var xmid = (min_pos + max_pos) / 2;\r\n",
       "    var xpos = slider_position_from_scale(old_scale, min_scale, max_scale) +\r\n",
       "                   dx / (max_pos - min_pos);\r\n",
       "\r\n",
       "    // compute the new scale\r\n",
       "    var new_scale = scale_from_slider_position(xpos, min_scale, max_scale);\r\n",
       "    new_scale = Math.min(max_scale, Math.max(min_scale, new_scale));\r\n",
       "\r\n",
       "    update_plot_scale(root, new_scale);\r\n",
       "    event.stopPropagation();\r\n",
       "};\r\n",
       "\r\n",
       "\r\n",
       "Gadfly.zoomslider_thumb_dragstart = function(x, y, event) {\r\n",
       "    this.animate({fill: this.data(\"mouseover_color\")}, 100);\r\n",
       "    var root = this.plotroot();\r\n",
       "\r\n",
       "    // keep track of what the scale was when we started dragging\r\n",
       "    root.data(\"old_scale\", root.data(\"scale\"));\r\n",
       "    event.stopPropagation();\r\n",
       "};\r\n",
       "\r\n",
       "\r\n",
       "Gadfly.zoomslider_thumb_dragend = function(event) {\r\n",
       "    this.animate({fill: this.data(\"mouseout_color\")}, 100);\r\n",
       "    event.stopPropagation();\r\n",
       "};\r\n",
       "\r\n",
       "\r\n",
       "var toggle_color_class = function(root, color_class, ison) {\r\n",
       "    var guides = root.selectAll(\".guide.\" + color_class + \",.guide .\" + color_class);\r\n",
       "    var geoms = root.selectAll(\".geometry.\" + color_class + \",.geometry .\" + color_class);\r\n",
       "    if (ison) {\r\n",
       "        guides.animate({opacity: 0.5}, 250);\r\n",
       "        geoms.animate({opacity: 0.0}, 250);\r\n",
       "    } else {\r\n",
       "        guides.animate({opacity: 1.0}, 250);\r\n",
       "        geoms.animate({opacity: 1.0}, 250);\r\n",
       "    }\r\n",
       "};\r\n",
       "\r\n",
       "\r\n",
       "Gadfly.colorkey_swatch_click = function(event) {\r\n",
       "    var root = this.plotroot();\r\n",
       "    var color_class = this.data(\"color_class\");\r\n",
       "\r\n",
       "    if (event.shiftKey) {\r\n",
       "        root.selectAll(\".colorkey text\")\r\n",
       "            .forEach(function (element) {\r\n",
       "                var other_color_class = element.data(\"color_class\");\r\n",
       "                if (other_color_class != color_class) {\r\n",
       "                    toggle_color_class(root, other_color_class,\r\n",
       "                                       element.attr(\"opacity\") == 1.0);\r\n",
       "                }\r\n",
       "            });\r\n",
       "    } else {\r\n",
       "        toggle_color_class(root, color_class, this.attr(\"opacity\") == 1.0);\r\n",
       "    }\r\n",
       "};\r\n",
       "\r\n",
       "\r\n",
       "return Gadfly;\r\n",
       "\r\n",
       "}));\r\n",
       "\r\n",
       "\r\n",
       "//@ sourceURL=gadfly.js\r\n",
       "\n",
       "(function (glob, factory) {\n",
       "    // AMD support\n",
       "      if (typeof require === \"function\" && typeof define === \"function\" && define.amd) {\n",
       "        require([\"Snap.svg\", \"Gadfly\"], function (Snap, Gadfly) {\n",
       "            factory(Snap, Gadfly);\n",
       "        });\n",
       "      } else {\n",
       "          factory(glob.Snap, glob.Gadfly);\n",
       "      }\n",
       "})(window, function (Snap, Gadfly) {\n",
       "    var fig = Snap(\"#img-9bbbe706\");\n",
       "fig.select(\"#img-9bbbe706-5\")\n",
       "   .init_gadfly();\n",
       "fig.select(\"#img-9bbbe706-7\")\n",
       "   .plotroot().data(\"unfocused_ygrid_color\", \"#D0D0E0\")\n",
       ";\n",
       "fig.select(\"#img-9bbbe706-7\")\n",
       "   .plotroot().data(\"focused_ygrid_color\", \"#A0A0A0\")\n",
       ";\n",
       "fig.select(\"#img-9bbbe706-8\")\n",
       "   .plotroot().data(\"unfocused_xgrid_color\", \"#D0D0E0\")\n",
       ";\n",
       "fig.select(\"#img-9bbbe706-8\")\n",
       "   .plotroot().data(\"focused_xgrid_color\", \"#A0A0A0\")\n",
       ";\n",
       "fig.select(\"#img-9bbbe706-15\")\n",
       "   .data(\"mouseover_color\", \"#CD5C5C\")\n",
       ";\n",
       "fig.select(\"#img-9bbbe706-15\")\n",
       "   .data(\"mouseout_color\", \"#6A6A6A\")\n",
       ";\n",
       "fig.select(\"#img-9bbbe706-15\")\n",
       "   .click(Gadfly.zoomslider_zoomin_click)\n",
       ".mouseenter(Gadfly.zoomslider_button_mouseover)\n",
       ".mouseleave(Gadfly.zoomslider_button_mouseout)\n",
       ";\n",
       "fig.select(\"#img-9bbbe706-17\")\n",
       "   .data(\"max_pos\", 120.42)\n",
       ";\n",
       "fig.select(\"#img-9bbbe706-17\")\n",
       "   .data(\"min_pos\", 103.42)\n",
       ";\n",
       "fig.select(\"#img-9bbbe706-17\")\n",
       "   .click(Gadfly.zoomslider_track_click);\n",
       "fig.select(\"#img-9bbbe706-18\")\n",
       "   .data(\"max_pos\", 120.42)\n",
       ";\n",
       "fig.select(\"#img-9bbbe706-18\")\n",
       "   .data(\"min_pos\", 103.42)\n",
       ";\n",
       "fig.select(\"#img-9bbbe706-18\")\n",
       "   .data(\"mouseover_color\", \"#CD5C5C\")\n",
       ";\n",
       "fig.select(\"#img-9bbbe706-18\")\n",
       "   .data(\"mouseout_color\", \"#6A6A6A\")\n",
       ";\n",
       "fig.select(\"#img-9bbbe706-18\")\n",
       "   .drag(Gadfly.zoomslider_thumb_dragmove,\n",
       "     Gadfly.zoomslider_thumb_dragstart,\n",
       "     Gadfly.zoomslider_thumb_dragend)\n",
       ";\n",
       "fig.select(\"#img-9bbbe706-19\")\n",
       "   .data(\"mouseover_color\", \"#CD5C5C\")\n",
       ";\n",
       "fig.select(\"#img-9bbbe706-19\")\n",
       "   .data(\"mouseout_color\", \"#6A6A6A\")\n",
       ";\n",
       "fig.select(\"#img-9bbbe706-19\")\n",
       "   .click(Gadfly.zoomslider_zoomout_click)\n",
       ".mouseenter(Gadfly.zoomslider_button_mouseover)\n",
       ".mouseleave(Gadfly.zoomslider_button_mouseout)\n",
       ";\n",
       "    });\n",
       "]]> </script>\n",
       "</svg>\n"
      ],
      "text/plain": [
       "Plot(...)"
      ]
     },
     "execution_count": 68,
     "metadata": {},
     "output_type": "execute_result"
    }
   ],
   "source": [
    "X = [1,7,23,5,0]\n",
    "Y = [11,62,3,14,15]\n",
    "Labels = [\"one\", \"two\", \"three\", \"four\", \"five\"]\n",
    "\n",
    "Gadfly.plot(x=X, y=Y, label=Labels,Geom.point, Geom.label)"
   ]
  },
  {
   "cell_type": "code",
   "execution_count": 69,
   "metadata": {
    "collapsed": false
   },
   "outputs": [
    {
     "data": {
      "image/png": "[encoded data removed]",
      "text/plain": [
       "PyPlot.Figure(PyObject <matplotlib.figure.Figure object at 0x000000002554C6A0>)"
      ]
     },
     "metadata": {},
     "output_type": "display_data"
    }
   ],
   "source": [
    "#PyPlot is a wrapper for Python's matplotlib\n",
    "\n",
    "x = iris[1][1:100]\n",
    "y = iris[3][1:100]\n",
    "p = PyPlot.scatter(x,y, c=collect(x))\n",
    "xlabel(\"Sepal Length\")\n",
    "ylabel(\"Petal Width\")\n",
    "title(\"Iris\")\n",
    "grid(\"on\")"
   ]
  },
  {
   "cell_type": "code",
   "execution_count": null,
   "metadata": {
    "collapsed": true
   },
   "outputs": [],
   "source": []
  }
 ],
 "metadata": {
  "kernelspec": {
   "display_name": "Julia 0.5.0-dev",
   "language": "julia",
   "name": "julia-0.5"
  },
  "language_info": {
   "file_extension": ".jl",
   "mimetype": "application/julia",
   "name": "julia",
   "version": "0.5.0"
  }
 },
 "nbformat": 4,
 "nbformat_minor": 0
}
